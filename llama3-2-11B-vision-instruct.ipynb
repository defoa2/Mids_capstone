{
 "cells": [
  {
   "cell_type": "code",
   "execution_count": 1,
   "id": "a2fa69ce-ab2a-43e4-b277-bf99e1f23652",
   "metadata": {},
   "outputs": [
    {
     "name": "stdout",
     "output_type": "stream",
     "text": [
      "Requirement already satisfied: transformers in /home/ubuntu/anaconda3/lib/python3.12/site-packages (4.45.2)\n",
      "Requirement already satisfied: filelock in /home/ubuntu/anaconda3/lib/python3.12/site-packages (from transformers) (3.13.1)\n",
      "Requirement already satisfied: huggingface-hub<1.0,>=0.23.2 in /home/ubuntu/anaconda3/lib/python3.12/site-packages (from transformers) (0.25.2)\n",
      "Requirement already satisfied: numpy>=1.17 in /home/ubuntu/anaconda3/lib/python3.12/site-packages (from transformers) (1.26.4)\n",
      "Requirement already satisfied: packaging>=20.0 in /home/ubuntu/anaconda3/lib/python3.12/site-packages (from transformers) (23.2)\n",
      "Requirement already satisfied: pyyaml>=5.1 in /home/ubuntu/anaconda3/lib/python3.12/site-packages (from transformers) (6.0.1)\n",
      "Requirement already satisfied: regex!=2019.12.17 in /home/ubuntu/anaconda3/lib/python3.12/site-packages (from transformers) (2023.10.3)\n",
      "Requirement already satisfied: requests in /home/ubuntu/anaconda3/lib/python3.12/site-packages (from transformers) (2.32.2)\n",
      "Requirement already satisfied: safetensors>=0.4.1 in /home/ubuntu/anaconda3/lib/python3.12/site-packages (from transformers) (0.4.5)\n",
      "Requirement already satisfied: tokenizers<0.21,>=0.20 in /home/ubuntu/anaconda3/lib/python3.12/site-packages (from transformers) (0.20.1)\n",
      "Requirement already satisfied: tqdm>=4.27 in /home/ubuntu/anaconda3/lib/python3.12/site-packages (from transformers) (4.66.4)\n",
      "Requirement already satisfied: fsspec>=2023.5.0 in /home/ubuntu/anaconda3/lib/python3.12/site-packages (from huggingface-hub<1.0,>=0.23.2->transformers) (2024.3.1)\n",
      "Requirement already satisfied: typing-extensions>=3.7.4.3 in /home/ubuntu/anaconda3/lib/python3.12/site-packages (from huggingface-hub<1.0,>=0.23.2->transformers) (4.11.0)\n",
      "Requirement already satisfied: charset-normalizer<4,>=2 in /home/ubuntu/anaconda3/lib/python3.12/site-packages (from requests->transformers) (2.0.4)\n",
      "Requirement already satisfied: idna<4,>=2.5 in /home/ubuntu/anaconda3/lib/python3.12/site-packages (from requests->transformers) (3.7)\n",
      "Requirement already satisfied: urllib3<3,>=1.21.1 in /home/ubuntu/anaconda3/lib/python3.12/site-packages (from requests->transformers) (2.2.2)\n",
      "Requirement already satisfied: certifi>=2017.4.17 in /home/ubuntu/anaconda3/lib/python3.12/site-packages (from requests->transformers) (2024.8.30)\n"
     ]
    }
   ],
   "source": [
    "!pip install transformers"
   ]
  },
  {
   "cell_type": "code",
   "execution_count": 1,
   "id": "5dc03033-65c9-4276-80c6-165613a11f51",
   "metadata": {},
   "outputs": [],
   "source": [
    "import requests\n",
    "import torch\n",
    "from PIL import Image\n",
    "from transformers import MllamaForConditionalGeneration, AutoProcessor\n",
    "import numpy as np\n",
    "import matplotlib.pyplot as plt"
   ]
  },
  {
   "cell_type": "code",
   "execution_count": 2,
   "id": "4bdf7ea4-8766-47ee-b973-f908721898c1",
   "metadata": {},
   "outputs": [],
   "source": [
    "images = np.load(\"data_x.npy\")\n",
    "labels = np.load(\"data_y.npy\", allow_pickle=True)"
   ]
  },
  {
   "cell_type": "code",
   "execution_count": 3,
   "id": "99cbc2f8-0db0-42ba-9e5c-c687d51c1fa7",
   "metadata": {},
   "outputs": [
    {
     "name": "stdout",
     "output_type": "stream",
     "text": [
      "(529, 128, 128, 3)\n"
     ]
    }
   ],
   "source": [
    "print(images.shape)"
   ]
  },
  {
   "cell_type": "code",
   "execution_count": 4,
   "id": "973f468d-875c-4939-b9f3-239fdb010c49",
   "metadata": {},
   "outputs": [
    {
     "name": "stdout",
     "output_type": "stream",
     "text": [
      "(529, 1)\n"
     ]
    }
   ],
   "source": [
    "print(labels.shape)"
   ]
  },
  {
   "cell_type": "code",
   "execution_count": 5,
   "id": "c9bfe49f-5df9-4b47-b40d-24acd08dc716",
   "metadata": {},
   "outputs": [
    {
     "name": "stdout",
     "output_type": "stream",
     "text": [
      "['aluminum_can' 'boxes' 'glass_bottle' 'paper_cup' 'plastic_bottle'\n",
      " 'soda_can']\n"
     ]
    }
   ],
   "source": [
    "print(np.unique(labels))"
   ]
  },
  {
   "cell_type": "code",
   "execution_count": 93,
   "id": "9bd46367-c81a-4a7e-8e99-57b35c255a28",
   "metadata": {},
   "outputs": [
    {
     "name": "stdout",
     "output_type": "stream",
     "text": [
      "[['boxes']\n",
      " ['boxes']\n",
      " ['boxes']\n",
      " ['soda_can']\n",
      " ['soda_can']\n",
      " ['soda_can']]\n"
     ]
    }
   ],
   "source": [
    "print(labels[226:232])"
   ]
  },
  {
   "cell_type": "code",
   "execution_count": 6,
   "id": "59aaa7d8-8e75-4152-9538-3261702c23b3",
   "metadata": {},
   "outputs": [],
   "source": [
    "img = Image.fromarray(images[0], 'RGB')"
   ]
  },
  {
   "cell_type": "code",
   "execution_count": 7,
   "id": "537af099-308b-4c69-acd1-9bfbb596e436",
   "metadata": {},
   "outputs": [
    {
     "data": {
      "image/jpeg": "[encoded data removed]",
      "image/png": "[encoded data removed]",
      "text/plain": [
       "<PIL.Image.Image image mode=RGB size=128x128>"
      ]
     },
     "execution_count": 7,
     "metadata": {},
     "output_type": "execute_result"
    }
   ],
   "source": [
    "img"
   ]
  },
  {
   "cell_type": "code",
   "execution_count": 8,
   "id": "43ca7d6c-ffee-4756-be70-1d24cdf4eeb1",
   "metadata": {},
   "outputs": [
    {
     "name": "stdout",
     "output_type": "stream",
     "text": [
      "Token is valid (permission: read).\n",
      "\u001b[1m\u001b[31mCannot authenticate through git-credential as no helper is defined on your machine.\n",
      "You might have to re-authenticate when pushing to the Hugging Face Hub.\n",
      "Run the following command in your terminal in case you want to set the 'store' credential helper as default.\n",
      "\n",
      "git config --global credential.helper store\n",
      "\n",
      "Read https://git-scm.com/book/en/v2/Git-Tools-Credential-Storage for more details.\u001b[0m\n",
      "Token has not been saved to git credential helper.\n",
      "Your token has been saved to /home/ubuntu/.cache/huggingface/token\n",
      "Login successful\n"
     ]
    }
   ],
   "source": [
    "!huggingface-cli login --token YOUR_TOKEN --add-to-git-credential"
   ]
  },
  {
   "cell_type": "code",
   "execution_count": 9,
   "id": "0038091c-06f0-4a01-b39b-551e96e9388f",
   "metadata": {},
   "outputs": [
    {
     "name": "stderr",
     "output_type": "stream",
     "text": [
      "The model weights are not tied. Please use the `tie_weights` method before using the `infer_auto_device` function.\n"
     ]
    },
    {
     "data": {
      "application/vnd.jupyter.widget-view+json": {
       "model_id": "bb9c5c6caee84c9387ea24fbb46929c5",
       "version_major": 2,
       "version_minor": 0
      },
      "text/plain": [
       "Loading checkpoint shards:   0%|          | 0/5 [00:00<?, ?it/s]"
      ]
     },
     "metadata": {},
     "output_type": "display_data"
    }
   ],
   "source": [
    "model_id = \"meta-llama/Llama-3.2-11B-Vision-Instruct\"\n",
    "\n",
    "model = MllamaForConditionalGeneration.from_pretrained(\n",
    "    model_id,\n",
    "    torch_dtype=torch.bfloat16,\n",
    "    device_map=\"auto\"\n",
    ")\n",
    "model.tie_weights()"
   ]
  },
  {
   "cell_type": "code",
   "execution_count": 10,
   "id": "0e8609b3-39bf-4c38-a41a-3160345c4886",
   "metadata": {},
   "outputs": [],
   "source": [
    "processor = AutoProcessor.from_pretrained(model_id)"
   ]
  },
  {
   "cell_type": "code",
   "execution_count": null,
   "id": "b665b667-7612-4092-b8ee-76dea456b8c1",
   "metadata": {},
   "outputs": [],
   "source": [
    "#url = \"https://huggingface.co/datasets/huggingface/documentation-images/resolve/0052a70beed5bf71b92610a43a52df6d286cd5f3/diffusers/rabbit.jpg\"\n",
    "#image = Image.open(requests.get(url, stream=True).raw)"
   ]
  },
  {
   "cell_type": "code",
   "execution_count": 111,
   "id": "55914e97-ec60-4b73-92b2-ed617645f852",
   "metadata": {},
   "outputs": [],
   "source": [
    "def mapResult(s):\n",
    "    if s == \"Aluminum Can\":\n",
    "        return \"aluminum_can\"\n",
    "    elif s == \"Box\":\n",
    "        return \"boxes\"\n",
    "    elif s == \"Glass bottle\":\n",
    "        return \"glass_bottle\"\n",
    "    elif s == \"Paper cup\":\n",
    "        return \"paper_cup\"\n",
    "    elif s == \"Plastic bottle\":\n",
    "        return \"plastic_bottle\"\n",
    "    elif s == \"Soda can\":\n",
    "        return \"soda_can\"\n",
    "    "
   ]
  },
  {
   "cell_type": "code",
   "execution_count": 104,
   "id": "79cf25a6-ab05-411b-bab3-adfd9e4d6fd8",
   "metadata": {},
   "outputs": [
    {
     "name": "stdout",
     "output_type": "stream",
     "text": [
      "\n",
      "\"Tell me which of the following items is most likely to be the image. Select only 1 item from the following list: \n",
      "\n",
      "1.) Aluminum Can\n",
      "2.) Box\n",
      "3.) Glass bottle\n",
      "4.) Paper cup\n",
      "5.) Plastic bottle\n",
      "6.) Soda can\n",
      "\n",
      "Output only the item name.\n"
     ]
    }
   ],
   "source": [
    "text = \"\"\"\n",
    "\"Tell me which of the following items is most likely to be the image. Select only 1 item from the following list: \n",
    "\n",
    "1.) Aluminum Can\n",
    "2.) Box\n",
    "3.) Glass bottle\n",
    "4.) Paper cup\n",
    "5.) Plastic bottle\n",
    "6.) Soda can\n",
    "\n",
    "Output only the item name.\"\"\"\n",
    "print(text)"
   ]
  },
  {
   "cell_type": "code",
   "execution_count": 105,
   "id": "fcb0a080-49a6-483f-a061-8442fc554314",
   "metadata": {},
   "outputs": [],
   "source": [
    "messages = [\n",
    "    {\"role\": \"user\", \"content\": [\n",
    "        {\"type\": \"image\"},\n",
    "        {\"type\": \"text\", \"text\": text}\n",
    "    ]}\n",
    "]"
   ]
  },
  {
   "cell_type": "code",
   "execution_count": 106,
   "id": "59c1c9be-8b47-42e0-aa0e-1e6058682c1e",
   "metadata": {},
   "outputs": [],
   "source": [
    "input_text = processor.apply_chat_template(messages, add_generation_prompt=False)"
   ]
  },
  {
   "cell_type": "code",
   "execution_count": 121,
   "id": "a9d01838-cbf1-4576-9da7-dc9e01865a21",
   "metadata": {},
   "outputs": [
    {
     "name": "stdout",
     "output_type": "stream",
     "text": [
      "processed 0\n",
      "processed 10\n",
      "processed 20\n",
      "processed 30\n",
      "processed 40\n",
      "processed 50\n",
      "processed 60\n",
      "processed 70\n",
      "processed 80\n",
      "processed 90\n",
      "processed 100\n",
      "processed 110\n",
      "processed 120\n",
      "processed 130\n",
      "processed 140\n",
      "processed 150\n",
      "processed 160\n",
      "processed 170\n",
      "processed 180\n",
      "processed 190\n",
      "processed 200\n",
      "processed 210\n",
      "processed 220\n",
      "processed 230\n",
      "processed 240\n",
      "processed 250\n",
      "processed 260\n",
      "processed 270\n",
      "processed 280\n",
      "processed 290\n",
      "processed 300\n",
      "processed 310\n",
      "processed 320\n",
      "processed 330\n",
      "processed 340\n",
      "processed 350\n",
      "processed 360\n",
      "processed 370\n",
      "processed 380\n",
      "processed 390\n",
      "processed 400\n",
      "processed 410\n",
      "processed 420\n",
      "processed 430\n",
      "processed 440\n",
      "processed 450\n",
      "processed 460\n",
      "processed 470\n",
      "processed 480\n",
      "processed 490\n",
      "processed 500\n",
      "processed 510\n",
      "processed 520\n"
     ]
    }
   ],
   "source": [
    "from string import punctuation\n",
    "\n",
    "results = []\n",
    "pred_labels = []\n",
    "\n",
    "for i in range(len(images)):\n",
    "    step = i % 10\n",
    "    if step == 0:\n",
    "        print(\"processed\", i)\n",
    "    img = Image.fromarray(images[i], 'RGB')\n",
    "    inputs = processor(\n",
    "        img,\n",
    "        input_text,\n",
    "        add_special_tokens=False,\n",
    "        return_tensors=\"pt\"\n",
    "    ).to(model.device)\n",
    "\n",
    "    output = model.generate(**inputs, max_new_tokens=30)\n",
    "    result = processor.decode(output[0], skip_special_tokens=True, clean_up_tokenization_spaces=True)\n",
    "    lines = result.splitlines()\n",
    "    item = lines[14].strip(punctuation)\n",
    "    results.append(item)\n",
    "    pred_labels.append(mapResult(item))\n",
    "    "
   ]
  },
  {
   "cell_type": "code",
   "execution_count": 122,
   "id": "14189d75-4a05-4da4-9b80-887a847e1a01",
   "metadata": {},
   "outputs": [
    {
     "name": "stdout",
     "output_type": "stream",
     "text": [
      "529\n"
     ]
    }
   ],
   "source": [
    "print(len(results))"
   ]
  },
  {
   "cell_type": "code",
   "execution_count": 123,
   "id": "73faa7b9-5c3a-4b6e-9a16-f5d3e8af2f88",
   "metadata": {},
   "outputs": [
    {
     "name": "stdout",
     "output_type": "stream",
     "text": [
      "529\n"
     ]
    }
   ],
   "source": [
    "print(len(pred_labels))"
   ]
  },
  {
   "cell_type": "code",
   "execution_count": 124,
   "id": "2b376068-aeac-4bbd-96e2-56bd8d914afe",
   "metadata": {},
   "outputs": [
    {
     "name": "stdout",
     "output_type": "stream",
     "text": [
      "File written successfully\n"
     ]
    }
   ],
   "source": [
    "# open file\n",
    "with open('results_raw.txt', 'w+') as f:\n",
    "    \n",
    "    # write elements of list\n",
    "    for item in results:\n",
    "        f.write('%s\\n' %item)\n",
    "    \n",
    "    print(\"File written successfully\")\n",
    "\n",
    "\n",
    "# close the file\n",
    "f.close()"
   ]
  },
  {
   "cell_type": "code",
   "execution_count": 125,
   "id": "cbd2c7ab-b3ed-4d3e-aefd-d6f20e7e609b",
   "metadata": {},
   "outputs": [
    {
     "name": "stdout",
     "output_type": "stream",
     "text": [
      "File written successfully\n"
     ]
    }
   ],
   "source": [
    "# open file\n",
    "with open('pred_labels.txt', 'w+') as fl:\n",
    "    \n",
    "    # write elements of list\n",
    "    for item in pred_labels:\n",
    "        fl.write('%s\\n' %item)\n",
    "    \n",
    "    print(\"File written successfully\")\n",
    "\n",
    "\n",
    "# close the file\n",
    "fl.close()"
   ]
  },
  {
   "cell_type": "code",
   "execution_count": 126,
   "id": "0d54f59b-3736-40b5-a227-cf64e23325a3",
   "metadata": {},
   "outputs": [
    {
     "name": "stdout",
     "output_type": "stream",
     "text": [
      "80.71833648393195\n"
     ]
    }
   ],
   "source": [
    "numCorrect = 0\n",
    "for i in range(len(labels)):\n",
    "    if (labels[i] == pred_labels[i]):\n",
    "        numCorrect = numCorrect + 1\n",
    "\n",
    "acc = (numCorrect / len(labels)) * 100\n",
    "print(acc)"
   ]
  },
  {
   "cell_type": "code",
   "execution_count": null,
   "id": "9ba57c89-4c6d-4ef7-88df-ae9a18a035ad",
   "metadata": {},
   "outputs": [],
   "source": []
  }
 ],
 "metadata": {
  "kernelspec": {
   "display_name": "Python 3 (ipykernel)",
   "language": "python",
   "name": "python3"
  },
  "language_info": {
   "codemirror_mode": {
    "name": "ipython",
    "version": 3
   },
   "file_extension": ".py",
   "mimetype": "text/x-python",
   "name": "python",
   "nbconvert_exporter": "python",
   "pygments_lexer": "ipython3",
   "version": "3.12.2"
  }
 },
 "nbformat": 4,
 "nbformat_minor": 5
}
