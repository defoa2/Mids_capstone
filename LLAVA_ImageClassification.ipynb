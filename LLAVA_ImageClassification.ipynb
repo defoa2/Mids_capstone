{
  "nbformat": 4,
  "nbformat_minor": 0,
  "metadata": {
    "colab": {
      "provenance": [],
      "gpuType": "T4",
      "collapsed_sections": [
        "KRPQs0AMNEf7",
        "HxfKBFdpUWni",
        "9bm-MJAnbBKE",
        "8u2cUM-Tk4TD",
        "f--9ldvuk0u5"
      ]
    },
    "kernelspec": {
      "name": "python3",
      "display_name": "Python 3"
    },
    "language_info": {
      "name": "python"
    },
    "accelerator": "GPU",
    "widgets": {
      "application/vnd.jupyter.widget-state+json": {
        "8d7b1e9bf0884c88971083c788979565": {
          "model_module": "@jupyter-widgets/controls",
          "model_name": "HBoxModel",
          "model_module_version": "1.5.0",
          "state": {
            "_dom_classes": [],
            "_model_module": "@jupyter-widgets/controls",
            "_model_module_version": "1.5.0",
            "_model_name": "HBoxModel",
            "_view_count": null,
            "_view_module": "@jupyter-widgets/controls",
            "_view_module_version": "1.5.0",
            "_view_name": "HBoxView",
            "box_style": "",
            "children": [
              "IPY_MODEL_24179121a2c842919c16c779c83723f0",
              "IPY_MODEL_4ef4028b491c471dbfd124f9102c38b0",
              "IPY_MODEL_1e8fbeebba0b4247ac7ea22ecddb2141"
            ],
            "layout": "IPY_MODEL_fa9e9a33c49c479cbae3d67570f3cc75"
          }
        },
        "24179121a2c842919c16c779c83723f0": {
          "model_module": "@jupyter-widgets/controls",
          "model_name": "HTMLModel",
          "model_module_version": "1.5.0",
          "state": {
            "_dom_classes": [],
            "_model_module": "@jupyter-widgets/controls",
            "_model_module_version": "1.5.0",
            "_model_name": "HTMLModel",
            "_view_count": null,
            "_view_module": "@jupyter-widgets/controls",
            "_view_module_version": "1.5.0",
            "_view_name": "HTMLView",
            "description": "",
            "description_tooltip": null,
            "layout": "IPY_MODEL_85ca819584c54882a454f0bb7b6630dc",
            "placeholder": "​",
            "style": "IPY_MODEL_60d1597a51924a81a33319f6ea1a69ff",
            "value": "preprocessor_config.json: 100%"
          }
        },
        "4ef4028b491c471dbfd124f9102c38b0": {
          "model_module": "@jupyter-widgets/controls",
          "model_name": "FloatProgressModel",
          "model_module_version": "1.5.0",
          "state": {
            "_dom_classes": [],
            "_model_module": "@jupyter-widgets/controls",
            "_model_module_version": "1.5.0",
            "_model_name": "FloatProgressModel",
            "_view_count": null,
            "_view_module": "@jupyter-widgets/controls",
            "_view_module_version": "1.5.0",
            "_view_name": "ProgressView",
            "bar_style": "success",
            "description": "",
            "description_tooltip": null,
            "layout": "IPY_MODEL_1364e06bdb2e4379b165b9ec02ef1ddd",
            "max": 445,
            "min": 0,
            "orientation": "horizontal",
            "style": "IPY_MODEL_224aa9886f814f9db2e88bd25ffe4a80",
            "value": 445
          }
        },
        "1e8fbeebba0b4247ac7ea22ecddb2141": {
          "model_module": "@jupyter-widgets/controls",
          "model_name": "HTMLModel",
          "model_module_version": "1.5.0",
          "state": {
            "_dom_classes": [],
            "_model_module": "@jupyter-widgets/controls",
            "_model_module_version": "1.5.0",
            "_model_name": "HTMLModel",
            "_view_count": null,
            "_view_module": "@jupyter-widgets/controls",
            "_view_module_version": "1.5.0",
            "_view_name": "HTMLView",
            "description": "",
            "description_tooltip": null,
            "layout": "IPY_MODEL_08db5d4d23da4e61a5ead80b0e7457bd",
            "placeholder": "​",
            "style": "IPY_MODEL_e74b85cece0d49f3a42f1b58f1ddbfff",
            "value": " 445/445 [00:00&lt;00:00, 6.40kB/s]"
          }
        },
        "fa9e9a33c49c479cbae3d67570f3cc75": {
          "model_module": "@jupyter-widgets/base",
          "model_name": "LayoutModel",
          "model_module_version": "1.2.0",
          "state": {
            "_model_module": "@jupyter-widgets/base",
            "_model_module_version": "1.2.0",
            "_model_name": "LayoutModel",
            "_view_count": null,
            "_view_module": "@jupyter-widgets/base",
            "_view_module_version": "1.2.0",
            "_view_name": "LayoutView",
            "align_content": null,
            "align_items": null,
            "align_self": null,
            "border": null,
            "bottom": null,
            "display": null,
            "flex": null,
            "flex_flow": null,
            "grid_area": null,
            "grid_auto_columns": null,
            "grid_auto_flow": null,
            "grid_auto_rows": null,
            "grid_column": null,
            "grid_gap": null,
            "grid_row": null,
            "grid_template_areas": null,
            "grid_template_columns": null,
            "grid_template_rows": null,
            "height": null,
            "justify_content": null,
            "justify_items": null,
            "left": null,
            "margin": null,
            "max_height": null,
            "max_width": null,
            "min_height": null,
            "min_width": null,
            "object_fit": null,
            "object_position": null,
            "order": null,
            "overflow": null,
            "overflow_x": null,
            "overflow_y": null,
            "padding": null,
            "right": null,
            "top": null,
            "visibility": null,
            "width": null
          }
        },
        "85ca819584c54882a454f0bb7b6630dc": {
          "model_module": "@jupyter-widgets/base",
          "model_name": "LayoutModel",
          "model_module_version": "1.2.0",
          "state": {
            "_model_module": "@jupyter-widgets/base",
            "_model_module_version": "1.2.0",
            "_model_name": "LayoutModel",
            "_view_count": null,
            "_view_module": "@jupyter-widgets/base",
            "_view_module_version": "1.2.0",
            "_view_name": "LayoutView",
            "align_content": null,
            "align_items": null,
            "align_self": null,
            "border": null,
            "bottom": null,
            "display": null,
            "flex": null,
            "flex_flow": null,
            "grid_area": null,
            "grid_auto_columns": null,
            "grid_auto_flow": null,
            "grid_auto_rows": null,
            "grid_column": null,
            "grid_gap": null,
            "grid_row": null,
            "grid_template_areas": null,
            "grid_template_columns": null,
            "grid_template_rows": null,
            "height": null,
            "justify_content": null,
            "justify_items": null,
            "left": null,
            "margin": null,
            "max_height": null,
            "max_width": null,
            "min_height": null,
            "min_width": null,
            "object_fit": null,
            "object_position": null,
            "order": null,
            "overflow": null,
            "overflow_x": null,
            "overflow_y": null,
            "padding": null,
            "right": null,
            "top": null,
            "visibility": null,
            "width": null
          }
        },
        "60d1597a51924a81a33319f6ea1a69ff": {
          "model_module": "@jupyter-widgets/controls",
          "model_name": "DescriptionStyleModel",
          "model_module_version": "1.5.0",
          "state": {
            "_model_module": "@jupyter-widgets/controls",
            "_model_module_version": "1.5.0",
            "_model_name": "DescriptionStyleModel",
            "_view_count": null,
            "_view_module": "@jupyter-widgets/base",
            "_view_module_version": "1.2.0",
            "_view_name": "StyleView",
            "description_width": ""
          }
        },
        "1364e06bdb2e4379b165b9ec02ef1ddd": {
          "model_module": "@jupyter-widgets/base",
          "model_name": "LayoutModel",
          "model_module_version": "1.2.0",
          "state": {
            "_model_module": "@jupyter-widgets/base",
            "_model_module_version": "1.2.0",
            "_model_name": "LayoutModel",
            "_view_count": null,
            "_view_module": "@jupyter-widgets/base",
            "_view_module_version": "1.2.0",
            "_view_name": "LayoutView",
            "align_content": null,
            "align_items": null,
            "align_self": null,
            "border": null,
            "bottom": null,
            "display": null,
            "flex": null,
            "flex_flow": null,
            "grid_area": null,
            "grid_auto_columns": null,
            "grid_auto_flow": null,
            "grid_auto_rows": null,
            "grid_column": null,
            "grid_gap": null,
            "grid_row": null,
            "grid_template_areas": null,
            "grid_template_columns": null,
            "grid_template_rows": null,
            "height": null,
            "justify_content": null,
            "justify_items": null,
            "left": null,
            "margin": null,
            "max_height": null,
            "max_width": null,
            "min_height": null,
            "min_width": null,
            "object_fit": null,
            "object_position": null,
            "order": null,
            "overflow": null,
            "overflow_x": null,
            "overflow_y": null,
            "padding": null,
            "right": null,
            "top": null,
            "visibility": null,
            "width": null
          }
        },
        "224aa9886f814f9db2e88bd25ffe4a80": {
          "model_module": "@jupyter-widgets/controls",
          "model_name": "ProgressStyleModel",
          "model_module_version": "1.5.0",
          "state": {
            "_model_module": "@jupyter-widgets/controls",
            "_model_module_version": "1.5.0",
            "_model_name": "ProgressStyleModel",
            "_view_count": null,
            "_view_module": "@jupyter-widgets/base",
            "_view_module_version": "1.2.0",
            "_view_name": "StyleView",
            "bar_color": null,
            "description_width": ""
          }
        },
        "08db5d4d23da4e61a5ead80b0e7457bd": {
          "model_module": "@jupyter-widgets/base",
          "model_name": "LayoutModel",
          "model_module_version": "1.2.0",
          "state": {
            "_model_module": "@jupyter-widgets/base",
            "_model_module_version": "1.2.0",
            "_model_name": "LayoutModel",
            "_view_count": null,
            "_view_module": "@jupyter-widgets/base",
            "_view_module_version": "1.2.0",
            "_view_name": "LayoutView",
            "align_content": null,
            "align_items": null,
            "align_self": null,
            "border": null,
            "bottom": null,
            "display": null,
            "flex": null,
            "flex_flow": null,
            "grid_area": null,
            "grid_auto_columns": null,
            "grid_auto_flow": null,
            "grid_auto_rows": null,
            "grid_column": null,
            "grid_gap": null,
            "grid_row": null,
            "grid_template_areas": null,
            "grid_template_columns": null,
            "grid_template_rows": null,
            "height": null,
            "justify_content": null,
            "justify_items": null,
            "left": null,
            "margin": null,
            "max_height": null,
            "max_width": null,
            "min_height": null,
            "min_width": null,
            "object_fit": null,
            "object_position": null,
            "order": null,
            "overflow": null,
            "overflow_x": null,
            "overflow_y": null,
            "padding": null,
            "right": null,
            "top": null,
            "visibility": null,
            "width": null
          }
        },
        "e74b85cece0d49f3a42f1b58f1ddbfff": {
          "model_module": "@jupyter-widgets/controls",
          "model_name": "DescriptionStyleModel",
          "model_module_version": "1.5.0",
          "state": {
            "_model_module": "@jupyter-widgets/controls",
            "_model_module_version": "1.5.0",
            "_model_name": "DescriptionStyleModel",
            "_view_count": null,
            "_view_module": "@jupyter-widgets/base",
            "_view_module_version": "1.2.0",
            "_view_name": "StyleView",
            "description_width": ""
          }
        },
        "1c2fb7e07d4240c18bcb5d2b8714dd37": {
          "model_module": "@jupyter-widgets/controls",
          "model_name": "HBoxModel",
          "model_module_version": "1.5.0",
          "state": {
            "_dom_classes": [],
            "_model_module": "@jupyter-widgets/controls",
            "_model_module_version": "1.5.0",
            "_model_name": "HBoxModel",
            "_view_count": null,
            "_view_module": "@jupyter-widgets/controls",
            "_view_module_version": "1.5.0",
            "_view_name": "HBoxView",
            "box_style": "",
            "children": [
              "IPY_MODEL_9622b5bfba6f4b47ba38c88d61e6ec87",
              "IPY_MODEL_7dd63e91bcdc4744a66969789b450bc2",
              "IPY_MODEL_86303143392c499ca9cea371b91d8398"
            ],
            "layout": "IPY_MODEL_5ac3eed72477498b873cfb37e7c33bda"
          }
        },
        "9622b5bfba6f4b47ba38c88d61e6ec87": {
          "model_module": "@jupyter-widgets/controls",
          "model_name": "HTMLModel",
          "model_module_version": "1.5.0",
          "state": {
            "_dom_classes": [],
            "_model_module": "@jupyter-widgets/controls",
            "_model_module_version": "1.5.0",
            "_model_name": "HTMLModel",
            "_view_count": null,
            "_view_module": "@jupyter-widgets/controls",
            "_view_module_version": "1.5.0",
            "_view_name": "HTMLView",
            "description": "",
            "description_tooltip": null,
            "layout": "IPY_MODEL_076d6a9d3618442c8ee4dc85f2f1592f",
            "placeholder": "​",
            "style": "IPY_MODEL_a449aeff75004aa98ddb45a5cc891e46",
            "value": "tokenizer_config.json: 100%"
          }
        },
        "7dd63e91bcdc4744a66969789b450bc2": {
          "model_module": "@jupyter-widgets/controls",
          "model_name": "FloatProgressModel",
          "model_module_version": "1.5.0",
          "state": {
            "_dom_classes": [],
            "_model_module": "@jupyter-widgets/controls",
            "_model_module_version": "1.5.0",
            "_model_name": "FloatProgressModel",
            "_view_count": null,
            "_view_module": "@jupyter-widgets/controls",
            "_view_module_version": "1.5.0",
            "_view_name": "ProgressView",
            "bar_style": "success",
            "description": "",
            "description_tooltip": null,
            "layout": "IPY_MODEL_6ec4ad31850b4c2786e1335ec8d78c5b",
            "max": 592,
            "min": 0,
            "orientation": "horizontal",
            "style": "IPY_MODEL_c924cfcb16b745d9990e33e758d60a02",
            "value": 592
          }
        },
        "86303143392c499ca9cea371b91d8398": {
          "model_module": "@jupyter-widgets/controls",
          "model_name": "HTMLModel",
          "model_module_version": "1.5.0",
          "state": {
            "_dom_classes": [],
            "_model_module": "@jupyter-widgets/controls",
            "_model_module_version": "1.5.0",
            "_model_name": "HTMLModel",
            "_view_count": null,
            "_view_module": "@jupyter-widgets/controls",
            "_view_module_version": "1.5.0",
            "_view_name": "HTMLView",
            "description": "",
            "description_tooltip": null,
            "layout": "IPY_MODEL_6024a1ca17bc4aa9a9a9875a4d6ded78",
            "placeholder": "​",
            "style": "IPY_MODEL_16e194fffd894061a41560c5837c2e85",
            "value": " 592/592 [00:00&lt;00:00, 6.96kB/s]"
          }
        },
        "5ac3eed72477498b873cfb37e7c33bda": {
          "model_module": "@jupyter-widgets/base",
          "model_name": "LayoutModel",
          "model_module_version": "1.2.0",
          "state": {
            "_model_module": "@jupyter-widgets/base",
            "_model_module_version": "1.2.0",
            "_model_name": "LayoutModel",
            "_view_count": null,
            "_view_module": "@jupyter-widgets/base",
            "_view_module_version": "1.2.0",
            "_view_name": "LayoutView",
            "align_content": null,
            "align_items": null,
            "align_self": null,
            "border": null,
            "bottom": null,
            "display": null,
            "flex": null,
            "flex_flow": null,
            "grid_area": null,
            "grid_auto_columns": null,
            "grid_auto_flow": null,
            "grid_auto_rows": null,
            "grid_column": null,
            "grid_gap": null,
            "grid_row": null,
            "grid_template_areas": null,
            "grid_template_columns": null,
            "grid_template_rows": null,
            "height": null,
            "justify_content": null,
            "justify_items": null,
            "left": null,
            "margin": null,
            "max_height": null,
            "max_width": null,
            "min_height": null,
            "min_width": null,
            "object_fit": null,
            "object_position": null,
            "order": null,
            "overflow": null,
            "overflow_x": null,
            "overflow_y": null,
            "padding": null,
            "right": null,
            "top": null,
            "visibility": null,
            "width": null
          }
        },
        "076d6a9d3618442c8ee4dc85f2f1592f": {
          "model_module": "@jupyter-widgets/base",
          "model_name": "LayoutModel",
          "model_module_version": "1.2.0",
          "state": {
            "_model_module": "@jupyter-widgets/base",
            "_model_module_version": "1.2.0",
            "_model_name": "LayoutModel",
            "_view_count": null,
            "_view_module": "@jupyter-widgets/base",
            "_view_module_version": "1.2.0",
            "_view_name": "LayoutView",
            "align_content": null,
            "align_items": null,
            "align_self": null,
            "border": null,
            "bottom": null,
            "display": null,
            "flex": null,
            "flex_flow": null,
            "grid_area": null,
            "grid_auto_columns": null,
            "grid_auto_flow": null,
            "grid_auto_rows": null,
            "grid_column": null,
            "grid_gap": null,
            "grid_row": null,
            "grid_template_areas": null,
            "grid_template_columns": null,
            "grid_template_rows": null,
            "height": null,
            "justify_content": null,
            "justify_items": null,
            "left": null,
            "margin": null,
            "max_height": null,
            "max_width": null,
            "min_height": null,
            "min_width": null,
            "object_fit": null,
            "object_position": null,
            "order": null,
            "overflow": null,
            "overflow_x": null,
            "overflow_y": null,
            "padding": null,
            "right": null,
            "top": null,
            "visibility": null,
            "width": null
          }
        },
        "a449aeff75004aa98ddb45a5cc891e46": {
          "model_module": "@jupyter-widgets/controls",
          "model_name": "DescriptionStyleModel",
          "model_module_version": "1.5.0",
          "state": {
            "_model_module": "@jupyter-widgets/controls",
            "_model_module_version": "1.5.0",
            "_model_name": "DescriptionStyleModel",
            "_view_count": null,
            "_view_module": "@jupyter-widgets/base",
            "_view_module_version": "1.2.0",
            "_view_name": "StyleView",
            "description_width": ""
          }
        },
        "6ec4ad31850b4c2786e1335ec8d78c5b": {
          "model_module": "@jupyter-widgets/base",
          "model_name": "LayoutModel",
          "model_module_version": "1.2.0",
          "state": {
            "_model_module": "@jupyter-widgets/base",
            "_model_module_version": "1.2.0",
            "_model_name": "LayoutModel",
            "_view_count": null,
            "_view_module": "@jupyter-widgets/base",
            "_view_module_version": "1.2.0",
            "_view_name": "LayoutView",
            "align_content": null,
            "align_items": null,
            "align_self": null,
            "border": null,
            "bottom": null,
            "display": null,
            "flex": null,
            "flex_flow": null,
            "grid_area": null,
            "grid_auto_columns": null,
            "grid_auto_flow": null,
            "grid_auto_rows": null,
            "grid_column": null,
            "grid_gap": null,
            "grid_row": null,
            "grid_template_areas": null,
            "grid_template_columns": null,
            "grid_template_rows": null,
            "height": null,
            "justify_content": null,
            "justify_items": null,
            "left": null,
            "margin": null,
            "max_height": null,
            "max_width": null,
            "min_height": null,
            "min_width": null,
            "object_fit": null,
            "object_position": null,
            "order": null,
            "overflow": null,
            "overflow_x": null,
            "overflow_y": null,
            "padding": null,
            "right": null,
            "top": null,
            "visibility": null,
            "width": null
          }
        },
        "c924cfcb16b745d9990e33e758d60a02": {
          "model_module": "@jupyter-widgets/controls",
          "model_name": "ProgressStyleModel",
          "model_module_version": "1.5.0",
          "state": {
            "_model_module": "@jupyter-widgets/controls",
            "_model_module_version": "1.5.0",
            "_model_name": "ProgressStyleModel",
            "_view_count": null,
            "_view_module": "@jupyter-widgets/base",
            "_view_module_version": "1.2.0",
            "_view_name": "StyleView",
            "bar_color": null,
            "description_width": ""
          }
        },
        "6024a1ca17bc4aa9a9a9875a4d6ded78": {
          "model_module": "@jupyter-widgets/base",
          "model_name": "LayoutModel",
          "model_module_version": "1.2.0",
          "state": {
            "_model_module": "@jupyter-widgets/base",
            "_model_module_version": "1.2.0",
            "_model_name": "LayoutModel",
            "_view_count": null,
            "_view_module": "@jupyter-widgets/base",
            "_view_module_version": "1.2.0",
            "_view_name": "LayoutView",
            "align_content": null,
            "align_items": null,
            "align_self": null,
            "border": null,
            "bottom": null,
            "display": null,
            "flex": null,
            "flex_flow": null,
            "grid_area": null,
            "grid_auto_columns": null,
            "grid_auto_flow": null,
            "grid_auto_rows": null,
            "grid_column": null,
            "grid_gap": null,
            "grid_row": null,
            "grid_template_areas": null,
            "grid_template_columns": null,
            "grid_template_rows": null,
            "height": null,
            "justify_content": null,
            "justify_items": null,
            "left": null,
            "margin": null,
            "max_height": null,
            "max_width": null,
            "min_height": null,
            "min_width": null,
            "object_fit": null,
            "object_position": null,
            "order": null,
            "overflow": null,
            "overflow_x": null,
            "overflow_y": null,
            "padding": null,
            "right": null,
            "top": null,
            "visibility": null,
            "width": null
          }
        },
        "16e194fffd894061a41560c5837c2e85": {
          "model_module": "@jupyter-widgets/controls",
          "model_name": "DescriptionStyleModel",
          "model_module_version": "1.5.0",
          "state": {
            "_model_module": "@jupyter-widgets/controls",
            "_model_module_version": "1.5.0",
            "_model_name": "DescriptionStyleModel",
            "_view_count": null,
            "_view_module": "@jupyter-widgets/base",
            "_view_module_version": "1.2.0",
            "_view_name": "StyleView",
            "description_width": ""
          }
        },
        "4f3bb3a7446949e18fe316d382ccccbf": {
          "model_module": "@jupyter-widgets/controls",
          "model_name": "HBoxModel",
          "model_module_version": "1.5.0",
          "state": {
            "_dom_classes": [],
            "_model_module": "@jupyter-widgets/controls",
            "_model_module_version": "1.5.0",
            "_model_name": "HBoxModel",
            "_view_count": null,
            "_view_module": "@jupyter-widgets/controls",
            "_view_module_version": "1.5.0",
            "_view_name": "HBoxView",
            "box_style": "",
            "children": [
              "IPY_MODEL_1ab5d55fcd0c475d9964500ea7e6c06c",
              "IPY_MODEL_d989b25dd5d84fb1a216ee13c308bc9c",
              "IPY_MODEL_00e599c942ae42b2904bbdb9fbf68b7b"
            ],
            "layout": "IPY_MODEL_88b9b0ec53014066b51fd0cec9f89669"
          }
        },
        "1ab5d55fcd0c475d9964500ea7e6c06c": {
          "model_module": "@jupyter-widgets/controls",
          "model_name": "HTMLModel",
          "model_module_version": "1.5.0",
          "state": {
            "_dom_classes": [],
            "_model_module": "@jupyter-widgets/controls",
            "_model_module_version": "1.5.0",
            "_model_name": "HTMLModel",
            "_view_count": null,
            "_view_module": "@jupyter-widgets/controls",
            "_view_module_version": "1.5.0",
            "_view_name": "HTMLView",
            "description": "",
            "description_tooltip": null,
            "layout": "IPY_MODEL_890d70ca277745fda2c1c4869872ab86",
            "placeholder": "​",
            "style": "IPY_MODEL_6b02dfb445e5435885a833a33aa4e771",
            "value": "vocab.txt: 100%"
          }
        },
        "d989b25dd5d84fb1a216ee13c308bc9c": {
          "model_module": "@jupyter-widgets/controls",
          "model_name": "FloatProgressModel",
          "model_module_version": "1.5.0",
          "state": {
            "_dom_classes": [],
            "_model_module": "@jupyter-widgets/controls",
            "_model_module_version": "1.5.0",
            "_model_name": "FloatProgressModel",
            "_view_count": null,
            "_view_module": "@jupyter-widgets/controls",
            "_view_module_version": "1.5.0",
            "_view_name": "ProgressView",
            "bar_style": "success",
            "description": "",
            "description_tooltip": null,
            "layout": "IPY_MODEL_39c354425dad40ccb73b88f2c39b1872",
            "max": 231508,
            "min": 0,
            "orientation": "horizontal",
            "style": "IPY_MODEL_05a5acf677f74a14b7d3ee10ff44fd7c",
            "value": 231508
          }
        },
        "00e599c942ae42b2904bbdb9fbf68b7b": {
          "model_module": "@jupyter-widgets/controls",
          "model_name": "HTMLModel",
          "model_module_version": "1.5.0",
          "state": {
            "_dom_classes": [],
            "_model_module": "@jupyter-widgets/controls",
            "_model_module_version": "1.5.0",
            "_model_name": "HTMLModel",
            "_view_count": null,
            "_view_module": "@jupyter-widgets/controls",
            "_view_module_version": "1.5.0",
            "_view_name": "HTMLView",
            "description": "",
            "description_tooltip": null,
            "layout": "IPY_MODEL_fa7df0569b1b4b5eacbe5ee5c32c71cd",
            "placeholder": "​",
            "style": "IPY_MODEL_6b21d2b96f944b889729e1bcf8f08e3d",
            "value": " 232k/232k [00:00&lt;00:00, 2.37MB/s]"
          }
        },
        "88b9b0ec53014066b51fd0cec9f89669": {
          "model_module": "@jupyter-widgets/base",
          "model_name": "LayoutModel",
          "model_module_version": "1.2.0",
          "state": {
            "_model_module": "@jupyter-widgets/base",
            "_model_module_version": "1.2.0",
            "_model_name": "LayoutModel",
            "_view_count": null,
            "_view_module": "@jupyter-widgets/base",
            "_view_module_version": "1.2.0",
            "_view_name": "LayoutView",
            "align_content": null,
            "align_items": null,
            "align_self": null,
            "border": null,
            "bottom": null,
            "display": null,
            "flex": null,
            "flex_flow": null,
            "grid_area": null,
            "grid_auto_columns": null,
            "grid_auto_flow": null,
            "grid_auto_rows": null,
            "grid_column": null,
            "grid_gap": null,
            "grid_row": null,
            "grid_template_areas": null,
            "grid_template_columns": null,
            "grid_template_rows": null,
            "height": null,
            "justify_content": null,
            "justify_items": null,
            "left": null,
            "margin": null,
            "max_height": null,
            "max_width": null,
            "min_height": null,
            "min_width": null,
            "object_fit": null,
            "object_position": null,
            "order": null,
            "overflow": null,
            "overflow_x": null,
            "overflow_y": null,
            "padding": null,
            "right": null,
            "top": null,
            "visibility": null,
            "width": null
          }
        },
        "890d70ca277745fda2c1c4869872ab86": {
          "model_module": "@jupyter-widgets/base",
          "model_name": "LayoutModel",
          "model_module_version": "1.2.0",
          "state": {
            "_model_module": "@jupyter-widgets/base",
            "_model_module_version": "1.2.0",
            "_model_name": "LayoutModel",
            "_view_count": null,
            "_view_module": "@jupyter-widgets/base",
            "_view_module_version": "1.2.0",
            "_view_name": "LayoutView",
            "align_content": null,
            "align_items": null,
            "align_self": null,
            "border": null,
            "bottom": null,
            "display": null,
            "flex": null,
            "flex_flow": null,
            "grid_area": null,
            "grid_auto_columns": null,
            "grid_auto_flow": null,
            "grid_auto_rows": null,
            "grid_column": null,
            "grid_gap": null,
            "grid_row": null,
            "grid_template_areas": null,
            "grid_template_columns": null,
            "grid_template_rows": null,
            "height": null,
            "justify_content": null,
            "justify_items": null,
            "left": null,
            "margin": null,
            "max_height": null,
            "max_width": null,
            "min_height": null,
            "min_width": null,
            "object_fit": null,
            "object_position": null,
            "order": null,
            "overflow": null,
            "overflow_x": null,
            "overflow_y": null,
            "padding": null,
            "right": null,
            "top": null,
            "visibility": null,
            "width": null
          }
        },
        "6b02dfb445e5435885a833a33aa4e771": {
          "model_module": "@jupyter-widgets/controls",
          "model_name": "DescriptionStyleModel",
          "model_module_version": "1.5.0",
          "state": {
            "_model_module": "@jupyter-widgets/controls",
            "_model_module_version": "1.5.0",
            "_model_name": "DescriptionStyleModel",
            "_view_count": null,
            "_view_module": "@jupyter-widgets/base",
            "_view_module_version": "1.2.0",
            "_view_name": "StyleView",
            "description_width": ""
          }
        },
        "39c354425dad40ccb73b88f2c39b1872": {
          "model_module": "@jupyter-widgets/base",
          "model_name": "LayoutModel",
          "model_module_version": "1.2.0",
          "state": {
            "_model_module": "@jupyter-widgets/base",
            "_model_module_version": "1.2.0",
            "_model_name": "LayoutModel",
            "_view_count": null,
            "_view_module": "@jupyter-widgets/base",
            "_view_module_version": "1.2.0",
            "_view_name": "LayoutView",
            "align_content": null,
            "align_items": null,
            "align_self": null,
            "border": null,
            "bottom": null,
            "display": null,
            "flex": null,
            "flex_flow": null,
            "grid_area": null,
            "grid_auto_columns": null,
            "grid_auto_flow": null,
            "grid_auto_rows": null,
            "grid_column": null,
            "grid_gap": null,
            "grid_row": null,
            "grid_template_areas": null,
            "grid_template_columns": null,
            "grid_template_rows": null,
            "height": null,
            "justify_content": null,
            "justify_items": null,
            "left": null,
            "margin": null,
            "max_height": null,
            "max_width": null,
            "min_height": null,
            "min_width": null,
            "object_fit": null,
            "object_position": null,
            "order": null,
            "overflow": null,
            "overflow_x": null,
            "overflow_y": null,
            "padding": null,
            "right": null,
            "top": null,
            "visibility": null,
            "width": null
          }
        },
        "05a5acf677f74a14b7d3ee10ff44fd7c": {
          "model_module": "@jupyter-widgets/controls",
          "model_name": "ProgressStyleModel",
          "model_module_version": "1.5.0",
          "state": {
            "_model_module": "@jupyter-widgets/controls",
            "_model_module_version": "1.5.0",
            "_model_name": "ProgressStyleModel",
            "_view_count": null,
            "_view_module": "@jupyter-widgets/base",
            "_view_module_version": "1.2.0",
            "_view_name": "StyleView",
            "bar_color": null,
            "description_width": ""
          }
        },
        "fa7df0569b1b4b5eacbe5ee5c32c71cd": {
          "model_module": "@jupyter-widgets/base",
          "model_name": "LayoutModel",
          "model_module_version": "1.2.0",
          "state": {
            "_model_module": "@jupyter-widgets/base",
            "_model_module_version": "1.2.0",
            "_model_name": "LayoutModel",
            "_view_count": null,
            "_view_module": "@jupyter-widgets/base",
            "_view_module_version": "1.2.0",
            "_view_name": "LayoutView",
            "align_content": null,
            "align_items": null,
            "align_self": null,
            "border": null,
            "bottom": null,
            "display": null,
            "flex": null,
            "flex_flow": null,
            "grid_area": null,
            "grid_auto_columns": null,
            "grid_auto_flow": null,
            "grid_auto_rows": null,
            "grid_column": null,
            "grid_gap": null,
            "grid_row": null,
            "grid_template_areas": null,
            "grid_template_columns": null,
            "grid_template_rows": null,
            "height": null,
            "justify_content": null,
            "justify_items": null,
            "left": null,
            "margin": null,
            "max_height": null,
            "max_width": null,
            "min_height": null,
            "min_width": null,
            "object_fit": null,
            "object_position": null,
            "order": null,
            "overflow": null,
            "overflow_x": null,
            "overflow_y": null,
            "padding": null,
            "right": null,
            "top": null,
            "visibility": null,
            "width": null
          }
        },
        "6b21d2b96f944b889729e1bcf8f08e3d": {
          "model_module": "@jupyter-widgets/controls",
          "model_name": "DescriptionStyleModel",
          "model_module_version": "1.5.0",
          "state": {
            "_model_module": "@jupyter-widgets/controls",
            "_model_module_version": "1.5.0",
            "_model_name": "DescriptionStyleModel",
            "_view_count": null,
            "_view_module": "@jupyter-widgets/base",
            "_view_module_version": "1.2.0",
            "_view_name": "StyleView",
            "description_width": ""
          }
        },
        "2476591c5a2345ec804ac71821fa3d46": {
          "model_module": "@jupyter-widgets/controls",
          "model_name": "HBoxModel",
          "model_module_version": "1.5.0",
          "state": {
            "_dom_classes": [],
            "_model_module": "@jupyter-widgets/controls",
            "_model_module_version": "1.5.0",
            "_model_name": "HBoxModel",
            "_view_count": null,
            "_view_module": "@jupyter-widgets/controls",
            "_view_module_version": "1.5.0",
            "_view_name": "HBoxView",
            "box_style": "",
            "children": [
              "IPY_MODEL_90764285a8d444b98d364165ae26dfbf",
              "IPY_MODEL_9808caeaa7cb4855bbb7155bddf9e629",
              "IPY_MODEL_389f587023524e5f905629af08d7a953"
            ],
            "layout": "IPY_MODEL_1129226251fd4a0bb23c4fc85f0beaa4"
          }
        },
        "90764285a8d444b98d364165ae26dfbf": {
          "model_module": "@jupyter-widgets/controls",
          "model_name": "HTMLModel",
          "model_module_version": "1.5.0",
          "state": {
            "_dom_classes": [],
            "_model_module": "@jupyter-widgets/controls",
            "_model_module_version": "1.5.0",
            "_model_name": "HTMLModel",
            "_view_count": null,
            "_view_module": "@jupyter-widgets/controls",
            "_view_module_version": "1.5.0",
            "_view_name": "HTMLView",
            "description": "",
            "description_tooltip": null,
            "layout": "IPY_MODEL_d723ea1dd066491e832c9570d4670a65",
            "placeholder": "​",
            "style": "IPY_MODEL_15725f373e854f0d92a3040a71f54669",
            "value": "tokenizer.json: 100%"
          }
        },
        "9808caeaa7cb4855bbb7155bddf9e629": {
          "model_module": "@jupyter-widgets/controls",
          "model_name": "FloatProgressModel",
          "model_module_version": "1.5.0",
          "state": {
            "_dom_classes": [],
            "_model_module": "@jupyter-widgets/controls",
            "_model_module_version": "1.5.0",
            "_model_name": "FloatProgressModel",
            "_view_count": null,
            "_view_module": "@jupyter-widgets/controls",
            "_view_module_version": "1.5.0",
            "_view_name": "ProgressView",
            "bar_style": "success",
            "description": "",
            "description_tooltip": null,
            "layout": "IPY_MODEL_ed37cbf1575b4a089552840bbceb176a",
            "max": 711396,
            "min": 0,
            "orientation": "horizontal",
            "style": "IPY_MODEL_6a6e9ae549344a17b8dcabf5fb263add",
            "value": 711396
          }
        },
        "389f587023524e5f905629af08d7a953": {
          "model_module": "@jupyter-widgets/controls",
          "model_name": "HTMLModel",
          "model_module_version": "1.5.0",
          "state": {
            "_dom_classes": [],
            "_model_module": "@jupyter-widgets/controls",
            "_model_module_version": "1.5.0",
            "_model_name": "HTMLModel",
            "_view_count": null,
            "_view_module": "@jupyter-widgets/controls",
            "_view_module_version": "1.5.0",
            "_view_name": "HTMLView",
            "description": "",
            "description_tooltip": null,
            "layout": "IPY_MODEL_cd376fac7b5e486caad13ead5ed1b882",
            "placeholder": "​",
            "style": "IPY_MODEL_16fa351dffad4a0c9c13b4c6b1e66b5b",
            "value": " 711k/711k [00:00&lt;00:00, 3.49MB/s]"
          }
        },
        "1129226251fd4a0bb23c4fc85f0beaa4": {
          "model_module": "@jupyter-widgets/base",
          "model_name": "LayoutModel",
          "model_module_version": "1.2.0",
          "state": {
            "_model_module": "@jupyter-widgets/base",
            "_model_module_version": "1.2.0",
            "_model_name": "LayoutModel",
            "_view_count": null,
            "_view_module": "@jupyter-widgets/base",
            "_view_module_version": "1.2.0",
            "_view_name": "LayoutView",
            "align_content": null,
            "align_items": null,
            "align_self": null,
            "border": null,
            "bottom": null,
            "display": null,
            "flex": null,
            "flex_flow": null,
            "grid_area": null,
            "grid_auto_columns": null,
            "grid_auto_flow": null,
            "grid_auto_rows": null,
            "grid_column": null,
            "grid_gap": null,
            "grid_row": null,
            "grid_template_areas": null,
            "grid_template_columns": null,
            "grid_template_rows": null,
            "height": null,
            "justify_content": null,
            "justify_items": null,
            "left": null,
            "margin": null,
            "max_height": null,
            "max_width": null,
            "min_height": null,
            "min_width": null,
            "object_fit": null,
            "object_position": null,
            "order": null,
            "overflow": null,
            "overflow_x": null,
            "overflow_y": null,
            "padding": null,
            "right": null,
            "top": null,
            "visibility": null,
            "width": null
          }
        },
        "d723ea1dd066491e832c9570d4670a65": {
          "model_module": "@jupyter-widgets/base",
          "model_name": "LayoutModel",
          "model_module_version": "1.2.0",
          "state": {
            "_model_module": "@jupyter-widgets/base",
            "_model_module_version": "1.2.0",
            "_model_name": "LayoutModel",
            "_view_count": null,
            "_view_module": "@jupyter-widgets/base",
            "_view_module_version": "1.2.0",
            "_view_name": "LayoutView",
            "align_content": null,
            "align_items": null,
            "align_self": null,
            "border": null,
            "bottom": null,
            "display": null,
            "flex": null,
            "flex_flow": null,
            "grid_area": null,
            "grid_auto_columns": null,
            "grid_auto_flow": null,
            "grid_auto_rows": null,
            "grid_column": null,
            "grid_gap": null,
            "grid_row": null,
            "grid_template_areas": null,
            "grid_template_columns": null,
            "grid_template_rows": null,
            "height": null,
            "justify_content": null,
            "justify_items": null,
            "left": null,
            "margin": null,
            "max_height": null,
            "max_width": null,
            "min_height": null,
            "min_width": null,
            "object_fit": null,
            "object_position": null,
            "order": null,
            "overflow": null,
            "overflow_x": null,
            "overflow_y": null,
            "padding": null,
            "right": null,
            "top": null,
            "visibility": null,
            "width": null
          }
        },
        "15725f373e854f0d92a3040a71f54669": {
          "model_module": "@jupyter-widgets/controls",
          "model_name": "DescriptionStyleModel",
          "model_module_version": "1.5.0",
          "state": {
            "_model_module": "@jupyter-widgets/controls",
            "_model_module_version": "1.5.0",
            "_model_name": "DescriptionStyleModel",
            "_view_count": null,
            "_view_module": "@jupyter-widgets/base",
            "_view_module_version": "1.2.0",
            "_view_name": "StyleView",
            "description_width": ""
          }
        },
        "ed37cbf1575b4a089552840bbceb176a": {
          "model_module": "@jupyter-widgets/base",
          "model_name": "LayoutModel",
          "model_module_version": "1.2.0",
          "state": {
            "_model_module": "@jupyter-widgets/base",
            "_model_module_version": "1.2.0",
            "_model_name": "LayoutModel",
            "_view_count": null,
            "_view_module": "@jupyter-widgets/base",
            "_view_module_version": "1.2.0",
            "_view_name": "LayoutView",
            "align_content": null,
            "align_items": null,
            "align_self": null,
            "border": null,
            "bottom": null,
            "display": null,
            "flex": null,
            "flex_flow": null,
            "grid_area": null,
            "grid_auto_columns": null,
            "grid_auto_flow": null,
            "grid_auto_rows": null,
            "grid_column": null,
            "grid_gap": null,
            "grid_row": null,
            "grid_template_areas": null,
            "grid_template_columns": null,
            "grid_template_rows": null,
            "height": null,
            "justify_content": null,
            "justify_items": null,
            "left": null,
            "margin": null,
            "max_height": null,
            "max_width": null,
            "min_height": null,
            "min_width": null,
            "object_fit": null,
            "object_position": null,
            "order": null,
            "overflow": null,
            "overflow_x": null,
            "overflow_y": null,
            "padding": null,
            "right": null,
            "top": null,
            "visibility": null,
            "width": null
          }
        },
        "6a6e9ae549344a17b8dcabf5fb263add": {
          "model_module": "@jupyter-widgets/controls",
          "model_name": "ProgressStyleModel",
          "model_module_version": "1.5.0",
          "state": {
            "_model_module": "@jupyter-widgets/controls",
            "_model_module_version": "1.5.0",
            "_model_name": "ProgressStyleModel",
            "_view_count": null,
            "_view_module": "@jupyter-widgets/base",
            "_view_module_version": "1.2.0",
            "_view_name": "StyleView",
            "bar_color": null,
            "description_width": ""
          }
        },
        "cd376fac7b5e486caad13ead5ed1b882": {
          "model_module": "@jupyter-widgets/base",
          "model_name": "LayoutModel",
          "model_module_version": "1.2.0",
          "state": {
            "_model_module": "@jupyter-widgets/base",
            "_model_module_version": "1.2.0",
            "_model_name": "LayoutModel",
            "_view_count": null,
            "_view_module": "@jupyter-widgets/base",
            "_view_module_version": "1.2.0",
            "_view_name": "LayoutView",
            "align_content": null,
            "align_items": null,
            "align_self": null,
            "border": null,
            "bottom": null,
            "display": null,
            "flex": null,
            "flex_flow": null,
            "grid_area": null,
            "grid_auto_columns": null,
            "grid_auto_flow": null,
            "grid_auto_rows": null,
            "grid_column": null,
            "grid_gap": null,
            "grid_row": null,
            "grid_template_areas": null,
            "grid_template_columns": null,
            "grid_template_rows": null,
            "height": null,
            "justify_content": null,
            "justify_items": null,
            "left": null,
            "margin": null,
            "max_height": null,
            "max_width": null,
            "min_height": null,
            "min_width": null,
            "object_fit": null,
            "object_position": null,
            "order": null,
            "overflow": null,
            "overflow_x": null,
            "overflow_y": null,
            "padding": null,
            "right": null,
            "top": null,
            "visibility": null,
            "width": null
          }
        },
        "16fa351dffad4a0c9c13b4c6b1e66b5b": {
          "model_module": "@jupyter-widgets/controls",
          "model_name": "DescriptionStyleModel",
          "model_module_version": "1.5.0",
          "state": {
            "_model_module": "@jupyter-widgets/controls",
            "_model_module_version": "1.5.0",
            "_model_name": "DescriptionStyleModel",
            "_view_count": null,
            "_view_module": "@jupyter-widgets/base",
            "_view_module_version": "1.2.0",
            "_view_name": "StyleView",
            "description_width": ""
          }
        },
        "ccd7074838d74626b3051196424daf57": {
          "model_module": "@jupyter-widgets/controls",
          "model_name": "HBoxModel",
          "model_module_version": "1.5.0",
          "state": {
            "_dom_classes": [],
            "_model_module": "@jupyter-widgets/controls",
            "_model_module_version": "1.5.0",
            "_model_name": "HBoxModel",
            "_view_count": null,
            "_view_module": "@jupyter-widgets/controls",
            "_view_module_version": "1.5.0",
            "_view_name": "HBoxView",
            "box_style": "",
            "children": [
              "IPY_MODEL_91dd6273f641455dade5941ef373d651",
              "IPY_MODEL_65052aee8e5649c28b01a35eb534da8f",
              "IPY_MODEL_22d758cca4bf4fb4b2d2314db0c1e41d"
            ],
            "layout": "IPY_MODEL_f82321c25eef4187b4ac69d8fd9ac83b"
          }
        },
        "91dd6273f641455dade5941ef373d651": {
          "model_module": "@jupyter-widgets/controls",
          "model_name": "HTMLModel",
          "model_module_version": "1.5.0",
          "state": {
            "_dom_classes": [],
            "_model_module": "@jupyter-widgets/controls",
            "_model_module_version": "1.5.0",
            "_model_name": "HTMLModel",
            "_view_count": null,
            "_view_module": "@jupyter-widgets/controls",
            "_view_module_version": "1.5.0",
            "_view_name": "HTMLView",
            "description": "",
            "description_tooltip": null,
            "layout": "IPY_MODEL_a81f59693dde47f9ad2ab17d526f0699",
            "placeholder": "​",
            "style": "IPY_MODEL_6fbbab653b9746b0bf528034220a96c0",
            "value": "special_tokens_map.json: 100%"
          }
        },
        "65052aee8e5649c28b01a35eb534da8f": {
          "model_module": "@jupyter-widgets/controls",
          "model_name": "FloatProgressModel",
          "model_module_version": "1.5.0",
          "state": {
            "_dom_classes": [],
            "_model_module": "@jupyter-widgets/controls",
            "_model_module_version": "1.5.0",
            "_model_name": "FloatProgressModel",
            "_view_count": null,
            "_view_module": "@jupyter-widgets/controls",
            "_view_module_version": "1.5.0",
            "_view_name": "ProgressView",
            "bar_style": "success",
            "description": "",
            "description_tooltip": null,
            "layout": "IPY_MODEL_a4fadfee7458410396b311f4bcf7f55c",
            "max": 125,
            "min": 0,
            "orientation": "horizontal",
            "style": "IPY_MODEL_f0f384bc2d484474bc69d429cc1a03f1",
            "value": 125
          }
        },
        "22d758cca4bf4fb4b2d2314db0c1e41d": {
          "model_module": "@jupyter-widgets/controls",
          "model_name": "HTMLModel",
          "model_module_version": "1.5.0",
          "state": {
            "_dom_classes": [],
            "_model_module": "@jupyter-widgets/controls",
            "_model_module_version": "1.5.0",
            "_model_name": "HTMLModel",
            "_view_count": null,
            "_view_module": "@jupyter-widgets/controls",
            "_view_module_version": "1.5.0",
            "_view_name": "HTMLView",
            "description": "",
            "description_tooltip": null,
            "layout": "IPY_MODEL_c5d8ce5a7c2748aab497215045bb77f0",
            "placeholder": "​",
            "style": "IPY_MODEL_2c165fe272374b8aa692da1a053b3e50",
            "value": " 125/125 [00:00&lt;00:00, 2.02kB/s]"
          }
        },
        "f82321c25eef4187b4ac69d8fd9ac83b": {
          "model_module": "@jupyter-widgets/base",
          "model_name": "LayoutModel",
          "model_module_version": "1.2.0",
          "state": {
            "_model_module": "@jupyter-widgets/base",
            "_model_module_version": "1.2.0",
            "_model_name": "LayoutModel",
            "_view_count": null,
            "_view_module": "@jupyter-widgets/base",
            "_view_module_version": "1.2.0",
            "_view_name": "LayoutView",
            "align_content": null,
            "align_items": null,
            "align_self": null,
            "border": null,
            "bottom": null,
            "display": null,
            "flex": null,
            "flex_flow": null,
            "grid_area": null,
            "grid_auto_columns": null,
            "grid_auto_flow": null,
            "grid_auto_rows": null,
            "grid_column": null,
            "grid_gap": null,
            "grid_row": null,
            "grid_template_areas": null,
            "grid_template_columns": null,
            "grid_template_rows": null,
            "height": null,
            "justify_content": null,
            "justify_items": null,
            "left": null,
            "margin": null,
            "max_height": null,
            "max_width": null,
            "min_height": null,
            "min_width": null,
            "object_fit": null,
            "object_position": null,
            "order": null,
            "overflow": null,
            "overflow_x": null,
            "overflow_y": null,
            "padding": null,
            "right": null,
            "top": null,
            "visibility": null,
            "width": null
          }
        },
        "a81f59693dde47f9ad2ab17d526f0699": {
          "model_module": "@jupyter-widgets/base",
          "model_name": "LayoutModel",
          "model_module_version": "1.2.0",
          "state": {
            "_model_module": "@jupyter-widgets/base",
            "_model_module_version": "1.2.0",
            "_model_name": "LayoutModel",
            "_view_count": null,
            "_view_module": "@jupyter-widgets/base",
            "_view_module_version": "1.2.0",
            "_view_name": "LayoutView",
            "align_content": null,
            "align_items": null,
            "align_self": null,
            "border": null,
            "bottom": null,
            "display": null,
            "flex": null,
            "flex_flow": null,
            "grid_area": null,
            "grid_auto_columns": null,
            "grid_auto_flow": null,
            "grid_auto_rows": null,
            "grid_column": null,
            "grid_gap": null,
            "grid_row": null,
            "grid_template_areas": null,
            "grid_template_columns": null,
            "grid_template_rows": null,
            "height": null,
            "justify_content": null,
            "justify_items": null,
            "left": null,
            "margin": null,
            "max_height": null,
            "max_width": null,
            "min_height": null,
            "min_width": null,
            "object_fit": null,
            "object_position": null,
            "order": null,
            "overflow": null,
            "overflow_x": null,
            "overflow_y": null,
            "padding": null,
            "right": null,
            "top": null,
            "visibility": null,
            "width": null
          }
        },
        "6fbbab653b9746b0bf528034220a96c0": {
          "model_module": "@jupyter-widgets/controls",
          "model_name": "DescriptionStyleModel",
          "model_module_version": "1.5.0",
          "state": {
            "_model_module": "@jupyter-widgets/controls",
            "_model_module_version": "1.5.0",
            "_model_name": "DescriptionStyleModel",
            "_view_count": null,
            "_view_module": "@jupyter-widgets/base",
            "_view_module_version": "1.2.0",
            "_view_name": "StyleView",
            "description_width": ""
          }
        },
        "a4fadfee7458410396b311f4bcf7f55c": {
          "model_module": "@jupyter-widgets/base",
          "model_name": "LayoutModel",
          "model_module_version": "1.2.0",
          "state": {
            "_model_module": "@jupyter-widgets/base",
            "_model_module_version": "1.2.0",
            "_model_name": "LayoutModel",
            "_view_count": null,
            "_view_module": "@jupyter-widgets/base",
            "_view_module_version": "1.2.0",
            "_view_name": "LayoutView",
            "align_content": null,
            "align_items": null,
            "align_self": null,
            "border": null,
            "bottom": null,
            "display": null,
            "flex": null,
            "flex_flow": null,
            "grid_area": null,
            "grid_auto_columns": null,
            "grid_auto_flow": null,
            "grid_auto_rows": null,
            "grid_column": null,
            "grid_gap": null,
            "grid_row": null,
            "grid_template_areas": null,
            "grid_template_columns": null,
            "grid_template_rows": null,
            "height": null,
            "justify_content": null,
            "justify_items": null,
            "left": null,
            "margin": null,
            "max_height": null,
            "max_width": null,
            "min_height": null,
            "min_width": null,
            "object_fit": null,
            "object_position": null,
            "order": null,
            "overflow": null,
            "overflow_x": null,
            "overflow_y": null,
            "padding": null,
            "right": null,
            "top": null,
            "visibility": null,
            "width": null
          }
        },
        "f0f384bc2d484474bc69d429cc1a03f1": {
          "model_module": "@jupyter-widgets/controls",
          "model_name": "ProgressStyleModel",
          "model_module_version": "1.5.0",
          "state": {
            "_model_module": "@jupyter-widgets/controls",
            "_model_module_version": "1.5.0",
            "_model_name": "ProgressStyleModel",
            "_view_count": null,
            "_view_module": "@jupyter-widgets/base",
            "_view_module_version": "1.2.0",
            "_view_name": "StyleView",
            "bar_color": null,
            "description_width": ""
          }
        },
        "c5d8ce5a7c2748aab497215045bb77f0": {
          "model_module": "@jupyter-widgets/base",
          "model_name": "LayoutModel",
          "model_module_version": "1.2.0",
          "state": {
            "_model_module": "@jupyter-widgets/base",
            "_model_module_version": "1.2.0",
            "_model_name": "LayoutModel",
            "_view_count": null,
            "_view_module": "@jupyter-widgets/base",
            "_view_module_version": "1.2.0",
            "_view_name": "LayoutView",
            "align_content": null,
            "align_items": null,
            "align_self": null,
            "border": null,
            "bottom": null,
            "display": null,
            "flex": null,
            "flex_flow": null,
            "grid_area": null,
            "grid_auto_columns": null,
            "grid_auto_flow": null,
            "grid_auto_rows": null,
            "grid_column": null,
            "grid_gap": null,
            "grid_row": null,
            "grid_template_areas": null,
            "grid_template_columns": null,
            "grid_template_rows": null,
            "height": null,
            "justify_content": null,
            "justify_items": null,
            "left": null,
            "margin": null,
            "max_height": null,
            "max_width": null,
            "min_height": null,
            "min_width": null,
            "object_fit": null,
            "object_position": null,
            "order": null,
            "overflow": null,
            "overflow_x": null,
            "overflow_y": null,
            "padding": null,
            "right": null,
            "top": null,
            "visibility": null,
            "width": null
          }
        },
        "2c165fe272374b8aa692da1a053b3e50": {
          "model_module": "@jupyter-widgets/controls",
          "model_name": "DescriptionStyleModel",
          "model_module_version": "1.5.0",
          "state": {
            "_model_module": "@jupyter-widgets/controls",
            "_model_module_version": "1.5.0",
            "_model_name": "DescriptionStyleModel",
            "_view_count": null,
            "_view_module": "@jupyter-widgets/base",
            "_view_module_version": "1.2.0",
            "_view_name": "StyleView",
            "description_width": ""
          }
        },
        "4ba8435018d24770a933c256834b56ef": {
          "model_module": "@jupyter-widgets/controls",
          "model_name": "HBoxModel",
          "model_module_version": "1.5.0",
          "state": {
            "_dom_classes": [],
            "_model_module": "@jupyter-widgets/controls",
            "_model_module_version": "1.5.0",
            "_model_name": "HBoxModel",
            "_view_count": null,
            "_view_module": "@jupyter-widgets/controls",
            "_view_module_version": "1.5.0",
            "_view_name": "HBoxView",
            "box_style": "",
            "children": [
              "IPY_MODEL_e56d287c5cee422e9024e4ff74de83cf",
              "IPY_MODEL_3fd32bd9b92e4477827d1119a795660b",
              "IPY_MODEL_b54c7ff34f7f4123833561f223a611a6"
            ],
            "layout": "IPY_MODEL_f79d394eddf047ea90822045020c2fe5"
          }
        },
        "e56d287c5cee422e9024e4ff74de83cf": {
          "model_module": "@jupyter-widgets/controls",
          "model_name": "HTMLModel",
          "model_module_version": "1.5.0",
          "state": {
            "_dom_classes": [],
            "_model_module": "@jupyter-widgets/controls",
            "_model_module_version": "1.5.0",
            "_model_name": "HTMLModel",
            "_view_count": null,
            "_view_module": "@jupyter-widgets/controls",
            "_view_module_version": "1.5.0",
            "_view_name": "HTMLView",
            "description": "",
            "description_tooltip": null,
            "layout": "IPY_MODEL_a0616d7f5ce74dfe87963fa5037e8d0a",
            "placeholder": "​",
            "style": "IPY_MODEL_3482a69b5a2741adbc41063ba60a5cd1",
            "value": "config.json: 100%"
          }
        },
        "3fd32bd9b92e4477827d1119a795660b": {
          "model_module": "@jupyter-widgets/controls",
          "model_name": "FloatProgressModel",
          "model_module_version": "1.5.0",
          "state": {
            "_dom_classes": [],
            "_model_module": "@jupyter-widgets/controls",
            "_model_module_version": "1.5.0",
            "_model_name": "FloatProgressModel",
            "_view_count": null,
            "_view_module": "@jupyter-widgets/controls",
            "_view_module_version": "1.5.0",
            "_view_name": "ProgressView",
            "bar_style": "success",
            "description": "",
            "description_tooltip": null,
            "layout": "IPY_MODEL_e04edfb2fcec458398e9dbc621d2f2df",
            "max": 4559,
            "min": 0,
            "orientation": "horizontal",
            "style": "IPY_MODEL_2e9e9124b4dd47b0a3eaad395027b3c5",
            "value": 4559
          }
        },
        "b54c7ff34f7f4123833561f223a611a6": {
          "model_module": "@jupyter-widgets/controls",
          "model_name": "HTMLModel",
          "model_module_version": "1.5.0",
          "state": {
            "_dom_classes": [],
            "_model_module": "@jupyter-widgets/controls",
            "_model_module_version": "1.5.0",
            "_model_name": "HTMLModel",
            "_view_count": null,
            "_view_module": "@jupyter-widgets/controls",
            "_view_module_version": "1.5.0",
            "_view_name": "HTMLView",
            "description": "",
            "description_tooltip": null,
            "layout": "IPY_MODEL_916a42a3db744e73be9e8e2da5070f34",
            "placeholder": "​",
            "style": "IPY_MODEL_3981f0cf7287457cae4bc8ca86e33a29",
            "value": " 4.56k/4.56k [00:00&lt;00:00, 60.9kB/s]"
          }
        },
        "f79d394eddf047ea90822045020c2fe5": {
          "model_module": "@jupyter-widgets/base",
          "model_name": "LayoutModel",
          "model_module_version": "1.2.0",
          "state": {
            "_model_module": "@jupyter-widgets/base",
            "_model_module_version": "1.2.0",
            "_model_name": "LayoutModel",
            "_view_count": null,
            "_view_module": "@jupyter-widgets/base",
            "_view_module_version": "1.2.0",
            "_view_name": "LayoutView",
            "align_content": null,
            "align_items": null,
            "align_self": null,
            "border": null,
            "bottom": null,
            "display": null,
            "flex": null,
            "flex_flow": null,
            "grid_area": null,
            "grid_auto_columns": null,
            "grid_auto_flow": null,
            "grid_auto_rows": null,
            "grid_column": null,
            "grid_gap": null,
            "grid_row": null,
            "grid_template_areas": null,
            "grid_template_columns": null,
            "grid_template_rows": null,
            "height": null,
            "justify_content": null,
            "justify_items": null,
            "left": null,
            "margin": null,
            "max_height": null,
            "max_width": null,
            "min_height": null,
            "min_width": null,
            "object_fit": null,
            "object_position": null,
            "order": null,
            "overflow": null,
            "overflow_x": null,
            "overflow_y": null,
            "padding": null,
            "right": null,
            "top": null,
            "visibility": null,
            "width": null
          }
        },
        "a0616d7f5ce74dfe87963fa5037e8d0a": {
          "model_module": "@jupyter-widgets/base",
          "model_name": "LayoutModel",
          "model_module_version": "1.2.0",
          "state": {
            "_model_module": "@jupyter-widgets/base",
            "_model_module_version": "1.2.0",
            "_model_name": "LayoutModel",
            "_view_count": null,
            "_view_module": "@jupyter-widgets/base",
            "_view_module_version": "1.2.0",
            "_view_name": "LayoutView",
            "align_content": null,
            "align_items": null,
            "align_self": null,
            "border": null,
            "bottom": null,
            "display": null,
            "flex": null,
            "flex_flow": null,
            "grid_area": null,
            "grid_auto_columns": null,
            "grid_auto_flow": null,
            "grid_auto_rows": null,
            "grid_column": null,
            "grid_gap": null,
            "grid_row": null,
            "grid_template_areas": null,
            "grid_template_columns": null,
            "grid_template_rows": null,
            "height": null,
            "justify_content": null,
            "justify_items": null,
            "left": null,
            "margin": null,
            "max_height": null,
            "max_width": null,
            "min_height": null,
            "min_width": null,
            "object_fit": null,
            "object_position": null,
            "order": null,
            "overflow": null,
            "overflow_x": null,
            "overflow_y": null,
            "padding": null,
            "right": null,
            "top": null,
            "visibility": null,
            "width": null
          }
        },
        "3482a69b5a2741adbc41063ba60a5cd1": {
          "model_module": "@jupyter-widgets/controls",
          "model_name": "DescriptionStyleModel",
          "model_module_version": "1.5.0",
          "state": {
            "_model_module": "@jupyter-widgets/controls",
            "_model_module_version": "1.5.0",
            "_model_name": "DescriptionStyleModel",
            "_view_count": null,
            "_view_module": "@jupyter-widgets/base",
            "_view_module_version": "1.2.0",
            "_view_name": "StyleView",
            "description_width": ""
          }
        },
        "e04edfb2fcec458398e9dbc621d2f2df": {
          "model_module": "@jupyter-widgets/base",
          "model_name": "LayoutModel",
          "model_module_version": "1.2.0",
          "state": {
            "_model_module": "@jupyter-widgets/base",
            "_model_module_version": "1.2.0",
            "_model_name": "LayoutModel",
            "_view_count": null,
            "_view_module": "@jupyter-widgets/base",
            "_view_module_version": "1.2.0",
            "_view_name": "LayoutView",
            "align_content": null,
            "align_items": null,
            "align_self": null,
            "border": null,
            "bottom": null,
            "display": null,
            "flex": null,
            "flex_flow": null,
            "grid_area": null,
            "grid_auto_columns": null,
            "grid_auto_flow": null,
            "grid_auto_rows": null,
            "grid_column": null,
            "grid_gap": null,
            "grid_row": null,
            "grid_template_areas": null,
            "grid_template_columns": null,
            "grid_template_rows": null,
            "height": null,
            "justify_content": null,
            "justify_items": null,
            "left": null,
            "margin": null,
            "max_height": null,
            "max_width": null,
            "min_height": null,
            "min_width": null,
            "object_fit": null,
            "object_position": null,
            "order": null,
            "overflow": null,
            "overflow_x": null,
            "overflow_y": null,
            "padding": null,
            "right": null,
            "top": null,
            "visibility": null,
            "width": null
          }
        },
        "2e9e9124b4dd47b0a3eaad395027b3c5": {
          "model_module": "@jupyter-widgets/controls",
          "model_name": "ProgressStyleModel",
          "model_module_version": "1.5.0",
          "state": {
            "_model_module": "@jupyter-widgets/controls",
            "_model_module_version": "1.5.0",
            "_model_name": "ProgressStyleModel",
            "_view_count": null,
            "_view_module": "@jupyter-widgets/base",
            "_view_module_version": "1.2.0",
            "_view_name": "StyleView",
            "bar_color": null,
            "description_width": ""
          }
        },
        "916a42a3db744e73be9e8e2da5070f34": {
          "model_module": "@jupyter-widgets/base",
          "model_name": "LayoutModel",
          "model_module_version": "1.2.0",
          "state": {
            "_model_module": "@jupyter-widgets/base",
            "_model_module_version": "1.2.0",
            "_model_name": "LayoutModel",
            "_view_count": null,
            "_view_module": "@jupyter-widgets/base",
            "_view_module_version": "1.2.0",
            "_view_name": "LayoutView",
            "align_content": null,
            "align_items": null,
            "align_self": null,
            "border": null,
            "bottom": null,
            "display": null,
            "flex": null,
            "flex_flow": null,
            "grid_area": null,
            "grid_auto_columns": null,
            "grid_auto_flow": null,
            "grid_auto_rows": null,
            "grid_column": null,
            "grid_gap": null,
            "grid_row": null,
            "grid_template_areas": null,
            "grid_template_columns": null,
            "grid_template_rows": null,
            "height": null,
            "justify_content": null,
            "justify_items": null,
            "left": null,
            "margin": null,
            "max_height": null,
            "max_width": null,
            "min_height": null,
            "min_width": null,
            "object_fit": null,
            "object_position": null,
            "order": null,
            "overflow": null,
            "overflow_x": null,
            "overflow_y": null,
            "padding": null,
            "right": null,
            "top": null,
            "visibility": null,
            "width": null
          }
        },
        "3981f0cf7287457cae4bc8ca86e33a29": {
          "model_module": "@jupyter-widgets/controls",
          "model_name": "DescriptionStyleModel",
          "model_module_version": "1.5.0",
          "state": {
            "_model_module": "@jupyter-widgets/controls",
            "_model_module_version": "1.5.0",
            "_model_name": "DescriptionStyleModel",
            "_view_count": null,
            "_view_module": "@jupyter-widgets/base",
            "_view_module_version": "1.2.0",
            "_view_name": "StyleView",
            "description_width": ""
          }
        },
        "8cde779bb0784d79bf4c8d5cd8146442": {
          "model_module": "@jupyter-widgets/controls",
          "model_name": "HBoxModel",
          "model_module_version": "1.5.0",
          "state": {
            "_dom_classes": [],
            "_model_module": "@jupyter-widgets/controls",
            "_model_module_version": "1.5.0",
            "_model_name": "HBoxModel",
            "_view_count": null,
            "_view_module": "@jupyter-widgets/controls",
            "_view_module_version": "1.5.0",
            "_view_name": "HBoxView",
            "box_style": "",
            "children": [
              "IPY_MODEL_e5d186a8f0564de3a544154780be7e30",
              "IPY_MODEL_57c15c79f9b0473fa46903a8242a7752",
              "IPY_MODEL_d77d9c53c6cb48a1bdeceabc08abcd84"
            ],
            "layout": "IPY_MODEL_98e3cc23184c41f7b09283a2f03c2aa2"
          }
        },
        "e5d186a8f0564de3a544154780be7e30": {
          "model_module": "@jupyter-widgets/controls",
          "model_name": "HTMLModel",
          "model_module_version": "1.5.0",
          "state": {
            "_dom_classes": [],
            "_model_module": "@jupyter-widgets/controls",
            "_model_module_version": "1.5.0",
            "_model_name": "HTMLModel",
            "_view_count": null,
            "_view_module": "@jupyter-widgets/controls",
            "_view_module_version": "1.5.0",
            "_view_name": "HTMLView",
            "description": "",
            "description_tooltip": null,
            "layout": "IPY_MODEL_1db4a869edd642f7b9b9cd8f0c99f8e1",
            "placeholder": "​",
            "style": "IPY_MODEL_8b0dad7173dd4966b9a3e2b4748e655e",
            "value": "model.safetensors: 100%"
          }
        },
        "57c15c79f9b0473fa46903a8242a7752": {
          "model_module": "@jupyter-widgets/controls",
          "model_name": "FloatProgressModel",
          "model_module_version": "1.5.0",
          "state": {
            "_dom_classes": [],
            "_model_module": "@jupyter-widgets/controls",
            "_model_module_version": "1.5.0",
            "_model_name": "FloatProgressModel",
            "_view_count": null,
            "_view_module": "@jupyter-widgets/controls",
            "_view_module_version": "1.5.0",
            "_view_name": "ProgressView",
            "bar_style": "success",
            "description": "",
            "description_tooltip": null,
            "layout": "IPY_MODEL_787ecbcd24904a85b05622f3df07361f",
            "max": 1538800584,
            "min": 0,
            "orientation": "horizontal",
            "style": "IPY_MODEL_b81f780ebba04253bc9944e4d73f6bdc",
            "value": 1538800584
          }
        },
        "d77d9c53c6cb48a1bdeceabc08abcd84": {
          "model_module": "@jupyter-widgets/controls",
          "model_name": "HTMLModel",
          "model_module_version": "1.5.0",
          "state": {
            "_dom_classes": [],
            "_model_module": "@jupyter-widgets/controls",
            "_model_module_version": "1.5.0",
            "_model_name": "HTMLModel",
            "_view_count": null,
            "_view_module": "@jupyter-widgets/controls",
            "_view_module_version": "1.5.0",
            "_view_name": "HTMLView",
            "description": "",
            "description_tooltip": null,
            "layout": "IPY_MODEL_efeb4adab470447d87d803c6bad878f0",
            "placeholder": "​",
            "style": "IPY_MODEL_964ade96c41844838d7dc3ac2eb5b467",
            "value": " 1.54G/1.54G [00:21&lt;00:00, 77.3MB/s]"
          }
        },
        "98e3cc23184c41f7b09283a2f03c2aa2": {
          "model_module": "@jupyter-widgets/base",
          "model_name": "LayoutModel",
          "model_module_version": "1.2.0",
          "state": {
            "_model_module": "@jupyter-widgets/base",
            "_model_module_version": "1.2.0",
            "_model_name": "LayoutModel",
            "_view_count": null,
            "_view_module": "@jupyter-widgets/base",
            "_view_module_version": "1.2.0",
            "_view_name": "LayoutView",
            "align_content": null,
            "align_items": null,
            "align_self": null,
            "border": null,
            "bottom": null,
            "display": null,
            "flex": null,
            "flex_flow": null,
            "grid_area": null,
            "grid_auto_columns": null,
            "grid_auto_flow": null,
            "grid_auto_rows": null,
            "grid_column": null,
            "grid_gap": null,
            "grid_row": null,
            "grid_template_areas": null,
            "grid_template_columns": null,
            "grid_template_rows": null,
            "height": null,
            "justify_content": null,
            "justify_items": null,
            "left": null,
            "margin": null,
            "max_height": null,
            "max_width": null,
            "min_height": null,
            "min_width": null,
            "object_fit": null,
            "object_position": null,
            "order": null,
            "overflow": null,
            "overflow_x": null,
            "overflow_y": null,
            "padding": null,
            "right": null,
            "top": null,
            "visibility": null,
            "width": null
          }
        },
        "1db4a869edd642f7b9b9cd8f0c99f8e1": {
          "model_module": "@jupyter-widgets/base",
          "model_name": "LayoutModel",
          "model_module_version": "1.2.0",
          "state": {
            "_model_module": "@jupyter-widgets/base",
            "_model_module_version": "1.2.0",
            "_model_name": "LayoutModel",
            "_view_count": null,
            "_view_module": "@jupyter-widgets/base",
            "_view_module_version": "1.2.0",
            "_view_name": "LayoutView",
            "align_content": null,
            "align_items": null,
            "align_self": null,
            "border": null,
            "bottom": null,
            "display": null,
            "flex": null,
            "flex_flow": null,
            "grid_area": null,
            "grid_auto_columns": null,
            "grid_auto_flow": null,
            "grid_auto_rows": null,
            "grid_column": null,
            "grid_gap": null,
            "grid_row": null,
            "grid_template_areas": null,
            "grid_template_columns": null,
            "grid_template_rows": null,
            "height": null,
            "justify_content": null,
            "justify_items": null,
            "left": null,
            "margin": null,
            "max_height": null,
            "max_width": null,
            "min_height": null,
            "min_width": null,
            "object_fit": null,
            "object_position": null,
            "order": null,
            "overflow": null,
            "overflow_x": null,
            "overflow_y": null,
            "padding": null,
            "right": null,
            "top": null,
            "visibility": null,
            "width": null
          }
        },
        "8b0dad7173dd4966b9a3e2b4748e655e": {
          "model_module": "@jupyter-widgets/controls",
          "model_name": "DescriptionStyleModel",
          "model_module_version": "1.5.0",
          "state": {
            "_model_module": "@jupyter-widgets/controls",
            "_model_module_version": "1.5.0",
            "_model_name": "DescriptionStyleModel",
            "_view_count": null,
            "_view_module": "@jupyter-widgets/base",
            "_view_module_version": "1.2.0",
            "_view_name": "StyleView",
            "description_width": ""
          }
        },
        "787ecbcd24904a85b05622f3df07361f": {
          "model_module": "@jupyter-widgets/base",
          "model_name": "LayoutModel",
          "model_module_version": "1.2.0",
          "state": {
            "_model_module": "@jupyter-widgets/base",
            "_model_module_version": "1.2.0",
            "_model_name": "LayoutModel",
            "_view_count": null,
            "_view_module": "@jupyter-widgets/base",
            "_view_module_version": "1.2.0",
            "_view_name": "LayoutView",
            "align_content": null,
            "align_items": null,
            "align_self": null,
            "border": null,
            "bottom": null,
            "display": null,
            "flex": null,
            "flex_flow": null,
            "grid_area": null,
            "grid_auto_columns": null,
            "grid_auto_flow": null,
            "grid_auto_rows": null,
            "grid_column": null,
            "grid_gap": null,
            "grid_row": null,
            "grid_template_areas": null,
            "grid_template_columns": null,
            "grid_template_rows": null,
            "height": null,
            "justify_content": null,
            "justify_items": null,
            "left": null,
            "margin": null,
            "max_height": null,
            "max_width": null,
            "min_height": null,
            "min_width": null,
            "object_fit": null,
            "object_position": null,
            "order": null,
            "overflow": null,
            "overflow_x": null,
            "overflow_y": null,
            "padding": null,
            "right": null,
            "top": null,
            "visibility": null,
            "width": null
          }
        },
        "b81f780ebba04253bc9944e4d73f6bdc": {
          "model_module": "@jupyter-widgets/controls",
          "model_name": "ProgressStyleModel",
          "model_module_version": "1.5.0",
          "state": {
            "_model_module": "@jupyter-widgets/controls",
            "_model_module_version": "1.5.0",
            "_model_name": "ProgressStyleModel",
            "_view_count": null,
            "_view_module": "@jupyter-widgets/base",
            "_view_module_version": "1.2.0",
            "_view_name": "StyleView",
            "bar_color": null,
            "description_width": ""
          }
        },
        "efeb4adab470447d87d803c6bad878f0": {
          "model_module": "@jupyter-widgets/base",
          "model_name": "LayoutModel",
          "model_module_version": "1.2.0",
          "state": {
            "_model_module": "@jupyter-widgets/base",
            "_model_module_version": "1.2.0",
            "_model_name": "LayoutModel",
            "_view_count": null,
            "_view_module": "@jupyter-widgets/base",
            "_view_module_version": "1.2.0",
            "_view_name": "LayoutView",
            "align_content": null,
            "align_items": null,
            "align_self": null,
            "border": null,
            "bottom": null,
            "display": null,
            "flex": null,
            "flex_flow": null,
            "grid_area": null,
            "grid_auto_columns": null,
            "grid_auto_flow": null,
            "grid_auto_rows": null,
            "grid_column": null,
            "grid_gap": null,
            "grid_row": null,
            "grid_template_areas": null,
            "grid_template_columns": null,
            "grid_template_rows": null,
            "height": null,
            "justify_content": null,
            "justify_items": null,
            "left": null,
            "margin": null,
            "max_height": null,
            "max_width": null,
            "min_height": null,
            "min_width": null,
            "object_fit": null,
            "object_position": null,
            "order": null,
            "overflow": null,
            "overflow_x": null,
            "overflow_y": null,
            "padding": null,
            "right": null,
            "top": null,
            "visibility": null,
            "width": null
          }
        },
        "964ade96c41844838d7dc3ac2eb5b467": {
          "model_module": "@jupyter-widgets/controls",
          "model_name": "DescriptionStyleModel",
          "model_module_version": "1.5.0",
          "state": {
            "_model_module": "@jupyter-widgets/controls",
            "_model_module_version": "1.5.0",
            "_model_name": "DescriptionStyleModel",
            "_view_count": null,
            "_view_module": "@jupyter-widgets/base",
            "_view_module_version": "1.2.0",
            "_view_name": "StyleView",
            "description_width": ""
          }
        },
        "f67dc9abfb6740b7b9e6f2cee3a89c06": {
          "model_module": "@jupyter-widgets/controls",
          "model_name": "HBoxModel",
          "model_module_version": "1.5.0",
          "state": {
            "_dom_classes": [],
            "_model_module": "@jupyter-widgets/controls",
            "_model_module_version": "1.5.0",
            "_model_name": "HBoxModel",
            "_view_count": null,
            "_view_module": "@jupyter-widgets/controls",
            "_view_module_version": "1.5.0",
            "_view_name": "HBoxView",
            "box_style": "",
            "children": [
              "IPY_MODEL_141ba7e445954788a6f63e625c5f7663",
              "IPY_MODEL_b56ebe0f0326443ead2f6ab5c6afe240",
              "IPY_MODEL_ffc73a995d7f478c854cee1307244adc"
            ],
            "layout": "IPY_MODEL_3b08a0c2b03742649eb1251c006d1feb"
          }
        },
        "141ba7e445954788a6f63e625c5f7663": {
          "model_module": "@jupyter-widgets/controls",
          "model_name": "HTMLModel",
          "model_module_version": "1.5.0",
          "state": {
            "_dom_classes": [],
            "_model_module": "@jupyter-widgets/controls",
            "_model_module_version": "1.5.0",
            "_model_name": "HTMLModel",
            "_view_count": null,
            "_view_module": "@jupyter-widgets/controls",
            "_view_module_version": "1.5.0",
            "_view_name": "HTMLView",
            "description": "",
            "description_tooltip": null,
            "layout": "IPY_MODEL_55273eee3ccc46e2b22d59d030811fb8",
            "placeholder": "​",
            "style": "IPY_MODEL_8b3f35b83efd4dd2bda8c05969d0d429",
            "value": "Loading checkpoint shards: 100%"
          }
        },
        "b56ebe0f0326443ead2f6ab5c6afe240": {
          "model_module": "@jupyter-widgets/controls",
          "model_name": "FloatProgressModel",
          "model_module_version": "1.5.0",
          "state": {
            "_dom_classes": [],
            "_model_module": "@jupyter-widgets/controls",
            "_model_module_version": "1.5.0",
            "_model_name": "FloatProgressModel",
            "_view_count": null,
            "_view_module": "@jupyter-widgets/controls",
            "_view_module_version": "1.5.0",
            "_view_name": "ProgressView",
            "bar_style": "success",
            "description": "",
            "description_tooltip": null,
            "layout": "IPY_MODEL_1cfa6aa4ffff497f8b5395f2bf484a2e",
            "max": 3,
            "min": 0,
            "orientation": "horizontal",
            "style": "IPY_MODEL_4e60cf3ff1164e56bd377468deb0dd81",
            "value": 3
          }
        },
        "ffc73a995d7f478c854cee1307244adc": {
          "model_module": "@jupyter-widgets/controls",
          "model_name": "HTMLModel",
          "model_module_version": "1.5.0",
          "state": {
            "_dom_classes": [],
            "_model_module": "@jupyter-widgets/controls",
            "_model_module_version": "1.5.0",
            "_model_name": "HTMLModel",
            "_view_count": null,
            "_view_module": "@jupyter-widgets/controls",
            "_view_module_version": "1.5.0",
            "_view_name": "HTMLView",
            "description": "",
            "description_tooltip": null,
            "layout": "IPY_MODEL_ad59f836248c452b8e87ba3971916a61",
            "placeholder": "​",
            "style": "IPY_MODEL_4aa1d7b030774567ac88b0883b4a198b",
            "value": " 3/3 [01:22&lt;00:00, 26.93s/it]"
          }
        },
        "3b08a0c2b03742649eb1251c006d1feb": {
          "model_module": "@jupyter-widgets/base",
          "model_name": "LayoutModel",
          "model_module_version": "1.2.0",
          "state": {
            "_model_module": "@jupyter-widgets/base",
            "_model_module_version": "1.2.0",
            "_model_name": "LayoutModel",
            "_view_count": null,
            "_view_module": "@jupyter-widgets/base",
            "_view_module_version": "1.2.0",
            "_view_name": "LayoutView",
            "align_content": null,
            "align_items": null,
            "align_self": null,
            "border": null,
            "bottom": null,
            "display": null,
            "flex": null,
            "flex_flow": null,
            "grid_area": null,
            "grid_auto_columns": null,
            "grid_auto_flow": null,
            "grid_auto_rows": null,
            "grid_column": null,
            "grid_gap": null,
            "grid_row": null,
            "grid_template_areas": null,
            "grid_template_columns": null,
            "grid_template_rows": null,
            "height": null,
            "justify_content": null,
            "justify_items": null,
            "left": null,
            "margin": null,
            "max_height": null,
            "max_width": null,
            "min_height": null,
            "min_width": null,
            "object_fit": null,
            "object_position": null,
            "order": null,
            "overflow": null,
            "overflow_x": null,
            "overflow_y": null,
            "padding": null,
            "right": null,
            "top": null,
            "visibility": null,
            "width": null
          }
        },
        "55273eee3ccc46e2b22d59d030811fb8": {
          "model_module": "@jupyter-widgets/base",
          "model_name": "LayoutModel",
          "model_module_version": "1.2.0",
          "state": {
            "_model_module": "@jupyter-widgets/base",
            "_model_module_version": "1.2.0",
            "_model_name": "LayoutModel",
            "_view_count": null,
            "_view_module": "@jupyter-widgets/base",
            "_view_module_version": "1.2.0",
            "_view_name": "LayoutView",
            "align_content": null,
            "align_items": null,
            "align_self": null,
            "border": null,
            "bottom": null,
            "display": null,
            "flex": null,
            "flex_flow": null,
            "grid_area": null,
            "grid_auto_columns": null,
            "grid_auto_flow": null,
            "grid_auto_rows": null,
            "grid_column": null,
            "grid_gap": null,
            "grid_row": null,
            "grid_template_areas": null,
            "grid_template_columns": null,
            "grid_template_rows": null,
            "height": null,
            "justify_content": null,
            "justify_items": null,
            "left": null,
            "margin": null,
            "max_height": null,
            "max_width": null,
            "min_height": null,
            "min_width": null,
            "object_fit": null,
            "object_position": null,
            "order": null,
            "overflow": null,
            "overflow_x": null,
            "overflow_y": null,
            "padding": null,
            "right": null,
            "top": null,
            "visibility": null,
            "width": null
          }
        },
        "8b3f35b83efd4dd2bda8c05969d0d429": {
          "model_module": "@jupyter-widgets/controls",
          "model_name": "DescriptionStyleModel",
          "model_module_version": "1.5.0",
          "state": {
            "_model_module": "@jupyter-widgets/controls",
            "_model_module_version": "1.5.0",
            "_model_name": "DescriptionStyleModel",
            "_view_count": null,
            "_view_module": "@jupyter-widgets/base",
            "_view_module_version": "1.2.0",
            "_view_name": "StyleView",
            "description_width": ""
          }
        },
        "1cfa6aa4ffff497f8b5395f2bf484a2e": {
          "model_module": "@jupyter-widgets/base",
          "model_name": "LayoutModel",
          "model_module_version": "1.2.0",
          "state": {
            "_model_module": "@jupyter-widgets/base",
            "_model_module_version": "1.2.0",
            "_model_name": "LayoutModel",
            "_view_count": null,
            "_view_module": "@jupyter-widgets/base",
            "_view_module_version": "1.2.0",
            "_view_name": "LayoutView",
            "align_content": null,
            "align_items": null,
            "align_self": null,
            "border": null,
            "bottom": null,
            "display": null,
            "flex": null,
            "flex_flow": null,
            "grid_area": null,
            "grid_auto_columns": null,
            "grid_auto_flow": null,
            "grid_auto_rows": null,
            "grid_column": null,
            "grid_gap": null,
            "grid_row": null,
            "grid_template_areas": null,
            "grid_template_columns": null,
            "grid_template_rows": null,
            "height": null,
            "justify_content": null,
            "justify_items": null,
            "left": null,
            "margin": null,
            "max_height": null,
            "max_width": null,
            "min_height": null,
            "min_width": null,
            "object_fit": null,
            "object_position": null,
            "order": null,
            "overflow": null,
            "overflow_x": null,
            "overflow_y": null,
            "padding": null,
            "right": null,
            "top": null,
            "visibility": null,
            "width": null
          }
        },
        "4e60cf3ff1164e56bd377468deb0dd81": {
          "model_module": "@jupyter-widgets/controls",
          "model_name": "ProgressStyleModel",
          "model_module_version": "1.5.0",
          "state": {
            "_model_module": "@jupyter-widgets/controls",
            "_model_module_version": "1.5.0",
            "_model_name": "ProgressStyleModel",
            "_view_count": null,
            "_view_module": "@jupyter-widgets/base",
            "_view_module_version": "1.2.0",
            "_view_name": "StyleView",
            "bar_color": null,
            "description_width": ""
          }
        },
        "ad59f836248c452b8e87ba3971916a61": {
          "model_module": "@jupyter-widgets/base",
          "model_name": "LayoutModel",
          "model_module_version": "1.2.0",
          "state": {
            "_model_module": "@jupyter-widgets/base",
            "_model_module_version": "1.2.0",
            "_model_name": "LayoutModel",
            "_view_count": null,
            "_view_module": "@jupyter-widgets/base",
            "_view_module_version": "1.2.0",
            "_view_name": "LayoutView",
            "align_content": null,
            "align_items": null,
            "align_self": null,
            "border": null,
            "bottom": null,
            "display": null,
            "flex": null,
            "flex_flow": null,
            "grid_area": null,
            "grid_auto_columns": null,
            "grid_auto_flow": null,
            "grid_auto_rows": null,
            "grid_column": null,
            "grid_gap": null,
            "grid_row": null,
            "grid_template_areas": null,
            "grid_template_columns": null,
            "grid_template_rows": null,
            "height": null,
            "justify_content": null,
            "justify_items": null,
            "left": null,
            "margin": null,
            "max_height": null,
            "max_width": null,
            "min_height": null,
            "min_width": null,
            "object_fit": null,
            "object_position": null,
            "order": null,
            "overflow": null,
            "overflow_x": null,
            "overflow_y": null,
            "padding": null,
            "right": null,
            "top": null,
            "visibility": null,
            "width": null
          }
        },
        "4aa1d7b030774567ac88b0883b4a198b": {
          "model_module": "@jupyter-widgets/controls",
          "model_name": "DescriptionStyleModel",
          "model_module_version": "1.5.0",
          "state": {
            "_model_module": "@jupyter-widgets/controls",
            "_model_module_version": "1.5.0",
            "_model_name": "DescriptionStyleModel",
            "_view_count": null,
            "_view_module": "@jupyter-widgets/base",
            "_view_module_version": "1.2.0",
            "_view_name": "StyleView",
            "description_width": ""
          }
        }
      }
    }
  },
  "cells": [
    {
      "cell_type": "code",
      "execution_count": 1,
      "metadata": {
        "id": "W8CJ1kgsx1hJ"
      },
      "outputs": [],
      "source": [
        "!pip install -q transformers==4.36.0\n",
        "!pip install -q bitsandbytes==0.41.3 accelerate==0.25.0"
      ]
    },
    {
      "cell_type": "code",
      "source": [
        "from google.colab import drive\n",
        "drive.mount('/content/drive', force_remount=True)"
      ],
      "metadata": {
        "colab": {
          "base_uri": "https://localhost:8080/"
        },
        "id": "5R805BViybqS",
        "outputId": "15d37752-01f3-49ea-8aea-d36fbc3c28c5"
      },
      "execution_count": 2,
      "outputs": [
        {
          "output_type": "stream",
          "name": "stdout",
          "text": [
            "Mounted at /content/drive\n"
          ]
        }
      ]
    },
    {
      "cell_type": "code",
      "source": [
        "%%capture\n",
        "from PIL import Image\n",
        "import os\n",
        "import numpy as np\n",
        "from pprint import pprint\n",
        "from tqdm import tqdm #progress bar\n",
        "import requests\n",
        "import torch\n",
        "from transformers import CLIPProcessor, CLIPModel\n",
        "from transformers import AutoProcessor, LlavaForConditionalGeneration\n",
        "#from torch.utils.data import Dataset\n",
        "from torch.utils.data import DataLoader\n",
        "from torch.utils.data import TensorDataset\n",
        "import csv\n",
        "import os\n",
        "import shutil\n",
        "import pandas as pd\n",
        "from sklearn.metrics import confusion_matrix, accuracy_score, precision_score, recall_score\n",
        "import seaborn as sns\n",
        "from matplotlib import pyplot as plt"
      ],
      "metadata": {
        "id": "UPgvwe1AyBur"
      },
      "execution_count": 3,
      "outputs": []
    },
    {
      "cell_type": "code",
      "source": [
        "device = \"cuda:0\" if torch.cuda.is_available() else \"cpu\""
      ],
      "metadata": {
        "id": "-WJufOfvYmZ-"
      },
      "execution_count": 4,
      "outputs": []
    },
    {
      "cell_type": "code",
      "source": [
        "# file path for web scraped data\n",
        "filepath_pd = '/content/drive/MyDrive/capstone_project/palm_desert.txt'\n",
        "filepath_cc = '/content/drive/MyDrive/capstone_project/cook_county_recycling_instruc.txt'\n",
        "\n",
        "# file path for images\n",
        "imagepath = '/content/drive/MyDrive/capstone_project/image_data/data_x.npy'\n",
        "# file path for image labels\n",
        "labelpath = '/content/drive/MyDrive/capstone_project/image_data/data_y.npy'\n",
        "\n",
        "#filepath for model output\n",
        "outputpath = '/content/drive/MyDrive/capstone_project/Notebooks/llava_output'"
      ],
      "metadata": {
        "id": "2CRlZ0JnR41C"
      },
      "execution_count": 5,
      "outputs": []
    },
    {
      "cell_type": "code",
      "source": [
        "# getting recycling guide instructions\n",
        "with open(filepath_pd, \"r\") as file:\n",
        "  pd_instruc = file.read()\n",
        "\n",
        "#with open(filepath_cc, \"r\") as file:\n",
        "#  cc_instruc = file.read()"
      ],
      "metadata": {
        "id": "JzgIcC5DzU3v"
      },
      "execution_count": 6,
      "outputs": []
    },
    {
      "cell_type": "code",
      "source": [
        "# getting images (loaded as numpy arrays)\n",
        "images = np.load(open(imagepath, 'rb'))\n",
        "labels = np.load(labelpath, allow_pickle=True)\n",
        "\n",
        "label_names, integer_labels = np.unique(labels, return_inverse=True)\n",
        "\n",
        "tensor_x = torch.Tensor(images) # transform to torch tensor\n",
        "tensor_y = torch.tensor(integer_labels).long() #torch.Tensor(shuffled_labels)\n",
        "\n",
        "my_dataset = TensorDataset(tensor_x,tensor_y) # create your datset\n",
        "my_dataloader = DataLoader(my_dataset, batch_size = 3, shuffle=True) # create dataloader"
      ],
      "metadata": {
        "id": "p722u6A-TQR-"
      },
      "execution_count": 31,
      "outputs": []
    },
    {
      "cell_type": "code",
      "source": [
        "# Display image and label.\n",
        "features, labels = next(iter(my_dataloader))\n",
        "print(f\"Feature batch shape: {features.size()}\")\n",
        "print(f\"Labels batch shape: {labels.size()}\")\n",
        "img = features[0].numpy().astype(np.uint8) #.squeeze()\n",
        "label = labels[0]\n",
        "plt.imshow(img, cmap=\"gray\")\n",
        "plt.show()\n",
        "print(f\"Label: {label_names[label]}\")"
      ],
      "metadata": {
        "colab": {
          "base_uri": "https://localhost:8080/",
          "height": 488
        },
        "id": "LQfIhHXn66zh",
        "outputId": "8de00ef7-fdc4-4bd3-97f4-f265636f2274"
      },
      "execution_count": 32,
      "outputs": [
        {
          "output_type": "stream",
          "name": "stdout",
          "text": [
            "Feature batch shape: torch.Size([3, 128, 128, 3])\n",
            "Labels batch shape: torch.Size([3])\n"
          ]
        },
        {
          "output_type": "display_data",
          "data": {
            "text/plain": [
              "<Figure size 640x480 with 1 Axes>"
            ],
            "image/png": "[encoded data removed]"
          },
          "metadata": {}
        },
        {
          "output_type": "stream",
          "name": "stdout",
          "text": [
            "Label: boxes\n"
          ]
        }
      ]
    },
    {
      "cell_type": "code",
      "source": [
        "def string_accuracy(actual, predicted):\n",
        "\n",
        "    # Count the number of correct predictions\n",
        "    correct_predictions = sum(a == p for a, p in zip(actual, predicted))\n",
        "\n",
        "    # Calculate accuracy\n",
        "    accuracy = correct_predictions / len(actual)\n",
        "\n",
        "    return accuracy"
      ],
      "metadata": {
        "id": "ZyykK1jMPtlT"
      },
      "execution_count": 33,
      "outputs": []
    },
    {
      "cell_type": "code",
      "source": [
        "location = 'Palm Desert'\n",
        "prompt_instruct = f\"Given the following instructions for recycling in {location}: \\n {pd_instruc} \\n Use these instructions to explain how to recycle the item shown in the image.\"\n",
        "\n",
        "prompt = f\"USER: <image>\\n{prompt_instruct}\\n Please identify the item in this image and summarize the recycling instructions for that item based on the inputted recycling guide?\\nASSISTANT:\""
      ],
      "metadata": {
        "id": "j8SRwGCW1Es2"
      },
      "execution_count": 11,
      "outputs": []
    },
    {
      "cell_type": "markdown",
      "source": [
        "# Splitting up model outputs for scoring"
      ],
      "metadata": {
        "id": "iVAQARI7a5no"
      }
    },
    {
      "cell_type": "markdown",
      "source": [
        "Tips to make more RAM-efficient:\n",
        "\n",
        "1. **Batch Processing**:\n",
        "   - Process images in smaller batches instead of loading all at once. This reduces the peak memory usage.\n",
        "\n",
        "2. **Image Resizing**:\n",
        "   - Resize images to the minimum required dimensions before processing. The model expects images to be 224x224 pixels.\n",
        "\n",
        "3. **Precision Reduction**:\n",
        "   - Use mixed precision (e.g., FP16) if supported by your hardware. Libraries like PyTorch can help you switch to mixed precision, which uses less memory.\n",
        "\n",
        "4. **Memory Management**:\n",
        "   - Clear GPU memory after processing each batch by using `torch.cuda.empty_cache()` to free up unused memory.\n",
        "\n",
        "5. **Use of Data Loaders**:\n",
        "   - Utilize `DataLoader` in PyTorch for efficient loading and preprocessing of images in batches.\n",
        "\n",
        "6. **Avoid Unnecessary Copies**:\n",
        "   - Make sure not to hold references to images or model outputs longer than necessary to allow Python's garbage collector to reclaim memory.\n",
        "\n",
        "7. **Lazy Loading**:\n",
        "   - Load images from disk only when needed, instead of loading all images into memory at once.\n",
        "\n",
        "8. **Model Optimization**:\n",
        "   - If you're only using the model for inference, consider exporting the model to ONNX or TorchScript, which can optimize memory usage."
      ],
      "metadata": {
        "id": "zHqGT4WplJe5"
      }
    },
    {
      "cell_type": "markdown",
      "source": [
        "## Part 1: Image classification"
      ],
      "metadata": {
        "id": "Mz3FsSHxa-G3"
      }
    },
    {
      "cell_type": "markdown",
      "source": [
        "Q: Do we want to do image classification (score on accuracy) or should we do an open-ended model response and use a sentence meaning score to compare to correct answer?"
      ],
      "metadata": {
        "id": "BX1JXglAfQsF"
      }
    },
    {
      "cell_type": "code",
      "source": [
        "# list of item types in dataset with '_' removed because it slightly improved classification accuracy\n",
        "captions = [c.replace('_', ' ') for c in label_names]\n",
        "# need to map the string output back to the original format for comparison with labels\n",
        "caption_map = {'boxes':'boxes', 'soda can':'soda_can', 'plastic bottle':'plastic_bottle', 'glass bottle':'glass_bottle', 'paper cup':'paper_cup', 'aluminum can':'aluminum_can'}\n",
        "\n",
        "print(captions)"
      ],
      "metadata": {
        "colab": {
          "base_uri": "https://localhost:8080/"
        },
        "id": "KxaK0BMgQplz",
        "outputId": "aa654058-9071-486e-d246-230097da6735"
      },
      "execution_count": 12,
      "outputs": [
        {
          "output_type": "stream",
          "name": "stdout",
          "text": [
            "['aluminum can', 'boxes', 'glass bottle', 'paper cup', 'plastic bottle', 'soda can']\n"
          ]
        }
      ]
    },
    {
      "cell_type": "markdown",
      "source": [
        "### CLIP - better for classification with specific options to choose from"
      ],
      "metadata": {
        "id": "KRPQs0AMNEf7"
      }
    },
    {
      "cell_type": "code",
      "source": [
        "%%capture\n",
        "cl_model = CLIPModel.from_pretrained(\"openai/clip-vit-base-patch32\")\n",
        "cl_processor = CLIPProcessor.from_pretrained(\"openai/clip-vit-base-patch32\")"
      ],
      "metadata": {
        "id": "sIlV3wpw-EN_"
      },
      "execution_count": null,
      "outputs": []
    },
    {
      "cell_type": "code",
      "source": [
        "inputs = cl_processor(\n",
        "        text=captions, images=features, return_tensors=\"pt\", padding=True\n",
        ")\n",
        "\n",
        "with torch.no_grad():\n",
        "  with torch.autocast(device):\n",
        "    outputs = cl_model(**inputs)\n",
        "\n",
        "logits_per_image = outputs.logits_per_image            # image-text similarity score\n",
        "probs = logits_per_image.softmax(dim=1)"
      ],
      "metadata": {
        "id": "2VJ5r1xSUwGK"
      },
      "execution_count": null,
      "outputs": []
    },
    {
      "cell_type": "code",
      "source": [
        "# mapping ids to correct caption / label\n",
        "ids = torch.argmax(probs, dim=1)\n",
        "pred_item = list(np.array(captions)[ids])\n",
        "#print(item)"
      ],
      "metadata": {
        "id": "0YTwzmJ1XdX-"
      },
      "execution_count": null,
      "outputs": []
    },
    {
      "cell_type": "code",
      "source": [
        "# replace predicted string with equivalent label string\n",
        "pred_caption = [caption_map.get(item, item) for item in pred_item]\n",
        "label_caption = [label_names[l] for l in labels]\n",
        "#label_caption"
      ],
      "metadata": {
        "id": "-vAOuhB5N8lF"
      },
      "execution_count": null,
      "outputs": []
    },
    {
      "cell_type": "code",
      "source": [
        "accuracy = string_accuracy(label_caption, pred_caption)\n",
        "print(accuracy) # this has ranged from 59-70% ONLY DONE ON 1 BATCH SO FAR (200 images)"
      ],
      "metadata": {
        "colab": {
          "base_uri": "https://localhost:8080/"
        },
        "id": "hwFG1Yeyc5jK",
        "outputId": "c7f86c59-9e3c-42be-a6a2-75d1385914ec"
      },
      "execution_count": null,
      "outputs": [
        {
          "output_type": "stream",
          "name": "stdout",
          "text": [
            "0.63\n"
          ]
        }
      ]
    },
    {
      "cell_type": "code",
      "source": [
        "len(label_caption)"
      ],
      "metadata": {
        "colab": {
          "base_uri": "https://localhost:8080/"
        },
        "id": "t2PbsIBYH3vk",
        "outputId": "2222bc3c-4770-42bf-80b1-cab1fdc240ab"
      },
      "execution_count": null,
      "outputs": [
        {
          "output_type": "execute_result",
          "data": {
            "text/plain": [
              "200"
            ]
          },
          "metadata": {},
          "execution_count": 19
        }
      ]
    },
    {
      "cell_type": "markdown",
      "source": [
        "For all batches:"
      ],
      "metadata": {
        "id": "_JZSO0jHoPQp"
      }
    },
    {
      "cell_type": "code",
      "source": [
        "total_correct = 0\n",
        "total_samples = 0\n",
        "\n",
        "# Iterate through batches\n",
        "for b, batch in enumerate(my_dataloader):\n",
        "    print('Batch', b)\n",
        "    captions = captions  # List of captions for the batch\n",
        "    images_pil = batch[0]    # List of images as NumPy arrays\n",
        "\n",
        "    # Convert NumPy arrays to PIL Images\n",
        "    #images_pil =  [to_pil(img) for img in images_tensor]\n",
        "\n",
        "    # Process the inputs\n",
        "    inputs = cl_processor(text=captions, images=images_pil, return_tensors=\"pt\", padding=True)\n",
        "\n",
        "    # Move to the appropriate device\n",
        "    device = torch.device(\"cuda\" if torch.cuda.is_available() else \"cpu\")\n",
        "    cl_model.to(device)\n",
        "    inputs = {k: v.to(device) for k, v in inputs.items()}\n",
        "\n",
        "    # Run inference\n",
        "    with torch.no_grad():\n",
        "        outputs = cl_model(**inputs)\n",
        "\n",
        "    logits_per_image = outputs.logits_per_image\n",
        "    probs = logits_per_image.softmax(dim=1)\n",
        "    ids = torch.argmax(probs, dim=1)\n",
        "\n",
        "    pred_item = list(np.array(captions)[ids.cpu()])\n",
        "    pred_caption = [caption_map.get(item, item) for item in pred_item]\n",
        "    label_caption = [label_names[l] for l in batch[1]]\n",
        "\n",
        "    # Get image and text features\n",
        "    #image_features = outputs.image_embeds\n",
        "    #text_features = outputs.text_embeds\n",
        "\n",
        "    # Compute similarity scores\n",
        "    #similarity = torch.matmul(text_features, image_features.T)\n",
        "\n",
        "    # Get predicted indices (the index of the highest score)\n",
        "    #preds = similarity.argmax(dim=1)\n",
        "\n",
        "    # Update total correct predictions and samples\n",
        "    #total_correct += (preds == ground_truth.numpy()).sum()\n",
        "    total_correct += sum(1 for str1, str2 in zip(pred_caption, label_caption) if str1 == str2) #(pred_caption == label_caption).astype(int).sum()\n",
        "    total_samples += len(label_caption)\n",
        "\n",
        "    print('Accuracy for batch', b, ':', total_correct/total_samples)\n",
        "\n",
        "# Calculate accuracy\n",
        "accuracy = total_correct / total_samples\n",
        "print(f\"\\n\\nOverall Accuracy: {accuracy * 100:.2f}%\")\n"
      ],
      "metadata": {
        "colab": {
          "base_uri": "https://localhost:8080/"
        },
        "id": "dCGnkbvPjZqq",
        "outputId": "c57e8386-f837-4f34-90ab-e17500da2280"
      },
      "execution_count": null,
      "outputs": [
        {
          "output_type": "stream",
          "name": "stdout",
          "text": [
            "Batch 0\n",
            "Accuracy for batch 0 : 0.645\n",
            "Batch 1\n",
            "Accuracy for batch 1 : 0.6525\n",
            "Batch 2\n",
            "Accuracy for batch 2 : 0.6465028355387523\n",
            "\n",
            "\n",
            "Accuracy: 64.65%\n"
          ]
        }
      ]
    },
    {
      "cell_type": "markdown",
      "source": [
        "### BLIP for Visual QA - better for open ended response"
      ],
      "metadata": {
        "id": "HxfKBFdpUWni"
      }
    },
    {
      "cell_type": "code",
      "source": [
        "from transformers import BlipProcessor, BlipForQuestionAnswering\n",
        "\n",
        "processor = BlipProcessor.from_pretrained(\"Salesforce/blip-vqa-base\")\n",
        "model = BlipForQuestionAnswering.from_pretrained(\"Salesforce/blip-vqa-base\", torch_dtype=torch.float16).to(\"cuda\")"
      ],
      "metadata": {
        "colab": {
          "base_uri": "https://localhost:8080/",
          "height": 404,
          "referenced_widgets": [
            "8d7b1e9bf0884c88971083c788979565",
            "24179121a2c842919c16c779c83723f0",
            "4ef4028b491c471dbfd124f9102c38b0",
            "1e8fbeebba0b4247ac7ea22ecddb2141",
            "fa9e9a33c49c479cbae3d67570f3cc75",
            "85ca819584c54882a454f0bb7b6630dc",
            "60d1597a51924a81a33319f6ea1a69ff",
            "1364e06bdb2e4379b165b9ec02ef1ddd",
            "224aa9886f814f9db2e88bd25ffe4a80",
            "08db5d4d23da4e61a5ead80b0e7457bd",
            "e74b85cece0d49f3a42f1b58f1ddbfff",
            "1c2fb7e07d4240c18bcb5d2b8714dd37",
            "9622b5bfba6f4b47ba38c88d61e6ec87",
            "7dd63e91bcdc4744a66969789b450bc2",
            "86303143392c499ca9cea371b91d8398",
            "5ac3eed72477498b873cfb37e7c33bda",
            "076d6a9d3618442c8ee4dc85f2f1592f",
            "a449aeff75004aa98ddb45a5cc891e46",
            "6ec4ad31850b4c2786e1335ec8d78c5b",
            "c924cfcb16b745d9990e33e758d60a02",
            "6024a1ca17bc4aa9a9a9875a4d6ded78",
            "16e194fffd894061a41560c5837c2e85",
            "4f3bb3a7446949e18fe316d382ccccbf",
            "1ab5d55fcd0c475d9964500ea7e6c06c",
            "d989b25dd5d84fb1a216ee13c308bc9c",
            "00e599c942ae42b2904bbdb9fbf68b7b",
            "88b9b0ec53014066b51fd0cec9f89669",
            "890d70ca277745fda2c1c4869872ab86",
            "6b02dfb445e5435885a833a33aa4e771",
            "39c354425dad40ccb73b88f2c39b1872",
            "05a5acf677f74a14b7d3ee10ff44fd7c",
            "fa7df0569b1b4b5eacbe5ee5c32c71cd",
            "6b21d2b96f944b889729e1bcf8f08e3d",
            "2476591c5a2345ec804ac71821fa3d46",
            "90764285a8d444b98d364165ae26dfbf",
            "9808caeaa7cb4855bbb7155bddf9e629",
            "389f587023524e5f905629af08d7a953",
            "1129226251fd4a0bb23c4fc85f0beaa4",
            "d723ea1dd066491e832c9570d4670a65",
            "15725f373e854f0d92a3040a71f54669",
            "ed37cbf1575b4a089552840bbceb176a",
            "6a6e9ae549344a17b8dcabf5fb263add",
            "cd376fac7b5e486caad13ead5ed1b882",
            "16fa351dffad4a0c9c13b4c6b1e66b5b",
            "ccd7074838d74626b3051196424daf57",
            "91dd6273f641455dade5941ef373d651",
            "65052aee8e5649c28b01a35eb534da8f",
            "22d758cca4bf4fb4b2d2314db0c1e41d",
            "f82321c25eef4187b4ac69d8fd9ac83b",
            "a81f59693dde47f9ad2ab17d526f0699",
            "6fbbab653b9746b0bf528034220a96c0",
            "a4fadfee7458410396b311f4bcf7f55c",
            "f0f384bc2d484474bc69d429cc1a03f1",
            "c5d8ce5a7c2748aab497215045bb77f0",
            "2c165fe272374b8aa692da1a053b3e50",
            "4ba8435018d24770a933c256834b56ef",
            "e56d287c5cee422e9024e4ff74de83cf",
            "3fd32bd9b92e4477827d1119a795660b",
            "b54c7ff34f7f4123833561f223a611a6",
            "f79d394eddf047ea90822045020c2fe5",
            "a0616d7f5ce74dfe87963fa5037e8d0a",
            "3482a69b5a2741adbc41063ba60a5cd1",
            "e04edfb2fcec458398e9dbc621d2f2df",
            "2e9e9124b4dd47b0a3eaad395027b3c5",
            "916a42a3db744e73be9e8e2da5070f34",
            "3981f0cf7287457cae4bc8ca86e33a29",
            "8cde779bb0784d79bf4c8d5cd8146442",
            "e5d186a8f0564de3a544154780be7e30",
            "57c15c79f9b0473fa46903a8242a7752",
            "d77d9c53c6cb48a1bdeceabc08abcd84",
            "98e3cc23184c41f7b09283a2f03c2aa2",
            "1db4a869edd642f7b9b9cd8f0c99f8e1",
            "8b0dad7173dd4966b9a3e2b4748e655e",
            "787ecbcd24904a85b05622f3df07361f",
            "b81f780ebba04253bc9944e4d73f6bdc",
            "efeb4adab470447d87d803c6bad878f0",
            "964ade96c41844838d7dc3ac2eb5b467"
          ]
        },
        "id": "OebYeuVSUWEQ",
        "outputId": "a83cc620-88a8-42f1-d095-8959e3f045a8"
      },
      "execution_count": null,
      "outputs": [
        {
          "output_type": "stream",
          "name": "stderr",
          "text": [
            "/usr/local/lib/python3.10/dist-packages/huggingface_hub/file_download.py:1150: FutureWarning: `resume_download` is deprecated and will be removed in version 1.0.0. Downloads always resume when possible. If you want to force a new download, use `force_download=True`.\n",
            "  warnings.warn(\n",
            "/usr/local/lib/python3.10/dist-packages/huggingface_hub/utils/_token.py:89: UserWarning: \n",
            "The secret `HF_TOKEN` does not exist in your Colab secrets.\n",
            "To authenticate with the Hugging Face Hub, create a token in your settings tab (https://huggingface.co/settings/tokens), set it as secret in your Google Colab and restart your session.\n",
            "You will be able to reuse this secret in all of your notebooks.\n",
            "Please note that authentication is recommended but still optional to access public models or datasets.\n",
            "  warnings.warn(\n"
          ]
        },
        {
          "output_type": "display_data",
          "data": {
            "text/plain": [
              "preprocessor_config.json:   0%|          | 0.00/445 [00:00<?, ?B/s]"
            ],
            "application/vnd.jupyter.widget-view+json": {
              "version_major": 2,
              "version_minor": 0,
              "model_id": "8d7b1e9bf0884c88971083c788979565"
            }
          },
          "metadata": {}
        },
        {
          "output_type": "display_data",
          "data": {
            "text/plain": [
              "tokenizer_config.json:   0%|          | 0.00/592 [00:00<?, ?B/s]"
            ],
            "application/vnd.jupyter.widget-view+json": {
              "version_major": 2,
              "version_minor": 0,
              "model_id": "1c2fb7e07d4240c18bcb5d2b8714dd37"
            }
          },
          "metadata": {}
        },
        {
          "output_type": "display_data",
          "data": {
            "text/plain": [
              "vocab.txt:   0%|          | 0.00/232k [00:00<?, ?B/s]"
            ],
            "application/vnd.jupyter.widget-view+json": {
              "version_major": 2,
              "version_minor": 0,
              "model_id": "4f3bb3a7446949e18fe316d382ccccbf"
            }
          },
          "metadata": {}
        },
        {
          "output_type": "display_data",
          "data": {
            "text/plain": [
              "tokenizer.json:   0%|          | 0.00/711k [00:00<?, ?B/s]"
            ],
            "application/vnd.jupyter.widget-view+json": {
              "version_major": 2,
              "version_minor": 0,
              "model_id": "2476591c5a2345ec804ac71821fa3d46"
            }
          },
          "metadata": {}
        },
        {
          "output_type": "display_data",
          "data": {
            "text/plain": [
              "special_tokens_map.json:   0%|          | 0.00/125 [00:00<?, ?B/s]"
            ],
            "application/vnd.jupyter.widget-view+json": {
              "version_major": 2,
              "version_minor": 0,
              "model_id": "ccd7074838d74626b3051196424daf57"
            }
          },
          "metadata": {}
        },
        {
          "output_type": "display_data",
          "data": {
            "text/plain": [
              "config.json:   0%|          | 0.00/4.56k [00:00<?, ?B/s]"
            ],
            "application/vnd.jupyter.widget-view+json": {
              "version_major": 2,
              "version_minor": 0,
              "model_id": "4ba8435018d24770a933c256834b56ef"
            }
          },
          "metadata": {}
        },
        {
          "output_type": "display_data",
          "data": {
            "text/plain": [
              "model.safetensors:   0%|          | 0.00/1.54G [00:00<?, ?B/s]"
            ],
            "application/vnd.jupyter.widget-view+json": {
              "version_major": 2,
              "version_minor": 0,
              "model_id": "8cde779bb0784d79bf4c8d5cd8146442"
            }
          },
          "metadata": {}
        }
      ]
    },
    {
      "cell_type": "code",
      "source": [
        "#question = f\"What item is in the image from the following list of options: {captions}?\"\n",
        "#question = f\"Of these options: {captions}, which description best represents the item in the image?\"\n",
        "#question = \"What type of food packaging item is this?\"\n",
        "question = f\"This item is a: {captions}, which of these items is shown in the image?\"\n",
        "\n",
        "inputs = processor(shuffled_images[2], question, return_tensors=\"pt\").to(\"cuda\", torch.float16)\n",
        "\n",
        "out = model.generate(**inputs, max_new_tokens=100)\n",
        "print(processor.decode(out[0], skip_special_tokens=True))"
      ],
      "metadata": {
        "colab": {
          "base_uri": "https://localhost:8080/"
        },
        "id": "jA8gfU8kUWGZ",
        "outputId": "56d88e8b-7586-4171-bdc7-4d9bd6aefd98"
      },
      "execution_count": null,
      "outputs": [
        {
          "output_type": "stream",
          "name": "stdout",
          "text": [
            "cup\n"
          ]
        }
      ]
    },
    {
      "cell_type": "code",
      "source": [
        "shuffled_images[2]"
      ],
      "metadata": {
        "colab": {
          "base_uri": "https://localhost:8080/",
          "height": 168
        },
        "id": "vK-tgufnUWIt",
        "outputId": "5e07c8d9-7102-4568-c1cc-d213585408b4"
      },
      "execution_count": null,
      "outputs": [
        {
          "output_type": "execute_result",
          "data": {
            "text/plain": [
              "array([[[255, 255, 255],\n",
              "        [255, 255, 255],\n",
              "        [255, 255, 255],\n",
              "        ...,\n",
              "        [255, 255, 255],\n",
              "        [255, 255, 255],\n",
              "        [255, 255, 255]],\n",
              "\n",
              "       [[255, 255, 255],\n",
              "        [255, 255, 255],\n",
              "        [255, 255, 255],\n",
              "        ...,\n",
              "        [255, 255, 255],\n",
              "        [255, 255, 255],\n",
              "        [255, 255, 255]],\n",
              "\n",
              "       [[255, 255, 255],\n",
              "        [255, 255, 255],\n",
              "        [255, 255, 255],\n",
              "        ...,\n",
              "        [255, 255, 255],\n",
              "        [255, 255, 255],\n",
              "        [255, 255, 255]],\n",
              "\n",
              "       ...,\n",
              "\n",
              "       [[255, 255, 255],\n",
              "        [255, 255, 255],\n",
              "        [255, 255, 255],\n",
              "        ...,\n",
              "        [255, 255, 255],\n",
              "        [255, 255, 255],\n",
              "        [255, 255, 255]],\n",
              "\n",
              "       [[255, 255, 255],\n",
              "        [255, 255, 255],\n",
              "        [255, 255, 255],\n",
              "        ...,\n",
              "        [255, 255, 255],\n",
              "        [255, 255, 255],\n",
              "        [255, 255, 255]],\n",
              "\n",
              "       [[255, 255, 255],\n",
              "        [255, 255, 255],\n",
              "        [255, 255, 255],\n",
              "        ...,\n",
              "        [255, 255, 255],\n",
              "        [255, 255, 255],\n",
              "        [255, 255, 255]]], dtype=uint8)"
            ],
            "text/html": [
              "<style>\n",
              "      .ndarray_repr .ndarray_raw_data {\n",
              "        display: none;\n",
              "      }\n",
              "      .ndarray_repr.show_array .ndarray_raw_data {\n",
              "        display: block;\n",
              "      }\n",
              "      .ndarray_repr.show_array .ndarray_image_preview {\n",
              "        display: none;\n",
              "      }\n",
              "      </style>\n",
              "      <div id=\"id-f14d22de-1e5d-4b09-8c8d-6f08cf233e6c\" class=\"ndarray_repr\"><pre>ndarray (128, 128, 3) <button style=\"padding: 0 2px;\">show data</button></pre><img src=\"data:image/png;base64,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\" class=\"ndarray_image_preview\" /><pre class=\"ndarray_raw_data\">array([[[255, 255, 255],\n",
              "        [255, 255, 255],\n",
              "        [255, 255, 255],\n",
              "        ...,\n",
              "        [255, 255, 255],\n",
              "        [255, 255, 255],\n",
              "        [255, 255, 255]],\n",
              "\n",
              "       [[255, 255, 255],\n",
              "        [255, 255, 255],\n",
              "        [255, 255, 255],\n",
              "        ...,\n",
              "        [255, 255, 255],\n",
              "        [255, 255, 255],\n",
              "        [255, 255, 255]],\n",
              "\n",
              "       [[255, 255, 255],\n",
              "        [255, 255, 255],\n",
              "        [255, 255, 255],\n",
              "        ...,\n",
              "        [255, 255, 255],\n",
              "        [255, 255, 255],\n",
              "        [255, 255, 255]],\n",
              "\n",
              "       ...,\n",
              "\n",
              "       [[255, 255, 255],\n",
              "        [255, 255, 255],\n",
              "        [255, 255, 255],\n",
              "        ...,\n",
              "        [255, 255, 255],\n",
              "        [255, 255, 255],\n",
              "        [255, 255, 255]],\n",
              "\n",
              "       [[255, 255, 255],\n",
              "        [255, 255, 255],\n",
              "        [255, 255, 255],\n",
              "        ...,\n",
              "        [255, 255, 255],\n",
              "        [255, 255, 255],\n",
              "        [255, 255, 255]],\n",
              "\n",
              "       [[255, 255, 255],\n",
              "        [255, 255, 255],\n",
              "        [255, 255, 255],\n",
              "        ...,\n",
              "        [255, 255, 255],\n",
              "        [255, 255, 255],\n",
              "        [255, 255, 255]]], dtype=uint8)</pre></div><script>\n",
              "      (() => {\n",
              "      const titles = ['show data', 'hide data'];\n",
              "      let index = 0\n",
              "      document.querySelector('#id-f14d22de-1e5d-4b09-8c8d-6f08cf233e6c button').onclick = (e) => {\n",
              "        document.querySelector('#id-f14d22de-1e5d-4b09-8c8d-6f08cf233e6c').classList.toggle('show_array');\n",
              "        index = (++index) % 2;\n",
              "        document.querySelector('#id-f14d22de-1e5d-4b09-8c8d-6f08cf233e6c button').textContent = titles[index];\n",
              "        e.preventDefault();\n",
              "        e.stopPropagation();\n",
              "      }\n",
              "      })();\n",
              "    </script>"
            ]
          },
          "metadata": {},
          "execution_count": 234
        }
      ]
    },
    {
      "cell_type": "code",
      "source": [
        "test_set = np.array([i for i in shuffled_images[:100]])\n",
        "print(len(test_set))"
      ],
      "metadata": {
        "colab": {
          "base_uri": "https://localhost:8080/"
        },
        "id": "kZOway8dUWLF",
        "outputId": "0edcf242-ad81-4062-8936-c3a6e3630b82"
      },
      "execution_count": null,
      "outputs": [
        {
          "output_type": "stream",
          "name": "stdout",
          "text": [
            "100\n"
          ]
        }
      ]
    },
    {
      "cell_type": "code",
      "source": [
        "#question = f\"This item is a: {captions}, which of these items is shown in the image?\"\n",
        "question = f\"Describe the item in this image\"\n",
        "\n",
        "inputs = processor(test_set, question, return_tensors=\"pt\").to(\"cuda\", torch.float16)\n",
        "output = model.generate(**inputs, max_new_tokens=100)"
      ],
      "metadata": {
        "id": "OHJmbj73UWOD"
      },
      "execution_count": null,
      "outputs": []
    },
    {
      "cell_type": "code",
      "source": [
        "pred = [processor.decode(i, skip_special_tokens=True) for i in output]\n",
        "#print(pred)"
      ],
      "metadata": {
        "id": "VkjnWgw5gJE6"
      },
      "execution_count": null,
      "outputs": []
    },
    {
      "cell_type": "markdown",
      "source": [
        "#### Looking at different scoring methods for non-exact model output"
      ],
      "metadata": {
        "id": "EuuSQN4zmlxv"
      }
    },
    {
      "cell_type": "code",
      "source": [
        "import nltk\n",
        "from nltk.translate import meteor_score\n",
        "nltk.download('wordnet')\n",
        "nltk.download('punkt')"
      ],
      "metadata": {
        "colab": {
          "base_uri": "https://localhost:8080/"
        },
        "id": "dAmR2-hthJvX",
        "outputId": "55b32ad8-d823-4fba-d41c-bac4de7fc3a0"
      },
      "execution_count": null,
      "outputs": [
        {
          "output_type": "stream",
          "name": "stderr",
          "text": [
            "[nltk_data] Downloading package wordnet to /root/nltk_data...\n",
            "[nltk_data] Downloading package punkt to /root/nltk_data...\n",
            "[nltk_data]   Unzipping tokenizers/punkt.zip.\n"
          ]
        },
        {
          "output_type": "execute_result",
          "data": {
            "text/plain": [
              "True"
            ]
          },
          "metadata": {},
          "execution_count": 258
        }
      ]
    },
    {
      "cell_type": "code",
      "source": [
        "# reformat output\n",
        "ref = [str(i[0]) for i in shuffled_labels[:100]]\n",
        "\n",
        "score = meteor_score.meteor_score([ref], pred)\n",
        "print(f'METEOR score: {score}')"
      ],
      "metadata": {
        "colab": {
          "base_uri": "https://localhost:8080/"
        },
        "id": "pUFq28DkhJMF",
        "outputId": "f3570506-850e-48be-bbb5-b372bd1b97a2"
      },
      "execution_count": null,
      "outputs": [
        {
          "output_type": "stream",
          "name": "stdout",
          "text": [
            "METEOR score: 0.0\n"
          ]
        }
      ]
    },
    {
      "cell_type": "code",
      "source": [
        "import nltk\n",
        "from nltk.translate.bleu_score import sentence_bleu, corpus_bleu\n",
        "nltk.download('punkt')"
      ],
      "metadata": {
        "colab": {
          "base_uri": "https://localhost:8080/"
        },
        "id": "BGuV_aFyhJSp",
        "outputId": "3f1a7a73-7851-4860-cba6-c74c7e322821"
      },
      "execution_count": null,
      "outputs": [
        {
          "output_type": "stream",
          "name": "stderr",
          "text": [
            "[nltk_data] Downloading package punkt to /root/nltk_data...\n",
            "[nltk_data]   Package punkt is already up-to-date!\n"
          ]
        },
        {
          "output_type": "execute_result",
          "data": {
            "text/plain": [
              "True"
            ]
          },
          "metadata": {},
          "execution_count": 278
        }
      ]
    },
    {
      "cell_type": "code",
      "source": [
        "# reformat output\n",
        "refs = [[str(i[0])] for i in shuffled_labels[:100]]\n",
        "\n",
        "bleu_score_corpus = corpus_bleu(refs, pred)\n",
        "print(f'Corpus BLEU score: {bleu_score_corpus}')"
      ],
      "metadata": {
        "colab": {
          "base_uri": "https://localhost:8080/"
        },
        "id": "fgEmENvljqdc",
        "outputId": "f814c613-a6e9-409e-9163-902b4924ef25"
      },
      "execution_count": null,
      "outputs": [
        {
          "output_type": "stream",
          "name": "stdout",
          "text": [
            "Corpus BLEU score: 0.22888447430428757\n",
            "Weighted BLEU score: 0\n"
          ]
        }
      ]
    },
    {
      "cell_type": "code",
      "source": [
        "import locale\n",
        "locale.getpreferredencoding = lambda: \"UTF-8\"\n",
        "!pip install thefuzz"
      ],
      "metadata": {
        "colab": {
          "base_uri": "https://localhost:8080/"
        },
        "id": "5sv1iom7jqik",
        "outputId": "7f656e82-c498-4e4f-b15f-9537aa5d7cf9"
      },
      "execution_count": null,
      "outputs": [
        {
          "output_type": "stream",
          "name": "stdout",
          "text": [
            "Requirement already satisfied: thefuzz in /usr/local/lib/python3.10/dist-packages (0.22.1)\n",
            "Requirement already satisfied: rapidfuzz<4.0.0,>=3.0.0 in /usr/local/lib/python3.10/dist-packages (from thefuzz) (3.10.0)\n"
          ]
        }
      ]
    },
    {
      "cell_type": "code",
      "source": [
        "from thefuzz import fuzz\n",
        "ref = [str(i[0]) for i in shuffled_labels[:100]]\n",
        "fuzz.ratio(ref, pred)"
      ],
      "metadata": {
        "colab": {
          "base_uri": "https://localhost:8080/"
        },
        "id": "vFGkM63UleWC",
        "outputId": "3b873088-797c-44ea-fb14-ed64b8cbe4ec"
      },
      "execution_count": null,
      "outputs": [
        {
          "output_type": "execute_result",
          "data": {
            "text/plain": [
              "0"
            ]
          },
          "metadata": {},
          "execution_count": 23
        }
      ]
    },
    {
      "cell_type": "markdown",
      "source": [
        "### LLaVa"
      ],
      "metadata": {
        "id": "mf0M_6x0NG30"
      }
    },
    {
      "cell_type": "markdown",
      "source": [
        "From what I can tell, this model is not good for image classification."
      ],
      "metadata": {
        "id": "EJ3sCdmEYGat"
      }
    },
    {
      "cell_type": "code",
      "source": [
        "model_id = \"llava-hf/llava-1.5-7b-hf\"\n",
        "\n",
        "processor = AutoProcessor.from_pretrained(model_id)\n",
        "\n",
        "model = LlavaForConditionalGeneration.from_pretrained(\n",
        "    model_id,\n",
        "    torch_dtype=torch.float16,\n",
        "    low_cpu_mem_usage=True,\n",
        "    load_in_4bit=True\n",
        ")"
      ],
      "metadata": {
        "colab": {
          "base_uri": "https://localhost:8080/",
          "height": 248,
          "referenced_widgets": [
            "f67dc9abfb6740b7b9e6f2cee3a89c06",
            "141ba7e445954788a6f63e625c5f7663",
            "b56ebe0f0326443ead2f6ab5c6afe240",
            "ffc73a995d7f478c854cee1307244adc",
            "3b08a0c2b03742649eb1251c006d1feb",
            "55273eee3ccc46e2b22d59d030811fb8",
            "8b3f35b83efd4dd2bda8c05969d0d429",
            "1cfa6aa4ffff497f8b5395f2bf484a2e",
            "4e60cf3ff1164e56bd377468deb0dd81",
            "ad59f836248c452b8e87ba3971916a61",
            "4aa1d7b030774567ac88b0883b4a198b"
          ]
        },
        "id": "S24IknMPNGaG",
        "outputId": "8c4c111a-654b-47c9-a3ec-0ca5f94ba0a2"
      },
      "execution_count": 13,
      "outputs": [
        {
          "output_type": "stream",
          "name": "stderr",
          "text": [
            "/usr/local/lib/python3.10/dist-packages/huggingface_hub/file_download.py:1150: FutureWarning: `resume_download` is deprecated and will be removed in version 1.0.0. Downloads always resume when possible. If you want to force a new download, use `force_download=True`.\n",
            "  warnings.warn(\n",
            "/usr/local/lib/python3.10/dist-packages/huggingface_hub/utils/_token.py:89: UserWarning: \n",
            "The secret `HF_TOKEN` does not exist in your Colab secrets.\n",
            "To authenticate with the Hugging Face Hub, create a token in your settings tab (https://huggingface.co/settings/tokens), set it as secret in your Google Colab and restart your session.\n",
            "You will be able to reuse this secret in all of your notebooks.\n",
            "Please note that authentication is recommended but still optional to access public models or datasets.\n",
            "  warnings.warn(\n"
          ]
        },
        {
          "output_type": "display_data",
          "data": {
            "text/plain": [
              "Loading checkpoint shards:   0%|          | 0/3 [00:00<?, ?it/s]"
            ],
            "application/vnd.jupyter.widget-view+json": {
              "version_major": 2,
              "version_minor": 0,
              "model_id": "f67dc9abfb6740b7b9e6f2cee3a89c06"
            }
          },
          "metadata": {}
        },
        {
          "output_type": "stream",
          "name": "stderr",
          "text": [
            "/usr/local/lib/python3.10/dist-packages/huggingface_hub/file_download.py:1150: FutureWarning: `resume_download` is deprecated and will be removed in version 1.0.0. Downloads always resume when possible. If you want to force a new download, use `force_download=True`.\n",
            "  warnings.warn(\n"
          ]
        }
      ]
    },
    {
      "cell_type": "code",
      "source": [
        "# item-specific prompt\n",
        "#item_prompt = f\"USER: <image>\\n What item is shown in this image, here is a list of options you can choose from: {captions} \\nASSISTANT:\"\n",
        "#item_prompt = f\"USER: <image>\\n Select the best caption for this image from this list: {captions} respond in 2 words \\nASSISTANT:\"\n",
        "#item_prompt = f\"USER: <image>\\n Please output the material the item in the photo is made of and the type of object shown in the image from this list of options: {captions} \\nASSISTANT:\"\n",
        "\n",
        "item_prompt = f\"USER: <image>\\n Tell me which of the following items is most likely to be the image. Select only 1 item from the following list: Aluminum Can, Box, Glass bottle, Paper cup, Plastic bottle, Soda can. Output only the item name.\\nASSISTANT:\""
      ],
      "metadata": {
        "id": "qHuWwBzeNGcu"
      },
      "execution_count": 35,
      "outputs": []
    },
    {
      "cell_type": "code",
      "source": [
        "total_correct = 0\n",
        "total_samples = 0\n",
        "output_list = []\n",
        "label_list = []\n",
        "\n",
        "# Iterate through batches\n",
        "for b, batch in enumerate(my_dataloader):\n",
        "    output_list = []\n",
        "    label_list = []\n",
        "    images, labels = batch\n",
        "    prompt = [item_prompt]*len(images)\n",
        "    #for i in range(len(images)):\n",
        "    #  print(labels[i])\n",
        "    #  plt.imshow(images[i].numpy().astype(np.uint8))\n",
        "    #  plt.show()\n",
        "\n",
        "    # Process the inputs\n",
        "    inputs = processor(text=prompt,\n",
        "                       images=images,\n",
        "                       return_tensors='pt').to(0, torch.float16)\n",
        "\n",
        "    # Run inference\n",
        "    with torch.no_grad():\n",
        "        outputs = model.generate(**inputs, max_new_tokens=100, do_sample=False)\n",
        "\n",
        "    decoded_output = processor.batch_decode(outputs, skip_special_tokens=True)\n",
        "    #[processor.decode(out, skip_special_tokens=True) for out in outputs]\n",
        "    #print(decoded_output)\n",
        "\n",
        "    output_list.append(decoded_output)\n",
        "    output_list = sum(output_list, []) # flatten list\n",
        "\n",
        "    label_caption = [label_names[l] for l in labels] # getting text version of label\n",
        "    label_list.append(label_caption)\n",
        "    label_list = sum(label_list, []) # flatten list\n",
        "\n",
        "    # Specify the filename\n",
        "    filename = f'output_{b}_batch.csv'\n",
        "\n",
        "    # Write to the CSV file\n",
        "    with open(filename, mode='w', newline='') as file:\n",
        "        writer = csv.writer(file)\n",
        "        writer.writerow(['Pred', 'Label'])\n",
        "        for item1, item2 in zip(output_list, label_list):\n",
        "          writer.writerow([item1, item2])\n",
        "\n",
        "    shutil.copy(filename, outputpath)\n",
        "\n",
        "    print(f'Data exported to {filename}') # should get to 176 batches with batch length = 3 (30 min)"
      ],
      "metadata": {
        "colab": {
          "base_uri": "https://localhost:8080/"
        },
        "id": "_SPvTGuMP6Lw",
        "outputId": "91f7dac2-6fc5-4445-ec5d-1480b51115e7"
      },
      "execution_count": 38,
      "outputs": [
        {
          "output_type": "stream",
          "name": "stdout",
          "text": [
            "Data exported to output_0_batch.csv\n",
            "Data exported to output_1_batch.csv\n",
            "Data exported to output_2_batch.csv\n",
            "Data exported to output_3_batch.csv\n",
            "Data exported to output_4_batch.csv\n",
            "Data exported to output_5_batch.csv\n",
            "Data exported to output_6_batch.csv\n",
            "Data exported to output_7_batch.csv\n",
            "Data exported to output_8_batch.csv\n",
            "Data exported to output_9_batch.csv\n",
            "Data exported to output_10_batch.csv\n",
            "Data exported to output_11_batch.csv\n",
            "Data exported to output_12_batch.csv\n",
            "Data exported to output_13_batch.csv\n",
            "Data exported to output_14_batch.csv\n",
            "Data exported to output_15_batch.csv\n",
            "Data exported to output_16_batch.csv\n",
            "Data exported to output_17_batch.csv\n",
            "Data exported to output_18_batch.csv\n",
            "Data exported to output_19_batch.csv\n",
            "Data exported to output_20_batch.csv\n",
            "Data exported to output_21_batch.csv\n",
            "Data exported to output_22_batch.csv\n",
            "Data exported to output_23_batch.csv\n",
            "Data exported to output_24_batch.csv\n",
            "Data exported to output_25_batch.csv\n",
            "Data exported to output_26_batch.csv\n",
            "Data exported to output_27_batch.csv\n",
            "Data exported to output_28_batch.csv\n",
            "Data exported to output_29_batch.csv\n",
            "Data exported to output_30_batch.csv\n",
            "Data exported to output_31_batch.csv\n",
            "Data exported to output_32_batch.csv\n",
            "Data exported to output_33_batch.csv\n",
            "Data exported to output_34_batch.csv\n",
            "Data exported to output_35_batch.csv\n",
            "Data exported to output_36_batch.csv\n",
            "Data exported to output_37_batch.csv\n",
            "Data exported to output_38_batch.csv\n",
            "Data exported to output_39_batch.csv\n",
            "Data exported to output_40_batch.csv\n",
            "Data exported to output_41_batch.csv\n",
            "Data exported to output_42_batch.csv\n",
            "Data exported to output_43_batch.csv\n",
            "Data exported to output_44_batch.csv\n",
            "Data exported to output_45_batch.csv\n",
            "Data exported to output_46_batch.csv\n",
            "Data exported to output_47_batch.csv\n",
            "Data exported to output_48_batch.csv\n",
            "Data exported to output_49_batch.csv\n",
            "Data exported to output_50_batch.csv\n",
            "Data exported to output_51_batch.csv\n",
            "Data exported to output_52_batch.csv\n",
            "Data exported to output_53_batch.csv\n",
            "Data exported to output_54_batch.csv\n",
            "Data exported to output_55_batch.csv\n",
            "Data exported to output_56_batch.csv\n",
            "Data exported to output_57_batch.csv\n",
            "Data exported to output_58_batch.csv\n",
            "Data exported to output_59_batch.csv\n",
            "Data exported to output_60_batch.csv\n",
            "Data exported to output_61_batch.csv\n",
            "Data exported to output_62_batch.csv\n",
            "Data exported to output_63_batch.csv\n",
            "Data exported to output_64_batch.csv\n",
            "Data exported to output_65_batch.csv\n",
            "Data exported to output_66_batch.csv\n",
            "Data exported to output_67_batch.csv\n",
            "Data exported to output_68_batch.csv\n",
            "Data exported to output_69_batch.csv\n",
            "Data exported to output_70_batch.csv\n",
            "Data exported to output_71_batch.csv\n",
            "Data exported to output_72_batch.csv\n",
            "Data exported to output_73_batch.csv\n",
            "Data exported to output_74_batch.csv\n",
            "Data exported to output_75_batch.csv\n",
            "Data exported to output_76_batch.csv\n",
            "Data exported to output_77_batch.csv\n",
            "Data exported to output_78_batch.csv\n",
            "Data exported to output_79_batch.csv\n",
            "Data exported to output_80_batch.csv\n",
            "Data exported to output_81_batch.csv\n",
            "Data exported to output_82_batch.csv\n",
            "Data exported to output_83_batch.csv\n",
            "Data exported to output_84_batch.csv\n",
            "Data exported to output_85_batch.csv\n",
            "Data exported to output_86_batch.csv\n",
            "Data exported to output_87_batch.csv\n",
            "Data exported to output_88_batch.csv\n",
            "Data exported to output_89_batch.csv\n",
            "Data exported to output_90_batch.csv\n",
            "Data exported to output_91_batch.csv\n",
            "Data exported to output_92_batch.csv\n",
            "Data exported to output_93_batch.csv\n",
            "Data exported to output_94_batch.csv\n",
            "Data exported to output_95_batch.csv\n",
            "Data exported to output_96_batch.csv\n",
            "Data exported to output_97_batch.csv\n",
            "Data exported to output_98_batch.csv\n",
            "Data exported to output_99_batch.csv\n",
            "Data exported to output_100_batch.csv\n",
            "Data exported to output_101_batch.csv\n",
            "Data exported to output_102_batch.csv\n",
            "Data exported to output_103_batch.csv\n",
            "Data exported to output_104_batch.csv\n",
            "Data exported to output_105_batch.csv\n",
            "Data exported to output_106_batch.csv\n",
            "Data exported to output_107_batch.csv\n",
            "Data exported to output_108_batch.csv\n",
            "Data exported to output_109_batch.csv\n",
            "Data exported to output_110_batch.csv\n",
            "Data exported to output_111_batch.csv\n",
            "Data exported to output_112_batch.csv\n",
            "Data exported to output_113_batch.csv\n",
            "Data exported to output_114_batch.csv\n",
            "Data exported to output_115_batch.csv\n",
            "Data exported to output_116_batch.csv\n",
            "Data exported to output_117_batch.csv\n",
            "Data exported to output_118_batch.csv\n",
            "Data exported to output_119_batch.csv\n",
            "Data exported to output_120_batch.csv\n",
            "Data exported to output_121_batch.csv\n",
            "Data exported to output_122_batch.csv\n",
            "Data exported to output_123_batch.csv\n",
            "Data exported to output_124_batch.csv\n",
            "Data exported to output_125_batch.csv\n",
            "Data exported to output_126_batch.csv\n",
            "Data exported to output_127_batch.csv\n",
            "Data exported to output_128_batch.csv\n",
            "Data exported to output_129_batch.csv\n",
            "Data exported to output_130_batch.csv\n",
            "Data exported to output_131_batch.csv\n",
            "Data exported to output_132_batch.csv\n",
            "Data exported to output_133_batch.csv\n",
            "Data exported to output_134_batch.csv\n",
            "Data exported to output_135_batch.csv\n",
            "Data exported to output_136_batch.csv\n",
            "Data exported to output_137_batch.csv\n",
            "Data exported to output_138_batch.csv\n",
            "Data exported to output_139_batch.csv\n",
            "Data exported to output_140_batch.csv\n",
            "Data exported to output_141_batch.csv\n",
            "Data exported to output_142_batch.csv\n",
            "Data exported to output_143_batch.csv\n",
            "Data exported to output_144_batch.csv\n",
            "Data exported to output_145_batch.csv\n",
            "Data exported to output_146_batch.csv\n",
            "Data exported to output_147_batch.csv\n",
            "Data exported to output_148_batch.csv\n",
            "Data exported to output_149_batch.csv\n",
            "Data exported to output_150_batch.csv\n",
            "Data exported to output_151_batch.csv\n",
            "Data exported to output_152_batch.csv\n",
            "Data exported to output_153_batch.csv\n",
            "Data exported to output_154_batch.csv\n",
            "Data exported to output_155_batch.csv\n",
            "Data exported to output_156_batch.csv\n",
            "Data exported to output_157_batch.csv\n",
            "Data exported to output_158_batch.csv\n",
            "Data exported to output_159_batch.csv\n",
            "Data exported to output_160_batch.csv\n",
            "Data exported to output_161_batch.csv\n",
            "Data exported to output_162_batch.csv\n",
            "Data exported to output_163_batch.csv\n",
            "Data exported to output_164_batch.csv\n",
            "Data exported to output_165_batch.csv\n",
            "Data exported to output_166_batch.csv\n",
            "Data exported to output_167_batch.csv\n",
            "Data exported to output_168_batch.csv\n",
            "Data exported to output_169_batch.csv\n",
            "Data exported to output_170_batch.csv\n",
            "Data exported to output_171_batch.csv\n",
            "Data exported to output_172_batch.csv\n",
            "Data exported to output_173_batch.csv\n",
            "Data exported to output_174_batch.csv\n",
            "Data exported to output_175_batch.csv\n",
            "Data exported to output_176_batch.csv\n"
          ]
        }
      ]
    },
    {
      "cell_type": "code",
      "source": [
        "# grab and concat output\n",
        "df_concat = pd.concat([pd.read_csv(f) for f in os.listdir(outputpath)])\n",
        "\n",
        "# Function to extract \"ASSISTANT\" responses\n",
        "def extract_assistant_response(row):\n",
        "    response = row['Pred']\n",
        "    if \"ASSISTANT:\" in response:\n",
        "        # Split on \"ASSISTANT:\" and take the second part, stripping whitespace\n",
        "        assist = response.find(\"ASSISTANT:\")\n",
        "        assistant_response = response[assist + 11:].lower()\n",
        "        if assistant_response == 'box': # replace box with boxes for alignment with labels\n",
        "          assistant_response = 'boxes'\n",
        "        return assistant_response\n",
        "    return None\n",
        "\n",
        "# Apply the function and create a new column\n",
        "df_concat['Prediction'] = df_concat.apply(extract_assistant_response, axis=1)\n",
        "\n",
        "df = df_concat[['Prediction', 'Label']].reset_index(drop=True)\n",
        "df['Label'] = df['Label'].str.replace('_', ' ', regex=False)\n",
        "\n",
        "# Display the resulting DataFrame\n",
        "df.head()"
      ],
      "metadata": {
        "colab": {
          "base_uri": "https://localhost:8080/",
          "height": 206
        },
        "id": "EYOqJjEXwgqL",
        "outputId": "ce4a7092-3e94-4034-81a8-c2ebd6b47375"
      },
      "execution_count": 58,
      "outputs": [
        {
          "output_type": "execute_result",
          "data": {
            "text/plain": [
              "     Prediction           Label\n",
              "0  aluminum can    glass bottle\n",
              "1  glass bottle  plastic bottle\n",
              "2  aluminum can        soda can\n",
              "3  aluminum can        soda can\n",
              "4  aluminum can    glass bottle"
            ],
            "text/html": [
              "\n",
              "  <div id=\"df-a9ed2f4a-8b17-4a0f-b1a0-9c21281e500e\" class=\"colab-df-container\">\n",
              "    <div>\n",
              "<style scoped>\n",
              "    .dataframe tbody tr th:only-of-type {\n",
              "        vertical-align: middle;\n",
              "    }\n",
              "\n",
              "    .dataframe tbody tr th {\n",
              "        vertical-align: top;\n",
              "    }\n",
              "\n",
              "    .dataframe thead th {\n",
              "        text-align: right;\n",
              "    }\n",
              "</style>\n",
              "<table border=\"1\" class=\"dataframe\">\n",
              "  <thead>\n",
              "    <tr style=\"text-align: right;\">\n",
              "      <th></th>\n",
              "      <th>Prediction</th>\n",
              "      <th>Label</th>\n",
              "    </tr>\n",
              "  </thead>\n",
              "  <tbody>\n",
              "    <tr>\n",
              "      <th>0</th>\n",
              "      <td>aluminum can</td>\n",
              "      <td>glass bottle</td>\n",
              "    </tr>\n",
              "    <tr>\n",
              "      <th>1</th>\n",
              "      <td>glass bottle</td>\n",
              "      <td>plastic bottle</td>\n",
              "    </tr>\n",
              "    <tr>\n",
              "      <th>2</th>\n",
              "      <td>aluminum can</td>\n",
              "      <td>soda can</td>\n",
              "    </tr>\n",
              "    <tr>\n",
              "      <th>3</th>\n",
              "      <td>aluminum can</td>\n",
              "      <td>soda can</td>\n",
              "    </tr>\n",
              "    <tr>\n",
              "      <th>4</th>\n",
              "      <td>aluminum can</td>\n",
              "      <td>glass bottle</td>\n",
              "    </tr>\n",
              "  </tbody>\n",
              "</table>\n",
              "</div>\n",
              "    <div class=\"colab-df-buttons\">\n",
              "\n",
              "  <div class=\"colab-df-container\">\n",
              "    <button class=\"colab-df-convert\" onclick=\"convertToInteractive('df-a9ed2f4a-8b17-4a0f-b1a0-9c21281e500e')\"\n",
              "            title=\"Convert this dataframe to an interactive table.\"\n",
              "            style=\"display:none;\">\n",
              "\n",
              "  <svg xmlns=\"http://www.w3.org/2000/svg\" height=\"24px\" viewBox=\"0 -960 960 960\">\n",
              "    <path d=\"M120-120v-720h720v720H120Zm60-500h600v-160H180v160Zm220 220h160v-160H400v160Zm0 220h160v-160H400v160ZM180-400h160v-160H180v160Zm440 0h160v-160H620v160ZM180-180h160v-160H180v160Zm440 0h160v-160H620v160Z\"/>\n",
              "  </svg>\n",
              "    </button>\n",
              "\n",
              "  <style>\n",
              "    .colab-df-container {\n",
              "      display:flex;\n",
              "      gap: 12px;\n",
              "    }\n",
              "\n",
              "    .colab-df-convert {\n",
              "      background-color: #E8F0FE;\n",
              "      border: none;\n",
              "      border-radius: 50%;\n",
              "      cursor: pointer;\n",
              "      display: none;\n",
              "      fill: #1967D2;\n",
              "      height: 32px;\n",
              "      padding: 0 0 0 0;\n",
              "      width: 32px;\n",
              "    }\n",
              "\n",
              "    .colab-df-convert:hover {\n",
              "      background-color: #E2EBFA;\n",
              "      box-shadow: 0px 1px 2px rgba(60, 64, 67, 0.3), 0px 1px 3px 1px rgba(60, 64, 67, 0.15);\n",
              "      fill: #174EA6;\n",
              "    }\n",
              "\n",
              "    .colab-df-buttons div {\n",
              "      margin-bottom: 4px;\n",
              "    }\n",
              "\n",
              "    [theme=dark] .colab-df-convert {\n",
              "      background-color: #3B4455;\n",
              "      fill: #D2E3FC;\n",
              "    }\n",
              "\n",
              "    [theme=dark] .colab-df-convert:hover {\n",
              "      background-color: #434B5C;\n",
              "      box-shadow: 0px 1px 3px 1px rgba(0, 0, 0, 0.15);\n",
              "      filter: drop-shadow(0px 1px 2px rgba(0, 0, 0, 0.3));\n",
              "      fill: #FFFFFF;\n",
              "    }\n",
              "  </style>\n",
              "\n",
              "    <script>\n",
              "      const buttonEl =\n",
              "        document.querySelector('#df-a9ed2f4a-8b17-4a0f-b1a0-9c21281e500e button.colab-df-convert');\n",
              "      buttonEl.style.display =\n",
              "        google.colab.kernel.accessAllowed ? 'block' : 'none';\n",
              "\n",
              "      async function convertToInteractive(key) {\n",
              "        const element = document.querySelector('#df-a9ed2f4a-8b17-4a0f-b1a0-9c21281e500e');\n",
              "        const dataTable =\n",
              "          await google.colab.kernel.invokeFunction('convertToInteractive',\n",
              "                                                    [key], {});\n",
              "        if (!dataTable) return;\n",
              "\n",
              "        const docLinkHtml = 'Like what you see? Visit the ' +\n",
              "          '<a target=\"_blank\" href=https://colab.research.google.com/notebooks/data_table.ipynb>data table notebook</a>'\n",
              "          + ' to learn more about interactive tables.';\n",
              "        element.innerHTML = '';\n",
              "        dataTable['output_type'] = 'display_data';\n",
              "        await google.colab.output.renderOutput(dataTable, element);\n",
              "        const docLink = document.createElement('div');\n",
              "        docLink.innerHTML = docLinkHtml;\n",
              "        element.appendChild(docLink);\n",
              "      }\n",
              "    </script>\n",
              "  </div>\n",
              "\n",
              "\n",
              "<div id=\"df-38e81f6c-b419-4c16-87fe-eb774bdb69cb\">\n",
              "  <button class=\"colab-df-quickchart\" onclick=\"quickchart('df-38e81f6c-b419-4c16-87fe-eb774bdb69cb')\"\n",
              "            title=\"Suggest charts\"\n",
              "            style=\"display:none;\">\n",
              "\n",
              "<svg xmlns=\"http://www.w3.org/2000/svg\" height=\"24px\"viewBox=\"0 0 24 24\"\n",
              "     width=\"24px\">\n",
              "    <g>\n",
              "        <path d=\"M19 3H5c-1.1 0-2 .9-2 2v14c0 1.1.9 2 2 2h14c1.1 0 2-.9 2-2V5c0-1.1-.9-2-2-2zM9 17H7v-7h2v7zm4 0h-2V7h2v10zm4 0h-2v-4h2v4z\"/>\n",
              "    </g>\n",
              "</svg>\n",
              "  </button>\n",
              "\n",
              "<style>\n",
              "  .colab-df-quickchart {\n",
              "      --bg-color: #E8F0FE;\n",
              "      --fill-color: #1967D2;\n",
              "      --hover-bg-color: #E2EBFA;\n",
              "      --hover-fill-color: #174EA6;\n",
              "      --disabled-fill-color: #AAA;\n",
              "      --disabled-bg-color: #DDD;\n",
              "  }\n",
              "\n",
              "  [theme=dark] .colab-df-quickchart {\n",
              "      --bg-color: #3B4455;\n",
              "      --fill-color: #D2E3FC;\n",
              "      --hover-bg-color: #434B5C;\n",
              "      --hover-fill-color: #FFFFFF;\n",
              "      --disabled-bg-color: #3B4455;\n",
              "      --disabled-fill-color: #666;\n",
              "  }\n",
              "\n",
              "  .colab-df-quickchart {\n",
              "    background-color: var(--bg-color);\n",
              "    border: none;\n",
              "    border-radius: 50%;\n",
              "    cursor: pointer;\n",
              "    display: none;\n",
              "    fill: var(--fill-color);\n",
              "    height: 32px;\n",
              "    padding: 0;\n",
              "    width: 32px;\n",
              "  }\n",
              "\n",
              "  .colab-df-quickchart:hover {\n",
              "    background-color: var(--hover-bg-color);\n",
              "    box-shadow: 0 1px 2px rgba(60, 64, 67, 0.3), 0 1px 3px 1px rgba(60, 64, 67, 0.15);\n",
              "    fill: var(--button-hover-fill-color);\n",
              "  }\n",
              "\n",
              "  .colab-df-quickchart-complete:disabled,\n",
              "  .colab-df-quickchart-complete:disabled:hover {\n",
              "    background-color: var(--disabled-bg-color);\n",
              "    fill: var(--disabled-fill-color);\n",
              "    box-shadow: none;\n",
              "  }\n",
              "\n",
              "  .colab-df-spinner {\n",
              "    border: 2px solid var(--fill-color);\n",
              "    border-color: transparent;\n",
              "    border-bottom-color: var(--fill-color);\n",
              "    animation:\n",
              "      spin 1s steps(1) infinite;\n",
              "  }\n",
              "\n",
              "  @keyframes spin {\n",
              "    0% {\n",
              "      border-color: transparent;\n",
              "      border-bottom-color: var(--fill-color);\n",
              "      border-left-color: var(--fill-color);\n",
              "    }\n",
              "    20% {\n",
              "      border-color: transparent;\n",
              "      border-left-color: var(--fill-color);\n",
              "      border-top-color: var(--fill-color);\n",
              "    }\n",
              "    30% {\n",
              "      border-color: transparent;\n",
              "      border-left-color: var(--fill-color);\n",
              "      border-top-color: var(--fill-color);\n",
              "      border-right-color: var(--fill-color);\n",
              "    }\n",
              "    40% {\n",
              "      border-color: transparent;\n",
              "      border-right-color: var(--fill-color);\n",
              "      border-top-color: var(--fill-color);\n",
              "    }\n",
              "    60% {\n",
              "      border-color: transparent;\n",
              "      border-right-color: var(--fill-color);\n",
              "    }\n",
              "    80% {\n",
              "      border-color: transparent;\n",
              "      border-right-color: var(--fill-color);\n",
              "      border-bottom-color: var(--fill-color);\n",
              "    }\n",
              "    90% {\n",
              "      border-color: transparent;\n",
              "      border-bottom-color: var(--fill-color);\n",
              "    }\n",
              "  }\n",
              "</style>\n",
              "\n",
              "  <script>\n",
              "    async function quickchart(key) {\n",
              "      const quickchartButtonEl =\n",
              "        document.querySelector('#' + key + ' button');\n",
              "      quickchartButtonEl.disabled = true;  // To prevent multiple clicks.\n",
              "      quickchartButtonEl.classList.add('colab-df-spinner');\n",
              "      try {\n",
              "        const charts = await google.colab.kernel.invokeFunction(\n",
              "            'suggestCharts', [key], {});\n",
              "      } catch (error) {\n",
              "        console.error('Error during call to suggestCharts:', error);\n",
              "      }\n",
              "      quickchartButtonEl.classList.remove('colab-df-spinner');\n",
              "      quickchartButtonEl.classList.add('colab-df-quickchart-complete');\n",
              "    }\n",
              "    (() => {\n",
              "      let quickchartButtonEl =\n",
              "        document.querySelector('#df-38e81f6c-b419-4c16-87fe-eb774bdb69cb button');\n",
              "      quickchartButtonEl.style.display =\n",
              "        google.colab.kernel.accessAllowed ? 'block' : 'none';\n",
              "    })();\n",
              "  </script>\n",
              "</div>\n",
              "\n",
              "    </div>\n",
              "  </div>\n"
            ],
            "application/vnd.google.colaboratory.intrinsic+json": {
              "type": "dataframe",
              "variable_name": "df",
              "summary": "{\n  \"name\": \"df\",\n  \"rows\": 529,\n  \"fields\": [\n    {\n      \"column\": \"Prediction\",\n      \"properties\": {\n        \"dtype\": \"category\",\n        \"num_unique_values\": 6,\n        \"samples\": [\n          \"aluminum can\",\n          \"glass bottle\",\n          \"boxes\"\n        ],\n        \"semantic_type\": \"\",\n        \"description\": \"\"\n      }\n    },\n    {\n      \"column\": \"Label\",\n      \"properties\": {\n        \"dtype\": \"category\",\n        \"num_unique_values\": 6,\n        \"samples\": [\n          \"glass bottle\",\n          \"plastic bottle\",\n          \"paper cup\"\n        ],\n        \"semantic_type\": \"\",\n        \"description\": \"\"\n      }\n    }\n  ]\n}"
            }
          },
          "metadata": {},
          "execution_count": 58
        }
      ]
    },
    {
      "cell_type": "code",
      "source": [
        "# replacing soda can with aluminum can\n",
        "df2 = df[['Prediction', 'Label']]\n",
        "df2['Label'] = df2['Label'].str.replace('soda can', 'aluminum can', regex=False)\n",
        "df['Prediction'] = df2['Prediction'].str.replace('soda can', 'aluminum can', regex=False)\n",
        "df2.head()"
      ],
      "metadata": {
        "colab": {
          "base_uri": "https://localhost:8080/",
          "height": 206
        },
        "id": "byMD90UEM7Sl",
        "outputId": "9bb3242b-4248-4f91-b857-a2a3cb565393"
      },
      "execution_count": 80,
      "outputs": [
        {
          "output_type": "execute_result",
          "data": {
            "text/plain": [
              "     Prediction           Label\n",
              "0  aluminum can    glass bottle\n",
              "1  glass bottle  plastic bottle\n",
              "2  aluminum can    aluminum can\n",
              "3  aluminum can    aluminum can\n",
              "4  aluminum can    glass bottle"
            ],
            "text/html": [
              "\n",
              "  <div id=\"df-ae4d7987-879c-4979-8f99-e86181012587\" class=\"colab-df-container\">\n",
              "    <div>\n",
              "<style scoped>\n",
              "    .dataframe tbody tr th:only-of-type {\n",
              "        vertical-align: middle;\n",
              "    }\n",
              "\n",
              "    .dataframe tbody tr th {\n",
              "        vertical-align: top;\n",
              "    }\n",
              "\n",
              "    .dataframe thead th {\n",
              "        text-align: right;\n",
              "    }\n",
              "</style>\n",
              "<table border=\"1\" class=\"dataframe\">\n",
              "  <thead>\n",
              "    <tr style=\"text-align: right;\">\n",
              "      <th></th>\n",
              "      <th>Prediction</th>\n",
              "      <th>Label</th>\n",
              "    </tr>\n",
              "  </thead>\n",
              "  <tbody>\n",
              "    <tr>\n",
              "      <th>0</th>\n",
              "      <td>aluminum can</td>\n",
              "      <td>glass bottle</td>\n",
              "    </tr>\n",
              "    <tr>\n",
              "      <th>1</th>\n",
              "      <td>glass bottle</td>\n",
              "      <td>plastic bottle</td>\n",
              "    </tr>\n",
              "    <tr>\n",
              "      <th>2</th>\n",
              "      <td>aluminum can</td>\n",
              "      <td>aluminum can</td>\n",
              "    </tr>\n",
              "    <tr>\n",
              "      <th>3</th>\n",
              "      <td>aluminum can</td>\n",
              "      <td>aluminum can</td>\n",
              "    </tr>\n",
              "    <tr>\n",
              "      <th>4</th>\n",
              "      <td>aluminum can</td>\n",
              "      <td>glass bottle</td>\n",
              "    </tr>\n",
              "  </tbody>\n",
              "</table>\n",
              "</div>\n",
              "    <div class=\"colab-df-buttons\">\n",
              "\n",
              "  <div class=\"colab-df-container\">\n",
              "    <button class=\"colab-df-convert\" onclick=\"convertToInteractive('df-ae4d7987-879c-4979-8f99-e86181012587')\"\n",
              "            title=\"Convert this dataframe to an interactive table.\"\n",
              "            style=\"display:none;\">\n",
              "\n",
              "  <svg xmlns=\"http://www.w3.org/2000/svg\" height=\"24px\" viewBox=\"0 -960 960 960\">\n",
              "    <path d=\"M120-120v-720h720v720H120Zm60-500h600v-160H180v160Zm220 220h160v-160H400v160Zm0 220h160v-160H400v160ZM180-400h160v-160H180v160Zm440 0h160v-160H620v160ZM180-180h160v-160H180v160Zm440 0h160v-160H620v160Z\"/>\n",
              "  </svg>\n",
              "    </button>\n",
              "\n",
              "  <style>\n",
              "    .colab-df-container {\n",
              "      display:flex;\n",
              "      gap: 12px;\n",
              "    }\n",
              "\n",
              "    .colab-df-convert {\n",
              "      background-color: #E8F0FE;\n",
              "      border: none;\n",
              "      border-radius: 50%;\n",
              "      cursor: pointer;\n",
              "      display: none;\n",
              "      fill: #1967D2;\n",
              "      height: 32px;\n",
              "      padding: 0 0 0 0;\n",
              "      width: 32px;\n",
              "    }\n",
              "\n",
              "    .colab-df-convert:hover {\n",
              "      background-color: #E2EBFA;\n",
              "      box-shadow: 0px 1px 2px rgba(60, 64, 67, 0.3), 0px 1px 3px 1px rgba(60, 64, 67, 0.15);\n",
              "      fill: #174EA6;\n",
              "    }\n",
              "\n",
              "    .colab-df-buttons div {\n",
              "      margin-bottom: 4px;\n",
              "    }\n",
              "\n",
              "    [theme=dark] .colab-df-convert {\n",
              "      background-color: #3B4455;\n",
              "      fill: #D2E3FC;\n",
              "    }\n",
              "\n",
              "    [theme=dark] .colab-df-convert:hover {\n",
              "      background-color: #434B5C;\n",
              "      box-shadow: 0px 1px 3px 1px rgba(0, 0, 0, 0.15);\n",
              "      filter: drop-shadow(0px 1px 2px rgba(0, 0, 0, 0.3));\n",
              "      fill: #FFFFFF;\n",
              "    }\n",
              "  </style>\n",
              "\n",
              "    <script>\n",
              "      const buttonEl =\n",
              "        document.querySelector('#df-ae4d7987-879c-4979-8f99-e86181012587 button.colab-df-convert');\n",
              "      buttonEl.style.display =\n",
              "        google.colab.kernel.accessAllowed ? 'block' : 'none';\n",
              "\n",
              "      async function convertToInteractive(key) {\n",
              "        const element = document.querySelector('#df-ae4d7987-879c-4979-8f99-e86181012587');\n",
              "        const dataTable =\n",
              "          await google.colab.kernel.invokeFunction('convertToInteractive',\n",
              "                                                    [key], {});\n",
              "        if (!dataTable) return;\n",
              "\n",
              "        const docLinkHtml = 'Like what you see? Visit the ' +\n",
              "          '<a target=\"_blank\" href=https://colab.research.google.com/notebooks/data_table.ipynb>data table notebook</a>'\n",
              "          + ' to learn more about interactive tables.';\n",
              "        element.innerHTML = '';\n",
              "        dataTable['output_type'] = 'display_data';\n",
              "        await google.colab.output.renderOutput(dataTable, element);\n",
              "        const docLink = document.createElement('div');\n",
              "        docLink.innerHTML = docLinkHtml;\n",
              "        element.appendChild(docLink);\n",
              "      }\n",
              "    </script>\n",
              "  </div>\n",
              "\n",
              "\n",
              "<div id=\"df-6afbc114-9698-4371-9240-a3062642eb9a\">\n",
              "  <button class=\"colab-df-quickchart\" onclick=\"quickchart('df-6afbc114-9698-4371-9240-a3062642eb9a')\"\n",
              "            title=\"Suggest charts\"\n",
              "            style=\"display:none;\">\n",
              "\n",
              "<svg xmlns=\"http://www.w3.org/2000/svg\" height=\"24px\"viewBox=\"0 0 24 24\"\n",
              "     width=\"24px\">\n",
              "    <g>\n",
              "        <path d=\"M19 3H5c-1.1 0-2 .9-2 2v14c0 1.1.9 2 2 2h14c1.1 0 2-.9 2-2V5c0-1.1-.9-2-2-2zM9 17H7v-7h2v7zm4 0h-2V7h2v10zm4 0h-2v-4h2v4z\"/>\n",
              "    </g>\n",
              "</svg>\n",
              "  </button>\n",
              "\n",
              "<style>\n",
              "  .colab-df-quickchart {\n",
              "      --bg-color: #E8F0FE;\n",
              "      --fill-color: #1967D2;\n",
              "      --hover-bg-color: #E2EBFA;\n",
              "      --hover-fill-color: #174EA6;\n",
              "      --disabled-fill-color: #AAA;\n",
              "      --disabled-bg-color: #DDD;\n",
              "  }\n",
              "\n",
              "  [theme=dark] .colab-df-quickchart {\n",
              "      --bg-color: #3B4455;\n",
              "      --fill-color: #D2E3FC;\n",
              "      --hover-bg-color: #434B5C;\n",
              "      --hover-fill-color: #FFFFFF;\n",
              "      --disabled-bg-color: #3B4455;\n",
              "      --disabled-fill-color: #666;\n",
              "  }\n",
              "\n",
              "  .colab-df-quickchart {\n",
              "    background-color: var(--bg-color);\n",
              "    border: none;\n",
              "    border-radius: 50%;\n",
              "    cursor: pointer;\n",
              "    display: none;\n",
              "    fill: var(--fill-color);\n",
              "    height: 32px;\n",
              "    padding: 0;\n",
              "    width: 32px;\n",
              "  }\n",
              "\n",
              "  .colab-df-quickchart:hover {\n",
              "    background-color: var(--hover-bg-color);\n",
              "    box-shadow: 0 1px 2px rgba(60, 64, 67, 0.3), 0 1px 3px 1px rgba(60, 64, 67, 0.15);\n",
              "    fill: var(--button-hover-fill-color);\n",
              "  }\n",
              "\n",
              "  .colab-df-quickchart-complete:disabled,\n",
              "  .colab-df-quickchart-complete:disabled:hover {\n",
              "    background-color: var(--disabled-bg-color);\n",
              "    fill: var(--disabled-fill-color);\n",
              "    box-shadow: none;\n",
              "  }\n",
              "\n",
              "  .colab-df-spinner {\n",
              "    border: 2px solid var(--fill-color);\n",
              "    border-color: transparent;\n",
              "    border-bottom-color: var(--fill-color);\n",
              "    animation:\n",
              "      spin 1s steps(1) infinite;\n",
              "  }\n",
              "\n",
              "  @keyframes spin {\n",
              "    0% {\n",
              "      border-color: transparent;\n",
              "      border-bottom-color: var(--fill-color);\n",
              "      border-left-color: var(--fill-color);\n",
              "    }\n",
              "    20% {\n",
              "      border-color: transparent;\n",
              "      border-left-color: var(--fill-color);\n",
              "      border-top-color: var(--fill-color);\n",
              "    }\n",
              "    30% {\n",
              "      border-color: transparent;\n",
              "      border-left-color: var(--fill-color);\n",
              "      border-top-color: var(--fill-color);\n",
              "      border-right-color: var(--fill-color);\n",
              "    }\n",
              "    40% {\n",
              "      border-color: transparent;\n",
              "      border-right-color: var(--fill-color);\n",
              "      border-top-color: var(--fill-color);\n",
              "    }\n",
              "    60% {\n",
              "      border-color: transparent;\n",
              "      border-right-color: var(--fill-color);\n",
              "    }\n",
              "    80% {\n",
              "      border-color: transparent;\n",
              "      border-right-color: var(--fill-color);\n",
              "      border-bottom-color: var(--fill-color);\n",
              "    }\n",
              "    90% {\n",
              "      border-color: transparent;\n",
              "      border-bottom-color: var(--fill-color);\n",
              "    }\n",
              "  }\n",
              "</style>\n",
              "\n",
              "  <script>\n",
              "    async function quickchart(key) {\n",
              "      const quickchartButtonEl =\n",
              "        document.querySelector('#' + key + ' button');\n",
              "      quickchartButtonEl.disabled = true;  // To prevent multiple clicks.\n",
              "      quickchartButtonEl.classList.add('colab-df-spinner');\n",
              "      try {\n",
              "        const charts = await google.colab.kernel.invokeFunction(\n",
              "            'suggestCharts', [key], {});\n",
              "      } catch (error) {\n",
              "        console.error('Error during call to suggestCharts:', error);\n",
              "      }\n",
              "      quickchartButtonEl.classList.remove('colab-df-spinner');\n",
              "      quickchartButtonEl.classList.add('colab-df-quickchart-complete');\n",
              "    }\n",
              "    (() => {\n",
              "      let quickchartButtonEl =\n",
              "        document.querySelector('#df-6afbc114-9698-4371-9240-a3062642eb9a button');\n",
              "      quickchartButtonEl.style.display =\n",
              "        google.colab.kernel.accessAllowed ? 'block' : 'none';\n",
              "    })();\n",
              "  </script>\n",
              "</div>\n",
              "\n",
              "    </div>\n",
              "  </div>\n"
            ],
            "application/vnd.google.colaboratory.intrinsic+json": {
              "type": "dataframe",
              "variable_name": "df2",
              "summary": "{\n  \"name\": \"df2\",\n  \"rows\": 529,\n  \"fields\": [\n    {\n      \"column\": \"Prediction\",\n      \"properties\": {\n        \"dtype\": \"category\",\n        \"num_unique_values\": 5,\n        \"samples\": [\n          \"glass bottle\",\n          \"boxes\",\n          \"paper cup\"\n        ],\n        \"semantic_type\": \"\",\n        \"description\": \"\"\n      }\n    },\n    {\n      \"column\": \"Label\",\n      \"properties\": {\n        \"dtype\": \"category\",\n        \"num_unique_values\": 5,\n        \"samples\": [\n          \"plastic bottle\",\n          \"paper cup\",\n          \"aluminum can\"\n        ],\n        \"semantic_type\": \"\",\n        \"description\": \"\"\n      }\n    }\n  ]\n}"
            }
          },
          "metadata": {},
          "execution_count": 80
        }
      ]
    },
    {
      "cell_type": "code",
      "source": [
        "# accuracy\n",
        "\n",
        "base_accuracy = string_accuracy(df['Label'], df['Prediction'])\n",
        "al_accuracy = string_accuracy(df2['Label'], df2['Prediction'])\n",
        "print('Accuracy:', base_accuracy)\n",
        "print('Accuracy when grouping soda and aluminum can:', al_accuracy)"
      ],
      "metadata": {
        "colab": {
          "base_uri": "https://localhost:8080/"
        },
        "id": "KsXrlqU8L_gv",
        "outputId": "bda010b5-0d30-4e12-a424-fc14257ffec2"
      },
      "execution_count": 81,
      "outputs": [
        {
          "output_type": "stream",
          "name": "stdout",
          "text": [
            "Accuracy: 0.5406427221172023\n",
            "Accuracy when grouping soda and aluminum can: 0.7277882797731569\n"
          ]
        }
      ]
    },
    {
      "cell_type": "code",
      "source": [
        "print(\"Unique classes in true labels:\", sorted(df2['Label'].unique()))\n",
        "print(\"Unique classes in predictions:\", sorted(df2['Prediction'].unique()))"
      ],
      "metadata": {
        "colab": {
          "base_uri": "https://localhost:8080/"
        },
        "id": "6XNwY8MHivum",
        "outputId": "264c917a-bb5b-4831-b5a7-68882dcd5d2e"
      },
      "execution_count": 82,
      "outputs": [
        {
          "output_type": "stream",
          "name": "stdout",
          "text": [
            "Unique classes in true labels: ['aluminum can', 'boxes', 'glass bottle', 'paper cup', 'plastic bottle']\n",
            "Unique classes in predictions: ['aluminum can', 'boxes', 'glass bottle', 'paper cup', 'plastic bottle']\n"
          ]
        }
      ]
    },
    {
      "cell_type": "code",
      "source": [
        "cm = confusion_matrix(df['Label'], df['Prediction'])\n",
        "\n",
        "accuracy = accuracy_score(df['Label'], df['Prediction'])\n",
        "precision = precision_score(df['Label'], df['Prediction'], average='weighted')\n",
        "recall = recall_score(df['Label'], df['Prediction'], average='weighted')\n",
        "\n",
        "plt.figure(figsize=(6, 5))\n",
        "unique_classes = sorted(df['Label'].unique())\n",
        "sns.heatmap(cm, annot=True, fmt='d', cmap='Blues', xticklabels=unique_classes, yticklabels=unique_classes)\n",
        "plt.ylabel('True Label')\n",
        "plt.xlabel('Predicted Label')\n",
        "plt.title('Confusion Matrix with Soda Cans as Separate Class')\n",
        "plt.show()\n",
        "\n",
        "print(f'Accuracy: {accuracy:.2f}')\n",
        "print(f'Weighted Precision: {precision:.2f}')\n",
        "print(f'Weighted Recall: {recall:.2f}')"
      ],
      "metadata": {
        "colab": {
          "base_uri": "https://localhost:8080/",
          "height": 681
        },
        "id": "nGozS_NugguY",
        "outputId": "c618ed20-55b6-4ac9-f096-f14bcbe1c474"
      },
      "execution_count": 84,
      "outputs": [
        {
          "output_type": "stream",
          "name": "stderr",
          "text": [
            "/usr/local/lib/python3.10/dist-packages/sklearn/metrics/_classification.py:1531: UndefinedMetricWarning: Precision is ill-defined and being set to 0.0 in labels with no predicted samples. Use `zero_division` parameter to control this behavior.\n",
            "  _warn_prf(average, modifier, f\"{metric.capitalize()} is\", len(result))\n"
          ]
        },
        {
          "output_type": "display_data",
          "data": {
            "text/plain": [
              "<Figure size 600x500 with 2 Axes>"
            ],
            "image/png": "[encoded data removed]"
          },
          "metadata": {}
        },
        {
          "output_type": "stream",
          "name": "stdout",
          "text": [
            "Accuracy: 0.54\n",
            "Weighted Precision: 0.64\n",
            "Weighted Recall: 0.54\n"
          ]
        }
      ]
    },
    {
      "cell_type": "code",
      "source": [
        "cm = confusion_matrix(df2['Label'], df2['Prediction'])\n",
        "\n",
        "accuracy = accuracy_score(df2['Label'], df2['Prediction'])\n",
        "precision = precision_score(df2['Label'], df2['Prediction'], average='weighted', zero_division=0)\n",
        "recall = recall_score(df2['Label'], df2['Prediction'], average='weighted', zero_division=0)\n",
        "\n",
        "plt.figure(figsize=(6, 5))\n",
        "unique_labels = sorted(df2['Label'].unique())\n",
        "sns.heatmap(cm, annot=True, fmt='d', cmap='Blues', xticklabels=unique_labels, yticklabels=unique_labels)\n",
        "plt.ylabel('True Label')\n",
        "plt.xlabel('Predicted Label')\n",
        "plt.title('Confusion Matrix with Soda Cans Grouped')\n",
        "plt.show()\n",
        "\n",
        "print(f'Accuracy: {accuracy:.2f}')\n",
        "print(f'Weighted Precision: {precision:.2f}')\n",
        "print(f'Weighted Recall: {recall:.2f}')"
      ],
      "metadata": {
        "colab": {
          "base_uri": "https://localhost:8080/",
          "height": 626
        },
        "id": "uuYO0wp-jcSm",
        "outputId": "132a19ed-ff09-4c07-cfea-f837186c4f32"
      },
      "execution_count": 86,
      "outputs": [
        {
          "output_type": "display_data",
          "data": {
            "text/plain": [
              "<Figure size 600x500 with 2 Axes>"
            ],
            "image/png": "[encoded data removed]"
          },
          "metadata": {}
        },
        {
          "output_type": "stream",
          "name": "stdout",
          "text": [
            "Accuracy: 0.73\n",
            "Weighted Precision: 0.80\n",
            "Weighted Recall: 0.73\n"
          ]
        }
      ]
    },
    {
      "cell_type": "code",
      "source": [
        "#looking at some of the images\n",
        "\n",
        "for b, batch in enumerate(my_dataloader):\n",
        "    images = batch[0]\n",
        "    for i in images:\n",
        "      plt.imshow(i.numpy().astype(np.uint8))\n",
        "    break"
      ],
      "metadata": {
        "colab": {
          "base_uri": "https://localhost:8080/",
          "height": 434
        },
        "id": "wSSNiMzgxoZr",
        "outputId": "d74d72a1-ee83-41a9-a6bd-a88dba035726"
      },
      "execution_count": 95,
      "outputs": [
        {
          "output_type": "display_data",
          "data": {
            "text/plain": [
              "<Figure size 640x480 with 1 Axes>"
            ],
            "image/png": "[encoded data removed]"
          },
          "metadata": {}
        }
      ]
    },
    {
      "cell_type": "code",
      "source": [
        "# old\n",
        "\n",
        "#inputs = processor(text=item_prompt, images=images[1], return_tensors='pt').to(0, torch.float16)\n",
        "#output = model.generate(**inputs, max_new_tokens=30, do_sample=False)#, temperature=0)\n",
        "#decoded_output = processor.decode(output[0], skip_special_tokens=True)\n",
        "#assist = decoded_output.find('ASSISTANT:')\n",
        "#print(decoded_output)"
      ],
      "metadata": {
        "id": "QxlnZcJiNGfg"
      },
      "execution_count": 32,
      "outputs": []
    },
    {
      "cell_type": "markdown",
      "source": [
        "## Part 2: Bin Classification"
      ],
      "metadata": {
        "id": "9bm-MJAnbBKE"
      }
    },
    {
      "cell_type": "code",
      "source": [
        "print(prompt_instruct)"
      ],
      "metadata": {
        "colab": {
          "base_uri": "https://localhost:8080/"
        },
        "id": "h86dwFbRarSp",
        "outputId": "0be59c59-4227-43f8-8d15-f2acacea0828"
      },
      "execution_count": null,
      "outputs": [
        {
          "output_type": "stream",
          "name": "stdout",
          "text": [
            "Given the following instructions for recycling in Palm Desert: \n",
            " {'Paper': ', White and colored paper, Phone books, Magazines, Junk Mail, Envelopes, File folders, Cardboard (flattened), Cartons (milk, juice, & broth), Books (remove hard covers or binding), Cardboard boxes, e.g. cereal, etc.,', 'Plastic': ', Styrofoam packing blocks, Plastic medicine bottles (empty), Plastic bottles numbered 1-7 (remove plastic film or wrap),', 'Metal&Glass': ', Aluminum, steel, and tin cans, Clean aluminum foil, Glass bottles and jars (remove lids),'} \n",
            " Use these instructions to explain how to recycle the item shown in the image.\n"
          ]
        }
      ]
    },
    {
      "cell_type": "code",
      "source": [
        "# PROMPTS\n",
        "\n",
        "#bin_prompt = f\"USER: <image>\\n{prompt_instruct}\\n Should this item be thrown in the recycling bin or trash bin based on the inputted recycling guide?\\nASSISTANT:\"\n",
        "#bin_prompt = f\"USER: <image>\\n{prompt_instruct}\\n This is a {shuffled_labels[0]}. Should this be thrown in the recycling bin?\\nASSISTANT:\"\n",
        "#bin_prompt = f\"USER: <image>\\n{prompt_instruct}\\n Should this item be recycled based on the inputted recycling guide?\\nASSISTANT:\"\n",
        "#bin_prompt = f\"USER: <image>\\n Should this item be recycled based on the inputted recycling guide?\\n{prompt_instruct}\\nASSISTANT:\"\n",
        "\n",
        "prompt_instruct2 = f\"Given the following instructions for recycling in {location}: \\n The following items can be recycled: {pd_instruc} \\n Determine if the item should be disposed of in the recycling or trash.\"\n",
        "bin_prompt = f\"USER: <image>\\n{prompt_instruct2}\\n This is a {shuffled_labels[0][0]}. Should this be thrown in the recycling bin?\\nASSISTANT:\""
      ],
      "metadata": {
        "id": "6pADopC0mUZA"
      },
      "execution_count": null,
      "outputs": []
    },
    {
      "cell_type": "code",
      "source": [
        "#inputs = processor(text=bin_prompt, images=shuffled_images[0], return_tensors='pt', max_length=512, truncation=True).to(0, torch.float16)\n",
        "#output = model.generate(**inputs, max_new_tokens=200)#, temperature=0)\n",
        "#decoded_output = processor.decode(output[0], skip_special_tokens=True)\n",
        "#print(decoded_output[decoded_output.find('ASSISTANT:'):])"
      ],
      "metadata": {
        "colab": {
          "base_uri": "https://localhost:8080/"
        },
        "id": "lAbmeFzuZ8As",
        "outputId": "f6211545-8915-4248-d303-f6abc157a320"
      },
      "execution_count": null,
      "outputs": [
        {
          "output_type": "stream",
          "name": "stdout",
          "text": [
            "ASSISTANT: Based on the instructions provided, the item should be disposed of in the recycling bin. The box is made of cardboard, which is a type of paper and is considered recyclable. It is important to recycle cardboard boxes to reduce waste and promote a more sustainable environment.\n"
          ]
        }
      ]
    },
    {
      "cell_type": "code",
      "source": [
        "# Creating a test set to avoid crashing colab\n",
        "test_set = np.array([i for i in shuffled_images[:3]])\n",
        "prompts = [f\"USER: <image>\\n{prompt_instruct2}\\n This is a {item[0]}.\\nASSISTANT:\" for item in shuffled_labels[:3]] # diff item class with each image\n",
        "#prompts = [bin_prompt] * len(test_set) # for the same prompt\n",
        "\n",
        "inputs = processor(images=test_set, text=prompts, return_tensors=\"pt\", padding=True).to(0, torch.float16)\n",
        "#inputs = processor(prompt, img, return_tensors='pt').to(0, torch.float16)\n",
        "\n",
        "with torch.no_grad():\n",
        "    outputs = model.generate(**inputs, max_new_tokens=200)\n",
        "\n",
        "# decoding the generated output\n",
        "generated_texts = processor.batch_decode(outputs, skip_special_tokens=True, clean_up_tokenization_spaces=False)"
      ],
      "metadata": {
        "id": "9h1ettGJjA23"
      },
      "execution_count": null,
      "outputs": []
    },
    {
      "cell_type": "code",
      "source": [
        "for res in generated_texts:\n",
        "  print(res[res.find('ASSISTANT:'):])"
      ],
      "metadata": {
        "colab": {
          "base_uri": "https://localhost:8080/"
        },
        "id": "DSuaB5WW0HPc",
        "outputId": "9966357d-32b9-41ad-d7de-3869e4da9ef8"
      },
      "execution_count": null,
      "outputs": [
        {
          "output_type": "stream",
          "name": "stdout",
          "text": [
            "ASSISTANT: The item should be disposed of in the recycling. The boxes are made of cardboard, which is a type of paper. Therefore, it should be placed in the recycling bin along with other paper items.\n",
            "ASSISTANT: The item should be disposed of in the recycling.\n",
            "ASSISTANT: Based on the instructions provided, the aluminum can should be disposed of in the recycling bin. Aluminum cans are typically made of recyclable materials and can be recycled to create new products. To recycle the can, it should be flattened and placed in the designated recycling bin along with other recyclable materials like paper, plastic, and metal.\n"
          ]
        }
      ]
    },
    {
      "cell_type": "code",
      "source": [],
      "metadata": {
        "id": "FpMdmvRu53WI"
      },
      "execution_count": null,
      "outputs": []
    },
    {
      "cell_type": "code",
      "source": [
        "# same as above without images\n",
        "\n",
        "# Creating a test set to avoid crashing colab\n",
        "test_set = np.array([i for i in shuffled_images[:3]])\n",
        "prompts = [f\"USER: {prompt_instruct2}\\n This is a {item[0]}.\\nASSISTANT:\" for item in shuffled_labels[:30]] # diff item class with each image\n",
        "#prompts = [bin_prompt] * len(test_set) # for the same prompt\n",
        "\n",
        "inputs = processor(text=prompts, return_tensors=\"pt\", padding=True).to(0, torch.float16)\n",
        "#inputs = processor(prompt, img, return_tensors='pt').to(0, torch.float16)\n",
        "\n",
        "with torch.no_grad():\n",
        "    outputs = model.generate(**inputs, max_new_tokens=200)\n",
        "\n",
        "# decoding the generated output\n",
        "generated_texts = processor.batch_decode(outputs, skip_special_tokens=True, clean_up_tokenization_spaces=False)"
      ],
      "metadata": {
        "colab": {
          "base_uri": "https://localhost:8080/",
          "height": 341
        },
        "id": "dLhdL0ly3tme",
        "outputId": "b4664b69-0c3e-4100-d200-c423568a0b39"
      },
      "execution_count": null,
      "outputs": [
        {
          "output_type": "error",
          "ename": "TypeError",
          "evalue": "is_floating_point(): argument 'input' (position 1) must be Tensor, not NoneType",
          "traceback": [
            "\u001b[0;31m---------------------------------------------------------------------------\u001b[0m",
            "\u001b[0;31mTypeError\u001b[0m                                 Traceback (most recent call last)",
            "\u001b[0;32m<ipython-input-105-aa5ea7bd2fd7>\u001b[0m in \u001b[0;36m<cell line: 8>\u001b[0;34m()\u001b[0m\n\u001b[1;32m      6\u001b[0m \u001b[0;31m#prompts = [bin_prompt] * len(test_set) # for the same prompt\u001b[0m\u001b[0;34m\u001b[0m\u001b[0;34m\u001b[0m\u001b[0m\n\u001b[1;32m      7\u001b[0m \u001b[0;34m\u001b[0m\u001b[0m\n\u001b[0;32m----> 8\u001b[0;31m \u001b[0minputs\u001b[0m \u001b[0;34m=\u001b[0m \u001b[0mprocessor\u001b[0m\u001b[0;34m(\u001b[0m\u001b[0mtext\u001b[0m\u001b[0;34m=\u001b[0m\u001b[0mprompts\u001b[0m\u001b[0;34m,\u001b[0m \u001b[0mreturn_tensors\u001b[0m\u001b[0;34m=\u001b[0m\u001b[0;34m\"pt\"\u001b[0m\u001b[0;34m,\u001b[0m \u001b[0mpadding\u001b[0m\u001b[0;34m=\u001b[0m\u001b[0;32mTrue\u001b[0m\u001b[0;34m)\u001b[0m\u001b[0;34m.\u001b[0m\u001b[0mto\u001b[0m\u001b[0;34m(\u001b[0m\u001b[0;36m0\u001b[0m\u001b[0;34m,\u001b[0m \u001b[0mtorch\u001b[0m\u001b[0;34m.\u001b[0m\u001b[0mfloat16\u001b[0m\u001b[0;34m)\u001b[0m\u001b[0;34m\u001b[0m\u001b[0;34m\u001b[0m\u001b[0m\n\u001b[0m\u001b[1;32m      9\u001b[0m \u001b[0;31m#inputs = processor(prompt, img, return_tensors='pt').to(0, torch.float16)\u001b[0m\u001b[0;34m\u001b[0m\u001b[0;34m\u001b[0m\u001b[0m\n\u001b[1;32m     10\u001b[0m \u001b[0;34m\u001b[0m\u001b[0m\n",
            "\u001b[0;32m/usr/local/lib/python3.10/dist-packages/transformers/feature_extraction_utils.py\u001b[0m in \u001b[0;36mto\u001b[0;34m(self, *args, **kwargs)\u001b[0m\n\u001b[1;32m    227\u001b[0m         \u001b[0;32mfor\u001b[0m \u001b[0mk\u001b[0m\u001b[0;34m,\u001b[0m \u001b[0mv\u001b[0m \u001b[0;32min\u001b[0m \u001b[0mself\u001b[0m\u001b[0;34m.\u001b[0m\u001b[0mitems\u001b[0m\u001b[0;34m(\u001b[0m\u001b[0;34m)\u001b[0m\u001b[0;34m:\u001b[0m\u001b[0;34m\u001b[0m\u001b[0;34m\u001b[0m\u001b[0m\n\u001b[1;32m    228\u001b[0m             \u001b[0;31m# check if v is a floating point\u001b[0m\u001b[0;34m\u001b[0m\u001b[0;34m\u001b[0m\u001b[0m\n\u001b[0;32m--> 229\u001b[0;31m             \u001b[0;32mif\u001b[0m \u001b[0mtorch\u001b[0m\u001b[0;34m.\u001b[0m\u001b[0mis_floating_point\u001b[0m\u001b[0;34m(\u001b[0m\u001b[0mv\u001b[0m\u001b[0;34m)\u001b[0m\u001b[0;34m:\u001b[0m\u001b[0;34m\u001b[0m\u001b[0;34m\u001b[0m\u001b[0m\n\u001b[0m\u001b[1;32m    230\u001b[0m                 \u001b[0;31m# cast and send to device\u001b[0m\u001b[0;34m\u001b[0m\u001b[0;34m\u001b[0m\u001b[0m\n\u001b[1;32m    231\u001b[0m                 \u001b[0mnew_data\u001b[0m\u001b[0;34m[\u001b[0m\u001b[0mk\u001b[0m\u001b[0;34m]\u001b[0m \u001b[0;34m=\u001b[0m \u001b[0mv\u001b[0m\u001b[0;34m.\u001b[0m\u001b[0mto\u001b[0m\u001b[0;34m(\u001b[0m\u001b[0;34m*\u001b[0m\u001b[0margs\u001b[0m\u001b[0;34m,\u001b[0m \u001b[0;34m**\u001b[0m\u001b[0mkwargs\u001b[0m\u001b[0;34m)\u001b[0m\u001b[0;34m\u001b[0m\u001b[0;34m\u001b[0m\u001b[0m\n",
            "\u001b[0;31mTypeError\u001b[0m: is_floating_point(): argument 'input' (position 1) must be Tensor, not NoneType"
          ]
        }
      ]
    },
    {
      "cell_type": "code",
      "source": [],
      "metadata": {
        "id": "p7KKB0jv3to_"
      },
      "execution_count": null,
      "outputs": []
    },
    {
      "cell_type": "code",
      "source": [],
      "metadata": {
        "id": "OMOudV6M3tui"
      },
      "execution_count": null,
      "outputs": []
    },
    {
      "cell_type": "markdown",
      "source": [
        "Where I am at:\n",
        "\n",
        "\n",
        "*   Don't need the images for this part at all, which opens up the possibility of using less heavy models **OR** improving this one's ability to classify images\n",
        "*   Can use fuzzymatching /something similar to see if output contains \"recycling bin\".\n",
        "\n"
      ],
      "metadata": {
        "id": "AEZO2gc22EV5"
      }
    },
    {
      "cell_type": "markdown",
      "source": [
        "## Part 3: Recycling Instructions"
      ],
      "metadata": {
        "id": "8u2cUM-Tk4TD"
      }
    },
    {
      "cell_type": "code",
      "source": [
        "img"
      ],
      "metadata": {
        "colab": {
          "base_uri": "https://localhost:8080/",
          "height": 168
        },
        "id": "GTAV9Idpe5wh",
        "outputId": "d793a641-d4e7-4335-dda7-3934bd1f26d2"
      },
      "execution_count": null,
      "outputs": [
        {
          "output_type": "execute_result",
          "data": {
            "text/plain": [
              "array([[[142, 119,  87],\n",
              "        [142, 119,  87],\n",
              "        [142, 119,  87],\n",
              "        ...,\n",
              "        [138, 115,  83],\n",
              "        [137, 114,  82],\n",
              "        [136, 113,  81]],\n",
              "\n",
              "       [[142, 119,  87],\n",
              "        [142, 119,  87],\n",
              "        [142, 119,  87],\n",
              "        ...,\n",
              "        [138, 115,  83],\n",
              "        [137, 114,  82],\n",
              "        [137, 114,  82]],\n",
              "\n",
              "       [[142, 119,  87],\n",
              "        [142, 119,  87],\n",
              "        [142, 119,  87],\n",
              "        ...,\n",
              "        [139, 116,  84],\n",
              "        [138, 115,  83],\n",
              "        [138, 115,  83]],\n",
              "\n",
              "       ...,\n",
              "\n",
              "       [[143, 120,  88],\n",
              "        [143, 120,  88],\n",
              "        [143, 120,  88],\n",
              "        ...,\n",
              "        [148, 124,  90],\n",
              "        [145, 121,  87],\n",
              "        [143, 119,  85]],\n",
              "\n",
              "       [[143, 120,  88],\n",
              "        [143, 120,  88],\n",
              "        [143, 120,  88],\n",
              "        ...,\n",
              "        [147, 123,  89],\n",
              "        [145, 121,  87],\n",
              "        [143, 119,  85]],\n",
              "\n",
              "       [[143, 120,  88],\n",
              "        [143, 120,  88],\n",
              "        [143, 120,  88],\n",
              "        ...,\n",
              "        [147, 123,  89],\n",
              "        [145, 121,  87],\n",
              "        [143, 119,  85]]], dtype=uint8)"
            ],
            "text/html": [
              "<style>\n",
              "      .ndarray_repr .ndarray_raw_data {\n",
              "        display: none;\n",
              "      }\n",
              "      .ndarray_repr.show_array .ndarray_raw_data {\n",
              "        display: block;\n",
              "      }\n",
              "      .ndarray_repr.show_array .ndarray_image_preview {\n",
              "        display: none;\n",
              "      }\n",
              "      </style>\n",
              "      <div id=\"id-a62dd1d0-f243-4aad-a73a-f6510e584f20\" class=\"ndarray_repr\"><pre>ndarray (128, 128, 3) <button style=\"padding: 0 2px;\">show data</button></pre><img src=\"data:image/png;base64,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\" class=\"ndarray_image_preview\" /><pre class=\"ndarray_raw_data\">array([[[142, 119,  87],\n",
              "        [142, 119,  87],\n",
              "        [142, 119,  87],\n",
              "        ...,\n",
              "        [138, 115,  83],\n",
              "        [137, 114,  82],\n",
              "        [136, 113,  81]],\n",
              "\n",
              "       [[142, 119,  87],\n",
              "        [142, 119,  87],\n",
              "        [142, 119,  87],\n",
              "        ...,\n",
              "        [138, 115,  83],\n",
              "        [137, 114,  82],\n",
              "        [137, 114,  82]],\n",
              "\n",
              "       [[142, 119,  87],\n",
              "        [142, 119,  87],\n",
              "        [142, 119,  87],\n",
              "        ...,\n",
              "        [139, 116,  84],\n",
              "        [138, 115,  83],\n",
              "        [138, 115,  83]],\n",
              "\n",
              "       ...,\n",
              "\n",
              "       [[143, 120,  88],\n",
              "        [143, 120,  88],\n",
              "        [143, 120,  88],\n",
              "        ...,\n",
              "        [148, 124,  90],\n",
              "        [145, 121,  87],\n",
              "        [143, 119,  85]],\n",
              "\n",
              "       [[143, 120,  88],\n",
              "        [143, 120,  88],\n",
              "        [143, 120,  88],\n",
              "        ...,\n",
              "        [147, 123,  89],\n",
              "        [145, 121,  87],\n",
              "        [143, 119,  85]],\n",
              "\n",
              "       [[143, 120,  88],\n",
              "        [143, 120,  88],\n",
              "        [143, 120,  88],\n",
              "        ...,\n",
              "        [147, 123,  89],\n",
              "        [145, 121,  87],\n",
              "        [143, 119,  85]]], dtype=uint8)</pre></div><script>\n",
              "      (() => {\n",
              "      const titles = ['show data', 'hide data'];\n",
              "      let index = 0\n",
              "      document.querySelector('#id-a62dd1d0-f243-4aad-a73a-f6510e584f20 button').onclick = (e) => {\n",
              "        document.querySelector('#id-a62dd1d0-f243-4aad-a73a-f6510e584f20').classList.toggle('show_array');\n",
              "        index = (++index) % 2;\n",
              "        document.querySelector('#id-a62dd1d0-f243-4aad-a73a-f6510e584f20 button').textContent = titles[index];\n",
              "        e.preventDefault();\n",
              "        e.stopPropagation();\n",
              "      }\n",
              "      })();\n",
              "    </script>"
            ]
          },
          "metadata": {},
          "execution_count": 222
        }
      ]
    },
    {
      "cell_type": "code",
      "source": [
        "inputs = processor(img, prompt, return_tensors='pt').to(0, torch.float16)\n",
        "output = model.generate(**inputs, max_new_tokens=300, do_sample=False)\n",
        "decoded_output = processor.decode(output[0], skip_special_tokens=True)\n",
        "#assist = decoded_output.find('ASSISTANT:')\n",
        "#instructs.append(decoded_output[assist:])\n",
        "print(decoded_output)"
      ],
      "metadata": {
        "colab": {
          "base_uri": "https://localhost:8080/"
        },
        "id": "hXBVDm4vk8lX",
        "outputId": "956c999a-969d-43eb-84c1-e243b84e6c9d"
      },
      "execution_count": null,
      "outputs": [
        {
          "output_type": "stream",
          "name": "stdout",
          "text": [
            "chlorophyll\n"
          ]
        }
      ]
    },
    {
      "cell_type": "code",
      "source": [],
      "metadata": {
        "id": "sbPn7Qqyk8nw"
      },
      "execution_count": null,
      "outputs": []
    },
    {
      "cell_type": "code",
      "source": [],
      "metadata": {
        "id": "xJZQR1uVk8qR"
      },
      "execution_count": null,
      "outputs": []
    },
    {
      "cell_type": "markdown",
      "source": [
        "### OLD"
      ],
      "metadata": {
        "id": "f--9ldvuk0u5"
      }
    },
    {
      "cell_type": "code",
      "source": [
        "# check if there is a better way to apply this\n",
        "\n",
        "item_type = []\n",
        "bin = []\n",
        "instructs = [] # starting with this only\n",
        "\n",
        "# probably the slowest way to do it so need to optimize\n",
        "i=0\n",
        "while i < 3:\n",
        "  for img in images:\n",
        "    inputs = processor(prompt, img, return_tensors='pt').to(0, torch.float16)\n",
        "    output = model.generate(**inputs, max_new_tokens=300, do_sample=False)\n",
        "    decoded_output = processor.decode(output[0][2:], skip_special_tokens=True)\n",
        "    assist = decoded_output.find('ASSISTANT:')\n",
        "    instructs.append(decoded_output[assist:])\n",
        "    i += 1\n",
        "  #break"
      ],
      "metadata": {
        "id": "DyJsVA23tWyo"
      },
      "execution_count": null,
      "outputs": []
    },
    {
      "cell_type": "code",
      "source": [
        "prompt = f\"USER: <image>\\n{prompt_w_instruc}\\nWhat is in the image and can it be recycled, assume things not in instructions cannot be recycled?\\nASSISTANT:\"\n",
        "inputs = processor(prompt, test_im, return_tensors='pt').to(0, torch.float16)\n",
        "\n",
        "output = model.generate(**inputs, max_new_tokens=300, do_sample=False)\n",
        "pprint(processor.decode(output[0][2:], skip_special_tokens=True))"
      ],
      "metadata": {
        "colab": {
          "base_uri": "https://localhost:8080/"
        },
        "id": "SK5il5rx5mxx",
        "outputId": "bda20780-7d12-4798-b5a6-f715d5fdb040"
      },
      "execution_count": null,
      "outputs": [
        {
          "output_type": "stream",
          "name": "stdout",
          "text": [
            "('ER:  \\n'\n",
            " 'Given the following instructions for recycling in Palm Desert: \\n'\n",
            " ' What Items Can Be Recycled\\n'\n",
            " '\\n'\n",
            " 'Paper\\t\\n'\n",
            " '- White and colored paper\\n'\n",
            " '- Phone books\\n'\n",
            " '- Magazines\\n'\n",
            " '- Junk Mail\\n'\n",
            " '- Envelopes\\n'\n",
            " '- File folders\\n'\n",
            " '- Cardboard (flattened)\\n'\n",
            " '- Cartons (milk, juice, & broth)\\n'\n",
            " '- Books (remove hard covers or binding)\\n'\n",
            " '- Cardboard boxes, e.g. cereal, etc.\\n'\n",
            " '\\n'\n",
            " 'Plastic\\n'\n",
            " '- Styrofoam packing blocks\\n'\n",
            " '- Plastic medicine bottles (empty)\\n'\n",
            " '- Plastic bottles numbered 1-7 (remove plastic film or wrap)\\n'\n",
            " '\\n'\n",
            " 'Metal & Glass\\n'\n",
            " '- Aluminum, steel, and tin cans\\n'\n",
            " '- Clean aluminum foil\\n'\n",
            " '- Glass bottles and jars (remove lids)\\n'\n",
            " 'What is in the image and can it be recycled, assume things not in '\n",
            " 'instructions cannot be recycled?\\n'\n",
            " 'ASSISTANT: In the image, there is a white cup made of paper. Based on the '\n",
            " 'instructions provided, the cup can be recycled as it is made of paper. '\n",
            " 'However, it is important to note that other items not listed in the '\n",
            " \"instructions, such as the cup's plastic lid, may not be suitable for \"\n",
            " 'recycling. To ensure proper recycling, it is essential to follow the '\n",
            " 'guidelines provided by local recycling programs or waste management '\n",
            " 'facilities.')\n"
          ]
        }
      ]
    },
    {
      "cell_type": "code",
      "source": [
        "## aluminum can\n",
        "\n",
        "prompt = f\"USER: <image>\\n{prompt_w_instruc}\\nWhat is in the image and can it be recycled?\\nASSISTANT:\"\n",
        "inputs = processor(prompt, test_im_2, return_tensors='pt').to(0, torch.float16)\n",
        "\n",
        "output = model.generate(**inputs, max_new_tokens=300, do_sample=False)\n",
        "pprint(processor.decode(output[0][2:], skip_special_tokens=True))"
      ],
      "metadata": {
        "colab": {
          "base_uri": "https://localhost:8080/"
        },
        "id": "zqNv0cte-zcI",
        "outputId": "d921211d-1602-437e-8cae-2051b0b195cc"
      },
      "execution_count": null,
      "outputs": [
        {
          "output_type": "stream",
          "name": "stdout",
          "text": [
            "('ER:  \\n'\n",
            " 'Given the following instructions for recycling in Palm Desert: \\n'\n",
            " ' What Items Can Be Recycled\\n'\n",
            " '\\n'\n",
            " 'Paper\\t\\n'\n",
            " '- White and colored paper\\n'\n",
            " '- Phone books\\n'\n",
            " '- Magazines\\n'\n",
            " '- Junk Mail\\n'\n",
            " '- Envelopes\\n'\n",
            " '- File folders\\n'\n",
            " '- Cardboard (flattened)\\n'\n",
            " '- Cartons (milk, juice, & broth)\\n'\n",
            " '- Books (remove hard covers or binding)\\n'\n",
            " '- Cardboard boxes, e.g. cereal, etc.\\n'\n",
            " '\\n'\n",
            " 'Plastic\\n'\n",
            " '- Styrofoam packing blocks\\n'\n",
            " '- Plastic medicine bottles (empty)\\n'\n",
            " '- Plastic bottles numbered 1-7 (remove plastic film or wrap)\\n'\n",
            " '\\n'\n",
            " 'Metal & Glass\\n'\n",
            " '- Aluminum, steel, and tin cans\\n'\n",
            " '- Clean aluminum foil\\n'\n",
            " '- Glass bottles and jars (remove lids)\\n'\n",
            " 'What is in the image and can it be recycled?\\n'\n",
            " 'ASSISTANT: The image features a canned food item, which is typically made of '\n",
            " 'metal. This can be recycled as part of the metal and glass recycling '\n",
            " 'category. To recycle the can, it should be removed from the food item and '\n",
            " 'placed in a recycling bin or container. The can should be cleaned and '\n",
            " 'flattened if possible, and then it can be recycled along with other metal '\n",
            " 'and glass items.')\n"
          ]
        }
      ]
    },
    {
      "cell_type": "code",
      "source": [
        "with open(\"cook_county_recycling_instruc.txt\", \"r\", encoding = 'utf-8') as file:\n",
        "  cc_instruc = file.read()"
      ],
      "metadata": {
        "id": "J9_7fA-X61KD"
      },
      "execution_count": null,
      "outputs": []
    },
    {
      "cell_type": "code",
      "source": [
        "prompt_start_w_instruc = f\"Given the following instructions for recycling: \\n {cc_instruc}\""
      ],
      "metadata": {
        "id": "Vzg70zU89mKD"
      },
      "execution_count": null,
      "outputs": []
    },
    {
      "cell_type": "code",
      "source": [
        "prompt = f\"USER: <image>\\n{prompt_start_w_instruc}\\nWhat is in the image and can it be recycled?\\nASSISTANT:\"\n",
        "inputs = processor(prompt, test_im, return_tensors='pt').to(0, torch.float16)\n",
        "\n",
        "output = model.generate(**inputs, max_new_tokens=300, do_sample=False)\n",
        "pprint(processor.decode(output[0][2:], skip_special_tokens=True))"
      ],
      "metadata": {
        "colab": {
          "base_uri": "https://localhost:8080/"
        },
        "id": "ivfBLGp-9uxb",
        "outputId": "50230008-490d-44ae-ec69-e1c67ab84146"
      },
      "execution_count": null,
      "outputs": [
        {
          "output_type": "stream",
          "name": "stdout",
          "text": [
            "('ER:  \\n'\n",
            " 'Given the following instructions for recycling: \\n'\n",
            " ' FAQs: Recycling and Proper Disposal CAPS  \\n'\n",
            " '      \\n'\n",
            " '\\n'\n",
            " '  Credit: Recycle by City Always replace your cap onto the empty and clean '\n",
            " 'plastic bottle it came from. Then, place into your recycling bin to ensure '\n",
            " 'both plastic components are successfully processed at your local recycling '\n",
            " 'facility. CLEAN, EMPTY AND DRY RECYCLABLES\\n'\n",
            " '      \\n'\n",
            " '\\n'\n",
            " '  Before you place your recyclable item into your bin, rinse it clean and '\n",
            " 'allow it to dry. Soap is not necessary. Clean recyclables reduce '\n",
            " 'contamination of recycling batches. Contamination can result in recyclable '\n",
            " 'materials being sent to the landfill.SHREDDED PAPER\\n'\n",
            " '      \\n'\n",
            " '\\n'\n",
            " '  Shredded paper should not be placed in your curbside recycling bin. The '\n",
            " 'small size of the fragmented pieces does not allow for proper sorting at the '\n",
            " 'recycling facility. Generally, items smaller than a credit card should not '\n",
            " 'be put in the recycling bin as they are difficult to sort at '\n",
            " 'facilities.BAGGED RECYCLABLES \\n'\n",
            " '      \\n'\n",
            " '\\n'\n",
            " '  Do not bag your recyclables. Keep your items loose in your bin. Unlike '\n",
            " 'garbage where everything in the trash bag goes to the same place: the '\n",
            " 'landfill, the items in the recycling bin must be sorted. To increase the '\n",
            " 'ease of sorting, please place your items directly into your recycling '\n",
            " 'bin.Recycling Tip: Use paper bags to collect your recycling. Then, pour the '\n",
            " 'contents directly into the recycling bin, fold up the paper bag, and place '\n",
            " 'into the bin, as well. If you do not have paper bags and you need to collect '\n",
            " 'your items in a bag, use a trash bag but dump the contents directly into the '\n",
            " 'recycling bin and reuse the trash bag. PLASTIC BAGS \\n'\n",
            " '      \\n'\n",
            " '\\n'\n",
            " '  Plastic bags can become tangled in recycling equipment and should never be '\n",
            " 'placed in your curbside recycling bin. Instead, recycle them at '\n",
            " 'participating grocery and retail stores. Click here for locations near you. '\n",
            " 'PLASTIC STORAGE BAGS AND WRAP \\n'\n",
            " '      \\n'\n",
            " '\\n'\n",
            " '  Like plastic bags, plastic storage bags and plastic wrap cannot go in '\n",
            " 'curbside recycling.\\xa0Following our waste hierarchy, consider:\\xa0Reducing '\n",
            " 'your use of these items or switching over to reusable storage bags or '\n",
            " 'containers. Reusing the bag for items like pens and pencils. Recycling the '\n",
            " 'bag or wrap at participating grocery or retail stores; click here for '\n",
            " 'locations near you. PLASTIC PACKAGING MATERIALS \\n'\n",
            " '      \\n'\n",
            " '\\n'\n",
            " '    \\n'\n",
            " '      \\n'\n",
            " '\\n'\n",
            " '  Online packaging materials made from plastic film cannot go in your '\n",
            " 'curbside recycling bin. You can recycle these plastic materials at locations '\n",
            " 'accepting plastic film. To find a recycling location near you, click here. '\n",
            " 'TIRESAccording to the Illinois Environmental Protection Agency (IEPA), '\n",
            " 'Illinois residents generate more than 14 million used tires per year and '\n",
            " 'none of the tires can go to the landfill as they are banned by state law. If '\n",
            " 'improperly disposed, tires can exacerbate vector-borne diseases by providing '\n",
            " 'habitat for vectors, such as mosquitos. Further, dumping of these tires can '\n",
            " 'pose serious degradation to properties, as pictured below. \\n'\n",
            " '      \\n'\n",
            " '\\n'\n",
            " '  Before forced removal by the IEPA in cooperation with Cook County\\xa0  \\n'\n",
            " '      \\n'\n",
            " '\\n'\n",
            " '  After the forced removal by the IEPA in cooperation with Cook County\\xa0Do '\n",
            " 'you have an old tire you need to get rid of? Visit Earth911’s guide for '\n",
            " 'guidance on recycling used tires.\\xa0For a list of used tire processors, '\n",
            " 'visit this page from IEPA.\\xa0Want to repurpose your used tire? Consider new '\n",
            " 'items you can make out of your old, clean tires, like a tire swing or a '\n",
            " 'planter. For more fun ideas, check out this video.\\xa0WASTE COLLECTIONS FOR '\n",
            " 'RESIDENTIAL VERSUS COMMERCIAL ENTITIES  \\n'\n",
            " '      \\n'\n",
            " '\\n'\n",
            " '  Many one-day events or permanent collection sites will only accept '\n",
            " 'residential waste.\\xa0If you are a business or organization, please contact '\n",
            " 'the event or site coordinator before dropping off any waste materials.\\xa0'\n",
            " 'MOTOR OIL\\xa0  \\n'\n",
            " '      \\n'\n",
            " '\\n'\n",
            " '  Motor oil cannot be sent to the landfill and can pose risks to our '\n",
            " 'waterways and wildlife if not disposed of properly.\\xa0 Instead, you can '\n",
            " 'drop off your oil at the following: Auto parts stores and household '\n",
            " 'hazardous waste facilities. Additionally, all sites listed above in '\n",
            " 'Permanent Household Hazardous Waste Drop-Off Centers accept automotive '\n",
            " 'oil.\\xa0\\xa0PROPANE CYLINDERS\\xa0  \\n'\n",
            " '      \\n'\n",
            " '\\n'\n",
            " '  Propane tanks can cause serious dangers to recycling facilities as they '\n",
            " 'have been found to explode. To ensure your own safety and that of the waste '\n",
            " 'haulers, please dispose of tanks in the proper ways:\\xa0Do not put in '\n",
            " 'recycling bin.\\xa0Do not put in trash.\\xa0Some retailers of propane will '\n",
            " 'accept trade-in tanks for new, filled tanks.\\xa0Contact the manufacturer of '\n",
            " 'the tank for proper disposal.\\xa0Some household hazardous waste drop-off '\n",
            " 'centers will accept tanks. Please call ahead before.\\xa0Naperville Household '\n",
            " 'Hazardous Waste Facility takes large grill tanks only.\\xa0City of Chicago '\n",
            " 'Household Chemicals & Computer Recycling Facility will accept BBQ tanks.\\xa0'\n",
            " 'Some scrap metal recyclers take tanks. Please call ahead before.\\xa0\\xa0'\n",
            " 'Eliminate the need for disposal by purchasing a refillable tank.\\xa0COFFEE '\n",
            " 'CUPS  \\n'\n",
            " '      \\n'\n",
            " '\\n'\n",
            " '  Your cup of joe is a recycling no. Lids, straws, and hot beverage cups '\n",
            " 'should be kept out of your curbside recycling bin. Despite the paper '\n",
            " 'composition of hot beverage cups, they contain a lining that degrades the '\n",
            " 'overall quality of the recycling batch and should not be recycled in your '\n",
            " 'bin. For iced coffee, some uncertainty remains about whether the plastic cup '\n",
            " 'is recyclable. Please check with your local authority to determine whether '\n",
            " 'plastic coffee cups can go in your bin.\\xa0\\xa0To reduce waste and save '\n",
            " 'resources, use a reusable coffee cup and straw! Some coffee establishments '\n",
            " 'even offer discounts when you bring your own cup/mug. BLACK PLASTIC   \\n'\n",
            " '      \\n'\n",
            " '\\n'\n",
            " '  Credit: CuBE Plastics\\xa0Black plastic should not be placed in curbside '\n",
            " 'recycling. It tends to confuse the recycling technology and cannot always be '\n",
            " 'properly sorted. This can decrease the quality of recycling stocks and cause '\n",
            " 'potential market issues. Please throw black plastic in the trash and '\n",
            " 'consider how you can eliminate future use. One suggestion would be to bring '\n",
            " 'your own container to take home leftovers from a restaurant.\\xa0PUMPS AND '\n",
            " 'NOZZLES FROM PLASTIC BOTTLES  \\n'\n",
            " '      \\n'\n",
            " '\\n'\n",
            " '  Please keep all pump and nozzles, like those found on lotions and shampoo '\n",
            " 'bottles, out of the recycling bin. Generally, these are made of plastic but '\n",
            " 'also contain metal components, like springs, that cannot be recycled with '\n",
            " 'the plastic of the pump/nozzle nor bottle. Please remove all nozzles and '\n",
            " 'pumps before recycling your plastic bottles.\\xa0BIODEGRADABLE OR COMPOSTABLE '\n",
            " 'OBJECTS IN CURBSIDE RECYCLING\\xa0  \\n'\n",
            " '      \\n'\n",
            " '\\n'\n",
            " '  Biodegradable and compostable items should be kept out of curbside '\n",
            " 'recycling. Even if made from bioplastics, they are not the same as '\n",
            " 'traditional plastics accepted by recycling facilities and should not be '\n",
            " 'placed in your bin. Instead, these items should be sent to an industrial '\n",
            " 'composting facility, checking with the facility to confirm that they accept '\n",
            " 'such products. Industrial facilities are the best option because '\n",
            " 'unfortunately many of these items require much higher temperatures than '\n",
            " 'backyard composting allows. If you do not have access to an industrial '\n",
            " 'composting facility that accepts these products, please place them in the '\n",
            " 'trash. PIZZA BOXES  \\n'\n",
            " '      \\n'\n",
            " '\\n'\n",
            " '  Even though pizza boxes are cardboard, they can cause contamination due to '\n",
            " 'grease and food particles. Try ripping off the clean top portion of the box '\n",
            " 'and recycling that instead. Ideally, rip off the top of the box even if the '\n",
            " 'pizza box has no food particles or grease. This helps the chances that your '\n",
            " 'box will be recycled because workers at recycling facilities do not have '\n",
            " 'time to check every pizza box that comes down their conveyor and may '\n",
            " 'instinctually pull and throw away pizza boxes that they see.\\xa0The '\n",
            " 'Department of Environment and Sustainability does not accept or pick-up '\n",
            " 'recyclable goods or waste. If you have questions on how to recycle or '\n",
            " 'dispose of an item after reviewing our library, contact us at '\n",
            " 'WasteandRecycling@CookCountyil.gov\\n'\n",
            " 'What is in the image and can it be recycled?\\n'\n",
            " 'ASSISTANT: The image shows a white cup, which is a paper cup. Paper cups can '\n",
            " 'be recycled, as long as they are clean and free of any contaminants. It is '\n",
            " 'important to remove any labels or stickers before placing the paper cup in '\n",
            " 'the recycling bin. Once the paper cup is collected and processed, it can be '\n",
            " 'used again to make new paper products.')\n"
          ]
        }
      ]
    },
    {
      "cell_type": "code",
      "source": [
        "# aluminum can image experimentation\n",
        "\n",
        "prompt = f\"USER: <image>\\n{prompt_start_w_instruc}\\nWhat is in the image and can it be recycled?\\nASSISTANT:\"\n",
        "inputs = processor(prompt, test_im_2, return_tensors='pt').to(0, torch.float16)\n",
        "\n",
        "output = model.generate(**inputs, max_new_tokens=300, do_sample=False)\n",
        "pprint(processor.decode(output[0][2:], skip_special_tokens=True))"
      ],
      "metadata": {
        "colab": {
          "base_uri": "https://localhost:8080/"
        },
        "id": "ipdpylI4_KJb",
        "outputId": "d73ef228-77a0-4a86-d20b-eb2f4c46e86f"
      },
      "execution_count": null,
      "outputs": [
        {
          "output_type": "stream",
          "name": "stdout",
          "text": [
            "('ER:  \\n'\n",
            " 'Given the following instructions for recycling: \\n'\n",
            " ' FAQs: Recycling and Proper Disposal CAPS  \\n'\n",
            " '      \\n'\n",
            " '\\n'\n",
            " '  Credit: Recycle by City Always replace your cap onto the empty and clean '\n",
            " 'plastic bottle it came from. Then, place into your recycling bin to ensure '\n",
            " 'both plastic components are successfully processed at your local recycling '\n",
            " 'facility. CLEAN, EMPTY AND DRY RECYCLABLES\\n'\n",
            " '      \\n'\n",
            " '\\n'\n",
            " '  Before you place your recyclable item into your bin, rinse it clean and '\n",
            " 'allow it to dry. Soap is not necessary. Clean recyclables reduce '\n",
            " 'contamination of recycling batches. Contamination can result in recyclable '\n",
            " 'materials being sent to the landfill.SHREDDED PAPER\\n'\n",
            " '      \\n'\n",
            " '\\n'\n",
            " '  Shredded paper should not be placed in your curbside recycling bin. The '\n",
            " 'small size of the fragmented pieces does not allow for proper sorting at the '\n",
            " 'recycling facility. Generally, items smaller than a credit card should not '\n",
            " 'be put in the recycling bin as they are difficult to sort at '\n",
            " 'facilities.BAGGED RECYCLABLES \\n'\n",
            " '      \\n'\n",
            " '\\n'\n",
            " '  Do not bag your recyclables. Keep your items loose in your bin. Unlike '\n",
            " 'garbage where everything in the trash bag goes to the same place: the '\n",
            " 'landfill, the items in the recycling bin must be sorted. To increase the '\n",
            " 'ease of sorting, please place your items directly into your recycling '\n",
            " 'bin.Recycling Tip: Use paper bags to collect your recycling. Then, pour the '\n",
            " 'contents directly into the recycling bin, fold up the paper bag, and place '\n",
            " 'into the bin, as well. If you do not have paper bags and you need to collect '\n",
            " 'your items in a bag, use a trash bag but dump the contents directly into the '\n",
            " 'recycling bin and reuse the trash bag. PLASTIC BAGS \\n'\n",
            " '      \\n'\n",
            " '\\n'\n",
            " '  Plastic bags can become tangled in recycling equipment and should never be '\n",
            " 'placed in your curbside recycling bin. Instead, recycle them at '\n",
            " 'participating grocery and retail stores. Click here for locations near you. '\n",
            " 'PLASTIC STORAGE BAGS AND WRAP \\n'\n",
            " '      \\n'\n",
            " '\\n'\n",
            " '  Like plastic bags, plastic storage bags and plastic wrap cannot go in '\n",
            " 'curbside recycling.\\xa0Following our waste hierarchy, consider:\\xa0Reducing '\n",
            " 'your use of these items or switching over to reusable storage bags or '\n",
            " 'containers. Reusing the bag for items like pens and pencils. Recycling the '\n",
            " 'bag or wrap at participating grocery or retail stores; click here for '\n",
            " 'locations near you. PLASTIC PACKAGING MATERIALS \\n'\n",
            " '      \\n'\n",
            " '\\n'\n",
            " '    \\n'\n",
            " '      \\n'\n",
            " '\\n'\n",
            " '  Online packaging materials made from plastic film cannot go in your '\n",
            " 'curbside recycling bin. You can recycle these plastic materials at locations '\n",
            " 'accepting plastic film. To find a recycling location near you, click here. '\n",
            " 'TIRESAccording to the Illinois Environmental Protection Agency (IEPA), '\n",
            " 'Illinois residents generate more than 14 million used tires per year and '\n",
            " 'none of the tires can go to the landfill as they are banned by state law. If '\n",
            " 'improperly disposed, tires can exacerbate vector-borne diseases by providing '\n",
            " 'habitat for vectors, such as mosquitos. Further, dumping of these tires can '\n",
            " 'pose serious degradation to properties, as pictured below. \\n'\n",
            " '      \\n'\n",
            " '\\n'\n",
            " '  Before forced removal by the IEPA in cooperation with Cook County\\xa0  \\n'\n",
            " '      \\n'\n",
            " '\\n'\n",
            " '  After the forced removal by the IEPA in cooperation with Cook County\\xa0Do '\n",
            " 'you have an old tire you need to get rid of? Visit Earth911’s guide for '\n",
            " 'guidance on recycling used tires.\\xa0For a list of used tire processors, '\n",
            " 'visit this page from IEPA.\\xa0Want to repurpose your used tire? Consider new '\n",
            " 'items you can make out of your old, clean tires, like a tire swing or a '\n",
            " 'planter. For more fun ideas, check out this video.\\xa0WASTE COLLECTIONS FOR '\n",
            " 'RESIDENTIAL VERSUS COMMERCIAL ENTITIES  \\n'\n",
            " '      \\n'\n",
            " '\\n'\n",
            " '  Many one-day events or permanent collection sites will only accept '\n",
            " 'residential waste.\\xa0If you are a business or organization, please contact '\n",
            " 'the event or site coordinator before dropping off any waste materials.\\xa0'\n",
            " 'MOTOR OIL\\xa0  \\n'\n",
            " '      \\n'\n",
            " '\\n'\n",
            " '  Motor oil cannot be sent to the landfill and can pose risks to our '\n",
            " 'waterways and wildlife if not disposed of properly.\\xa0 Instead, you can '\n",
            " 'drop off your oil at the following: Auto parts stores and household '\n",
            " 'hazardous waste facilities. Additionally, all sites listed above in '\n",
            " 'Permanent Household Hazardous Waste Drop-Off Centers accept automotive '\n",
            " 'oil.\\xa0\\xa0PROPANE CYLINDERS\\xa0  \\n'\n",
            " '      \\n'\n",
            " '\\n'\n",
            " '  Propane tanks can cause serious dangers to recycling facilities as they '\n",
            " 'have been found to explode. To ensure your own safety and that of the waste '\n",
            " 'haulers, please dispose of tanks in the proper ways:\\xa0Do not put in '\n",
            " 'recycling bin.\\xa0Do not put in trash.\\xa0Some retailers of propane will '\n",
            " 'accept trade-in tanks for new, filled tanks.\\xa0Contact the manufacturer of '\n",
            " 'the tank for proper disposal.\\xa0Some household hazardous waste drop-off '\n",
            " 'centers will accept tanks. Please call ahead before.\\xa0Naperville Household '\n",
            " 'Hazardous Waste Facility takes large grill tanks only.\\xa0City of Chicago '\n",
            " 'Household Chemicals & Computer Recycling Facility will accept BBQ tanks.\\xa0'\n",
            " 'Some scrap metal recyclers take tanks. Please call ahead before.\\xa0\\xa0'\n",
            " 'Eliminate the need for disposal by purchasing a refillable tank.\\xa0COFFEE '\n",
            " 'CUPS  \\n'\n",
            " '      \\n'\n",
            " '\\n'\n",
            " '  Your cup of joe is a recycling no. Lids, straws, and hot beverage cups '\n",
            " 'should be kept out of your curbside recycling bin. Despite the paper '\n",
            " 'composition of hot beverage cups, they contain a lining that degrades the '\n",
            " 'overall quality of the recycling batch and should not be recycled in your '\n",
            " 'bin. For iced coffee, some uncertainty remains about whether the plastic cup '\n",
            " 'is recyclable. Please check with your local authority to determine whether '\n",
            " 'plastic coffee cups can go in your bin.\\xa0\\xa0To reduce waste and save '\n",
            " 'resources, use a reusable coffee cup and straw! Some coffee establishments '\n",
            " 'even offer discounts when you bring your own cup/mug. BLACK PLASTIC   \\n'\n",
            " '      \\n'\n",
            " '\\n'\n",
            " '  Credit: CuBE Plastics\\xa0Black plastic should not be placed in curbside '\n",
            " 'recycling. It tends to confuse the recycling technology and cannot always be '\n",
            " 'properly sorted. This can decrease the quality of recycling stocks and cause '\n",
            " 'potential market issues. Please throw black plastic in the trash and '\n",
            " 'consider how you can eliminate future use. One suggestion would be to bring '\n",
            " 'your own container to take home leftovers from a restaurant.\\xa0PUMPS AND '\n",
            " 'NOZZLES FROM PLASTIC BOTTLES  \\n'\n",
            " '      \\n'\n",
            " '\\n'\n",
            " '  Please keep all pump and nozzles, like those found on lotions and shampoo '\n",
            " 'bottles, out of the recycling bin. Generally, these are made of plastic but '\n",
            " 'also contain metal components, like springs, that cannot be recycled with '\n",
            " 'the plastic of the pump/nozzle nor bottle. Please remove all nozzles and '\n",
            " 'pumps before recycling your plastic bottles.\\xa0BIODEGRADABLE OR COMPOSTABLE '\n",
            " 'OBJECTS IN CURBSIDE RECYCLING\\xa0  \\n'\n",
            " '      \\n'\n",
            " '\\n'\n",
            " '  Biodegradable and compostable items should be kept out of curbside '\n",
            " 'recycling. Even if made from bioplastics, they are not the same as '\n",
            " 'traditional plastics accepted by recycling facilities and should not be '\n",
            " 'placed in your bin. Instead, these items should be sent to an industrial '\n",
            " 'composting facility, checking with the facility to confirm that they accept '\n",
            " 'such products. Industrial facilities are the best option because '\n",
            " 'unfortunately many of these items require much higher temperatures than '\n",
            " 'backyard composting allows. If you do not have access to an industrial '\n",
            " 'composting facility that accepts these products, please place them in the '\n",
            " 'trash. PIZZA BOXES  \\n'\n",
            " '      \\n'\n",
            " '\\n'\n",
            " '  Even though pizza boxes are cardboard, they can cause contamination due to '\n",
            " 'grease and food particles. Try ripping off the clean top portion of the box '\n",
            " 'and recycling that instead. Ideally, rip off the top of the box even if the '\n",
            " 'pizza box has no food particles or grease. This helps the chances that your '\n",
            " 'box will be recycled because workers at recycling facilities do not have '\n",
            " 'time to check every pizza box that comes down their conveyor and may '\n",
            " 'instinctually pull and throw away pizza boxes that they see.\\xa0The '\n",
            " 'Department of Environment and Sustainability does not accept or pick-up '\n",
            " 'recyclable goods or waste. If you have questions on how to recycle or '\n",
            " 'dispose of an item after reviewing our library, contact us at '\n",
            " 'WasteandRecycling@CookCountyil.gov\\n'\n",
            " 'What is in the image and can it be recycled?\\n'\n",
            " 'ASSISTANT: The image features a can of soda, which can be recycled. The can '\n",
            " 'is made of aluminum, a highly recyclable material. After the can is used, it '\n",
            " 'can be collected and taken to a recycling facility, where it will be '\n",
            " 'processed and melted to create new cans or other aluminum products. Aluminum '\n",
            " 'recycling is an essential part of reducing waste and conserving resources.')\n"
          ]
        }
      ]
    }
  ]
}